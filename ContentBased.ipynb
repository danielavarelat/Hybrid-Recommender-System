{
 "cells": [
  {
   "cell_type": "code",
   "execution_count": 131,
   "metadata": {},
   "outputs": [],
   "source": [
    "import pickle\n",
    "import pandas as pd\n",
    "import scipy\n",
    "import numpy as np\n",
    "import sklearn\n",
    "from sklearn.metrics.pairwise import cosine_similarity"
   ]
  },
  {
   "cell_type": "code",
   "execution_count": 130,
   "metadata": {},
   "outputs": [],
   "source": [
    "import keywords\n"
   ]
  },
  {
   "cell_type": "code",
   "execution_count": 171,
   "metadata": {},
   "outputs": [],
   "source": []
  },
  {
   "cell_type": "code",
   "execution_count": null,
   "metadata": {},
   "outputs": [],
   "source": []
  },
  {
   "cell_type": "code",
   "execution_count": 160,
   "metadata": {},
   "outputs": [],
   "source": [
    "with open('tfidf.pkl', 'rb') as f:  \n",
    "    tfidf_matrix, tfidf_feature_names, full_item_ids = pickle.load(f)"
   ]
  },
  {
   "cell_type": "code",
   "execution_count": 161,
   "metadata": {},
   "outputs": [],
   "source": [
    "with open('interactions.pkl', 'rb') as f:  \n",
    "    utility_matrix, interactions_work = pickle.load(f)"
   ]
  },
  {
   "cell_type": "code",
   "execution_count": 170,
   "metadata": {},
   "outputs": [
    {
     "data": {
      "text/plain": [
       "129"
      ]
     },
     "execution_count": 170,
     "metadata": {},
     "output_type": "execute_result"
    }
   ],
   "source": [
    "items_subset = list(interactions_work.contentId.unique())\n",
    "len(items_subset)"
   ]
  },
  {
   "cell_type": "code",
   "execution_count": 199,
   "metadata": {},
   "outputs": [
    {
     "data": {
      "text/html": [
       "<div>\n",
       "<style scoped>\n",
       "    .dataframe tbody tr th:only-of-type {\n",
       "        vertical-align: middle;\n",
       "    }\n",
       "\n",
       "    .dataframe tbody tr th {\n",
       "        vertical-align: top;\n",
       "    }\n",
       "\n",
       "    .dataframe thead th {\n",
       "        text-align: right;\n",
       "    }\n",
       "</style>\n",
       "<table border=\"1\" class=\"dataframe\">\n",
       "  <thead>\n",
       "    <tr style=\"text-align: right;\">\n",
       "      <th></th>\n",
       "      <th>personId</th>\n",
       "      <th>contentId</th>\n",
       "      <th>rating</th>\n",
       "    </tr>\n",
       "  </thead>\n",
       "  <tbody>\n",
       "    <tr>\n",
       "      <th>0</th>\n",
       "      <td>-9016528795238256703</td>\n",
       "      <td>-6136272094613269629</td>\n",
       "      <td>2.0</td>\n",
       "    </tr>\n",
       "    <tr>\n",
       "      <th>1</th>\n",
       "      <td>-9016528795238256703</td>\n",
       "      <td>-2711301039947937868</td>\n",
       "      <td>2.0</td>\n",
       "    </tr>\n",
       "    <tr>\n",
       "      <th>2</th>\n",
       "      <td>-9016528795238256703</td>\n",
       "      <td>-1590585250246572231</td>\n",
       "      <td>2.0</td>\n",
       "    </tr>\n",
       "    <tr>\n",
       "      <th>3</th>\n",
       "      <td>-9016528795238256703</td>\n",
       "      <td>1933229167501870037</td>\n",
       "      <td>2.0</td>\n",
       "    </tr>\n",
       "    <tr>\n",
       "      <th>4</th>\n",
       "      <td>-9016528795238256703</td>\n",
       "      <td>5191381587333696286</td>\n",
       "      <td>2.0</td>\n",
       "    </tr>\n",
       "    <tr>\n",
       "      <th>5</th>\n",
       "      <td>-9016528795238256703</td>\n",
       "      <td>6200172800690402606</td>\n",
       "      <td>2.0</td>\n",
       "    </tr>\n",
       "  </tbody>\n",
       "</table>\n",
       "</div>"
      ],
      "text/plain": [
       "              personId            contentId  rating\n",
       "0 -9016528795238256703 -6136272094613269629     2.0\n",
       "1 -9016528795238256703 -2711301039947937868     2.0\n",
       "2 -9016528795238256703 -1590585250246572231     2.0\n",
       "3 -9016528795238256703  1933229167501870037     2.0\n",
       "4 -9016528795238256703  5191381587333696286     2.0\n",
       "5 -9016528795238256703  6200172800690402606     2.0"
      ]
     },
     "execution_count": 199,
     "metadata": {},
     "output_type": "execute_result"
    }
   ],
   "source": [
    "interactions_work[interactions_work['personId']==USER]"
   ]
  },
  {
   "cell_type": "markdown",
   "metadata": {},
   "source": [
    "## Build item and user vector (profile)"
   ]
  },
  {
   "cell_type": "code",
   "execution_count": 127,
   "metadata": {},
   "outputs": [],
   "source": [
    "def get_items_profile(full_ids, items_ids, tfidf_matrix):\n",
    "    item_profiles_list = [tfidf_matrix[full_ids.index(x):full_ids.index(x)+1] for x in items_ids]\n",
    "    item_profiles = scipy.sparse.vstack(item_profiles_list)\n",
    "    return item_profiles\n",
    "\n",
    "def build_user_profile(user_id, interactions, full_item_list, tfidf_matrix):\n",
    "    interactions_person_df = interactions.set_index('personId').loc[user_id]\n",
    "    items_interacted_profiles = get_items_profile(full_item_list, interactions_person_df['contentId'], tfidf_matrix)\n",
    "    user_item_ratings = np.array(interactions_person_df['rating']).reshape(-1,1)\n",
    "    weighted_avg = np.sum(items_interacted_profiles.multiply(user_item_ratings), axis=0) / np.sum(user_item_ratings)\n",
    "    user_profile_normalized = sklearn.preprocessing.normalize(weighted_avg)\n",
    "    return user_profile_normalized"
   ]
  },
  {
   "cell_type": "code",
   "execution_count": 128,
   "metadata": {},
   "outputs": [],
   "source": [
    "ITEM = -4110354420726924665\n",
    "USER = -9016528795238256703\n",
    "profile = build_user_profile(USER, interactions_work, full_item_ids, tfidf_matrix)\n",
    "\n",
    "topn = sorted(profile[0,:], reverse=True)[0:10]\n",
    "index_topn = np.argsort(-profile[0,:])[0:10]\n",
    "important_words = [tfidf_feature_names[idx] for idx in index_topn]"
   ]
  },
  {
   "cell_type": "markdown",
   "metadata": {},
   "source": [
    "## Similarities"
   ]
  },
  {
   "cell_type": "code",
   "execution_count": 243,
   "metadata": {},
   "outputs": [
    {
     "data": {
      "text/html": [
       "<div>\n",
       "<style scoped>\n",
       "    .dataframe tbody tr th:only-of-type {\n",
       "        vertical-align: middle;\n",
       "    }\n",
       "\n",
       "    .dataframe tbody tr th {\n",
       "        vertical-align: top;\n",
       "    }\n",
       "\n",
       "    .dataframe thead th {\n",
       "        text-align: right;\n",
       "    }\n",
       "</style>\n",
       "<table border=\"1\" class=\"dataframe\">\n",
       "  <thead>\n",
       "    <tr style=\"text-align: right;\">\n",
       "      <th></th>\n",
       "      <th>-4374331682165863764</th>\n",
       "      <th>809601605585939618</th>\n",
       "      <th>-8773118241761372618</th>\n",
       "      <th>-7315032288233856709</th>\n",
       "      <th>-2176468683077766369</th>\n",
       "      <th>-4102297002729307038</th>\n",
       "      <th>2709926970543371965</th>\n",
       "      <th>6157037646878010131</th>\n",
       "      <th>-6142462826726347616</th>\n",
       "      <th>-4760639635023250284</th>\n",
       "      <th>...</th>\n",
       "      <th>6652210819857467321</th>\n",
       "      <th>-2778760500673113802</th>\n",
       "      <th>1003778007373126185</th>\n",
       "      <th>-4110354420726924665</th>\n",
       "      <th>5619251370090681244</th>\n",
       "      <th>84318068629167514</th>\n",
       "      <th>3703141283586666995</th>\n",
       "      <th>-7101541512657907485</th>\n",
       "      <th>3067875254349597654</th>\n",
       "      <th>7767869406844505704</th>\n",
       "    </tr>\n",
       "  </thead>\n",
       "  <tbody>\n",
       "    <tr>\n",
       "      <th>0</th>\n",
       "      <td>0.193578</td>\n",
       "      <td>0.049124</td>\n",
       "      <td>0.108123</td>\n",
       "      <td>0.074888</td>\n",
       "      <td>0.22369</td>\n",
       "      <td>0.13895</td>\n",
       "      <td>0.001444</td>\n",
       "      <td>0.01243</td>\n",
       "      <td>0.28966</td>\n",
       "      <td>0.054628</td>\n",
       "      <td>...</td>\n",
       "      <td>0.177694</td>\n",
       "      <td>0.120092</td>\n",
       "      <td>0.051659</td>\n",
       "      <td>0.330539</td>\n",
       "      <td>0.058624</td>\n",
       "      <td>0.033673</td>\n",
       "      <td>0.061973</td>\n",
       "      <td>0.159983</td>\n",
       "      <td>0.220213</td>\n",
       "      <td>0.074679</td>\n",
       "    </tr>\n",
       "  </tbody>\n",
       "</table>\n",
       "<p>1 rows × 123 columns</p>\n",
       "</div>"
      ],
      "text/plain": [
       "   -4374331682165863764   809601605585939618   -8773118241761372618  \\\n",
       "0              0.193578              0.049124              0.108123   \n",
       "\n",
       "   -7315032288233856709  -2176468683077766369  -4102297002729307038  \\\n",
       "0              0.074888               0.22369               0.13895   \n",
       "\n",
       "    2709926970543371965   6157037646878010131  -6142462826726347616  \\\n",
       "0              0.001444               0.01243               0.28966   \n",
       "\n",
       "   -4760639635023250284  ...   6652210819857467321  -2778760500673113802  \\\n",
       "0              0.054628  ...              0.177694              0.120092   \n",
       "\n",
       "    1003778007373126185  -4110354420726924665   5619251370090681244  \\\n",
       "0              0.051659              0.330539              0.058624   \n",
       "\n",
       "    84318068629167514     3703141283586666995  -7101541512657907485  \\\n",
       "0              0.033673              0.061973              0.159983   \n",
       "\n",
       "    3067875254349597654   7767869406844505704  \n",
       "0              0.220213              0.074679  \n",
       "\n",
       "[1 rows x 123 columns]"
      ]
     },
     "execution_count": 243,
     "metadata": {},
     "output_type": "execute_result"
    }
   ],
   "source": [
    "items_to_ignore = interactions_work[interactions_work['personId'] == USER].contentId.unique()\n",
    "items_to_compare = [x for x in items_subset if x not in items_to_ignore]\n",
    "subset_items_profiles = get_items_profile(full_item_ids, items_to_compare, tfidf_matrix)\n",
    "cosine_similarities = cosine_similarity(profile, subset_items_profiles)\n",
    "results = pd.DataFrame(cosine_similarities, columns=items_to_compare)\n",
    "results"
   ]
  },
  {
   "cell_type": "code",
   "execution_count": null,
   "metadata": {},
   "outputs": [],
   "source": []
  },
  {
   "cell_type": "markdown",
   "metadata": {},
   "source": [
    "## GET TOP N"
   ]
  },
  {
   "cell_type": "code",
   "execution_count": 235,
   "metadata": {},
   "outputs": [
    {
     "data": {
      "text/plain": [
       "[(-7926018713416777892, 0.3567839157763085),\n",
       " (-4110354420726924665, 0.3305389560443456),\n",
       " (-6195775145989617417, 0.3119655478027027),\n",
       " (3353902017498793780, 0.30974111893261985),\n",
       " (2255603060224026824, 0.3008502925389378),\n",
       " (2900029983899283273, 0.29484672782905363),\n",
       " (-6142462826726347616, 0.2896595392637854),\n",
       " (8471417198703153120, 0.28893926818464977),\n",
       " (6023609667389715259, 0.2808048345687099),\n",
       " (-9171475473795142532, 0.2722205561089389)]"
      ]
     },
     "execution_count": 235,
     "metadata": {},
     "output_type": "execute_result"
    }
   ],
   "source": [
    "topn = 10\n",
    "similar_indices = np.argsort(-cosine_similarities[0,:])[0:topn]\n",
    "similar_items = [(items_to_compare[i], cosine_similarities[0,i]) for i in similar_indices]\n",
    "similar_items"
   ]
  },
  {
   "cell_type": "code",
   "execution_count": null,
   "metadata": {},
   "outputs": [],
   "source": []
  },
  {
   "cell_type": "code",
   "execution_count": null,
   "metadata": {},
   "outputs": [],
   "source": []
  }
 ],
 "metadata": {
  "kernelspec": {
   "display_name": "Python 3",
   "language": "python",
   "name": "python3"
  },
  "language_info": {
   "codemirror_mode": {
    "name": "ipython",
    "version": 3
   },
   "file_extension": ".py",
   "mimetype": "text/x-python",
   "name": "python",
   "nbconvert_exporter": "python",
   "pygments_lexer": "ipython3",
   "version": "3.7.3"
  }
 },
 "nbformat": 4,
 "nbformat_minor": 2
}
