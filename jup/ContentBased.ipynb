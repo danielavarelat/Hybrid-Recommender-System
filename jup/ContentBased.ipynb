{
 "cells": [
  {
   "cell_type": "code",
   "execution_count": 38,
   "metadata": {},
   "outputs": [],
   "source": [
    "import pickle\n",
    "import pandas as pd\n",
    "import scipy\n",
    "import numpy as np\n",
    "import sklearn\n",
    "import random\n",
    "from sklearn.metrics.pairwise import cosine_similarity\n",
    "import os, sys\n",
    "import importlib"
   ]
  },
  {
   "cell_type": "code",
   "execution_count": 45,
   "metadata": {},
   "outputs": [],
   "source": [
    "parentdir = 'C:\\\\Users\\\\danie\\\\Documents\\\\work\\\\testingRS\\\\TESTS'\n",
    "sys.path.insert(0,parentdir) \n",
    "importlib.reload(entity)\n",
    "from entity import User, CB, MF"
   ]
  },
  {
   "cell_type": "code",
   "execution_count": 30,
   "metadata": {},
   "outputs": [],
   "source": [
    "with open('C:\\\\Users\\\\danie\\\\Documents\\\\work\\\\testingRS\\\\TESTS\\\\objects\\\\tfidf.pkl', 'rb') as f:\n",
    "    tfidf_matrix, tfidf_feature_names, full_item_ids = pickle.load(f)\n",
    "\n",
    "with open('C:\\\\Users\\\\danie\\\\Documents\\\\work\\\\testingRS\\\\TESTS\\\\objects\\\\subset_1000.pkl', 'rb') as f:\n",
    "    utility_matrix_1, interactions_work_1 = pickle.load(f)"
   ]
  },
  {
   "cell_type": "code",
   "execution_count": 40,
   "metadata": {},
   "outputs": [],
   "source": [
    "USER = '-3596626804281480007'\n",
    "user_object = User(USER, utility_matrix_1, interactions_work_1)\n",
    "cb = CB(user_object)\n",
    "results_CB = cb.compute_similarities(cb.user.interactions_df,cb.user.id, full_item_ids, tfidf_matrix, cb.user.items_to_ignore)"
   ]
  },
  {
   "cell_type": "code",
   "execution_count": 41,
   "metadata": {},
   "outputs": [
    {
     "data": {
      "text/html": [
       "<div>\n",
       "<style scoped>\n",
       "    .dataframe tbody tr th:only-of-type {\n",
       "        vertical-align: middle;\n",
       "    }\n",
       "\n",
       "    .dataframe tbody tr th {\n",
       "        vertical-align: top;\n",
       "    }\n",
       "\n",
       "    .dataframe thead th {\n",
       "        text-align: right;\n",
       "    }\n",
       "</style>\n",
       "<table border=\"1\" class=\"dataframe\">\n",
       "  <thead>\n",
       "    <tr style=\"text-align: right;\">\n",
       "      <th></th>\n",
       "      <th>-2081760549863309770</th>\n",
       "      <th>-2176468683077766369</th>\n",
       "      <th>-3173020603774823976</th>\n",
       "      <th>-3367778232969996503</th>\n",
       "      <th>-4110991218639855802</th>\n",
       "      <th>-4186591400427142356</th>\n",
       "      <th>-4374331682165863764</th>\n",
       "      <th>-454649054276160610</th>\n",
       "      <th>-4760639635023250284</th>\n",
       "      <th>-4994468824009200256</th>\n",
       "      <th>...</th>\n",
       "      <th>-2778760500673113802</th>\n",
       "      <th>1003778007373126185</th>\n",
       "      <th>6652210819857467321</th>\n",
       "      <th>-4110354420726924665</th>\n",
       "      <th>5619251370090681244</th>\n",
       "      <th>84318068629167514</th>\n",
       "      <th>3703141283586666995</th>\n",
       "      <th>-7101541512657907485</th>\n",
       "      <th>3067875254349597654</th>\n",
       "      <th>7767869406844505704</th>\n",
       "    </tr>\n",
       "  </thead>\n",
       "  <tbody>\n",
       "    <tr>\n",
       "      <th>-3596626804281480007</th>\n",
       "      <td>0.048819</td>\n",
       "      <td>0.367331</td>\n",
       "      <td>0.076986</td>\n",
       "      <td>0.173454</td>\n",
       "      <td>0.118737</td>\n",
       "      <td>0.067395</td>\n",
       "      <td>0.114469</td>\n",
       "      <td>0.08325</td>\n",
       "      <td>0.216915</td>\n",
       "      <td>0.096144</td>\n",
       "      <td>...</td>\n",
       "      <td>0.07315</td>\n",
       "      <td>0.077565</td>\n",
       "      <td>0.110094</td>\n",
       "      <td>0.083722</td>\n",
       "      <td>0.178852</td>\n",
       "      <td>0.009385</td>\n",
       "      <td>0.046247</td>\n",
       "      <td>0.064871</td>\n",
       "      <td>0.137906</td>\n",
       "      <td>0.096121</td>\n",
       "    </tr>\n",
       "  </tbody>\n",
       "</table>\n",
       "<p>1 rows × 120 columns</p>\n",
       "</div>"
      ],
      "text/plain": [
       "                      -2081760549863309770  -2176468683077766369  \\\n",
       "-3596626804281480007              0.048819              0.367331   \n",
       "\n",
       "                      -3173020603774823976  -3367778232969996503  \\\n",
       "-3596626804281480007              0.076986              0.173454   \n",
       "\n",
       "                      -4110991218639855802  -4186591400427142356  \\\n",
       "-3596626804281480007              0.118737              0.067395   \n",
       "\n",
       "                      -4374331682165863764  -454649054276160610  \\\n",
       "-3596626804281480007              0.114469              0.08325   \n",
       "\n",
       "                      -4760639635023250284  -4994468824009200256  ...  \\\n",
       "-3596626804281480007              0.216915              0.096144  ...   \n",
       "\n",
       "                      -2778760500673113802  1003778007373126185  \\\n",
       "-3596626804281480007               0.07315             0.077565   \n",
       "\n",
       "                      6652210819857467321  -4110354420726924665  \\\n",
       "-3596626804281480007             0.110094              0.083722   \n",
       "\n",
       "                      5619251370090681244  84318068629167514  \\\n",
       "-3596626804281480007             0.178852           0.009385   \n",
       "\n",
       "                      3703141283586666995  -7101541512657907485  \\\n",
       "-3596626804281480007             0.046247              0.064871   \n",
       "\n",
       "                      3067875254349597654  7767869406844505704  \n",
       "-3596626804281480007             0.137906             0.096121  \n",
       "\n",
       "[1 rows x 120 columns]"
      ]
     },
     "execution_count": 41,
     "metadata": {},
     "output_type": "execute_result"
    }
   ],
   "source": [
    "results_CB"
   ]
  },
  {
   "cell_type": "code",
   "execution_count": null,
   "metadata": {},
   "outputs": [],
   "source": []
  },
  {
   "cell_type": "code",
   "execution_count": null,
   "metadata": {},
   "outputs": [],
   "source": [
    "\n"
   ]
  },
  {
   "cell_type": "code",
   "execution_count": null,
   "metadata": {},
   "outputs": [],
   "source": []
  },
  {
   "cell_type": "code",
   "execution_count": null,
   "metadata": {},
   "outputs": [],
   "source": []
  },
  {
   "cell_type": "code",
   "execution_count": null,
   "metadata": {},
   "outputs": [],
   "source": []
  },
  {
   "cell_type": "code",
   "execution_count": null,
   "metadata": {},
   "outputs": [],
   "source": []
  },
  {
   "cell_type": "code",
   "execution_count": null,
   "metadata": {},
   "outputs": [],
   "source": []
  },
  {
   "cell_type": "code",
   "execution_count": 8,
   "metadata": {},
   "outputs": [],
   "source": []
  },
  {
   "cell_type": "code",
   "execution_count": null,
   "metadata": {},
   "outputs": [],
   "source": []
  },
  {
   "cell_type": "code",
   "execution_count": null,
   "metadata": {},
   "outputs": [],
   "source": []
  },
  {
   "cell_type": "code",
   "execution_count": 266,
   "metadata": {},
   "outputs": [],
   "source": [
    "# topn = 10\n",
    "# similar_indices = np.argsort(-cosine_similarities[0,:])[0:topn]\n",
    "# similar_items = [(items_to_compare[i], cosine_similarities[0,i]) for i in similar_indices]\n",
    "# similar_items"
   ]
  },
  {
   "cell_type": "code",
   "execution_count": null,
   "metadata": {},
   "outputs": [],
   "source": []
  },
  {
   "cell_type": "markdown",
   "metadata": {},
   "source": []
  },
  {
   "cell_type": "code",
   "execution_count": null,
   "metadata": {},
   "outputs": [],
   "source": [
    "users = interactions_work_1.personId.unique()\n"
   ]
  },
  {
   "cell_type": "code",
   "execution_count": null,
   "metadata": {},
   "outputs": [],
   "source": []
  },
  {
   "cell_type": "code",
   "execution_count": null,
   "metadata": {},
   "outputs": [],
   "source": []
  }
 ],
 "metadata": {
  "kernelspec": {
   "display_name": "Python 3",
   "language": "python",
   "name": "python3"
  },
  "language_info": {
   "codemirror_mode": {
    "name": "ipython",
    "version": 3
   },
   "file_extension": ".py",
   "mimetype": "text/x-python",
   "name": "python",
   "nbconvert_exporter": "python",
   "pygments_lexer": "ipython3",
   "version": "3.7.3"
  }
 },
 "nbformat": 4,
 "nbformat_minor": 2
}
