{
 "cells": [
  {
   "cell_type": "code",
   "execution_count": 3,
   "metadata": {},
   "outputs": [],
   "source": [
    "## DATA\n",
    "# "
   ]
  },
  {
   "cell_type": "code",
   "execution_count": 1,
   "metadata": {},
   "outputs": [],
   "source": [
    "import pandas as pd\n",
    "import statistics \n",
    "import numpy as np\n",
    "import matplotlib.pyplot as plt\n",
    "import pickle\n",
    "import random\n",
    "import sys\n",
    "import os"
   ]
  },
  {
   "cell_type": "code",
   "execution_count": 2,
   "metadata": {},
   "outputs": [],
   "source": [
    "\n",
    "parentdir = 'C:\\\\Users\\\\danie\\\\Documents\\\\work\\\\testingRS\\\\TESTS'\n",
    "sys.path.insert(0,parentdir) \n",
    "import utils.dataset_metrics as dt\n"
   ]
  },
  {
   "cell_type": "code",
   "execution_count": 3,
   "metadata": {},
   "outputs": [],
   "source": [
    "folder = 'C:\\\\Users\\\\danie\\\\Documents\\\\work\\\\testingRS\\\\TESTS\\\\'\n",
    "articles_df = pd.read_csv(os.path.join(folder, 'articles/shared_articles.csv'))\n",
    "articles_df = articles_df[articles_df['eventType'] == 'CONTENT SHARED']\n",
    "interactions_df = pd.read_csv(os.path.join(folder,'articles/users_interactions.csv'))\n",
    "interactions_df = interactions_df[['timestamp','eventType', 'contentId','personId','sessionId']]\n",
    "interactions_df = interactions_df[interactions_df['contentId'].isin(articles_df['contentId'])]"
   ]
  },
  {
   "cell_type": "code",
   "execution_count": 7,
   "metadata": {},
   "outputs": [
    {
     "data": {
      "text/html": [
       "<div>\n",
       "<style scoped>\n",
       "    .dataframe tbody tr th:only-of-type {\n",
       "        vertical-align: middle;\n",
       "    }\n",
       "\n",
       "    .dataframe tbody tr th {\n",
       "        vertical-align: top;\n",
       "    }\n",
       "\n",
       "    .dataframe thead th {\n",
       "        text-align: right;\n",
       "    }\n",
       "</style>\n",
       "<table border=\"1\" class=\"dataframe\">\n",
       "  <thead>\n",
       "    <tr style=\"text-align: right;\">\n",
       "      <th></th>\n",
       "      <th>timestamp</th>\n",
       "      <th>eventType</th>\n",
       "      <th>contentId</th>\n",
       "      <th>authorPersonId</th>\n",
       "      <th>authorSessionId</th>\n",
       "      <th>authorUserAgent</th>\n",
       "      <th>authorRegion</th>\n",
       "      <th>authorCountry</th>\n",
       "      <th>contentType</th>\n",
       "      <th>url</th>\n",
       "      <th>title</th>\n",
       "      <th>text</th>\n",
       "      <th>lang</th>\n",
       "    </tr>\n",
       "  </thead>\n",
       "  <tbody>\n",
       "    <tr>\n",
       "      <th>48</th>\n",
       "      <td>1459315656</td>\n",
       "      <td>CONTENT SHARED</td>\n",
       "      <td>-4571929941432664145</td>\n",
       "      <td>-1032019229384696495</td>\n",
       "      <td>-1858408872346331823</td>\n",
       "      <td>NaN</td>\n",
       "      <td>NaN</td>\n",
       "      <td>NaN</td>\n",
       "      <td>HTML</td>\n",
       "      <td>http://www.huffingtonpost.com/laura-dambrosio/...</td>\n",
       "      <td>Machine Learning as a Service: How Data Scienc...</td>\n",
       "      <td>Machine learning is an enigma to most. For dec...</td>\n",
       "      <td>en</td>\n",
       "    </tr>\n",
       "  </tbody>\n",
       "</table>\n",
       "</div>"
      ],
      "text/plain": [
       "     timestamp       eventType            contentId       authorPersonId  \\\n",
       "48  1459315656  CONTENT SHARED -4571929941432664145 -1032019229384696495   \n",
       "\n",
       "        authorSessionId authorUserAgent authorRegion authorCountry  \\\n",
       "48 -1858408872346331823             NaN          NaN           NaN   \n",
       "\n",
       "   contentType                                                url  \\\n",
       "48        HTML  http://www.huffingtonpost.com/laura-dambrosio/...   \n",
       "\n",
       "                                                title  \\\n",
       "48  Machine Learning as a Service: How Data Scienc...   \n",
       "\n",
       "                                                 text lang  \n",
       "48  Machine learning is an enigma to most. For dec...   en  "
      ]
     },
     "execution_count": 7,
     "metadata": {},
     "output_type": "execute_result"
    }
   ],
   "source": []
  },
  {
   "cell_type": "code",
   "execution_count": 13,
   "metadata": {},
   "outputs": [],
   "source": [
    "# interactions_def"
   ]
  },
  {
   "cell_type": "code",
   "execution_count": null,
   "metadata": {},
   "outputs": [],
   "source": []
  },
  {
   "cell_type": "markdown",
   "metadata": {},
   "source": [
    "### Convert interaction to our cases and to Rating"
   ]
  },
  {
   "cell_type": "code",
   "execution_count": 8,
   "metadata": {},
   "outputs": [],
   "source": [
    "change_interaction = {\n",
    "   'VIEW': 'CLICK',\n",
    "   'LIKE': 'EXPLICIT', \n",
    "   'BOOKMARK': 'SAVE', \n",
    "   'FOLLOW': 'TIME_OPEN',\n",
    "   'COMMENT CREATED': 'RECOMMEND',  \n",
    "}\n",
    "\n",
    "values_interaction = {\n",
    "    'CLICK' : 2.0,\n",
    "    'EXPLICIT' : 5.0,\n",
    "    'SAVE': 3.0,\n",
    "    'TIME_OPEN': 3.0,\n",
    "    'RECOMMEND': 3.5\n",
    "}\n",
    "\n",
    "interactions_def = dt.convert_interactions(change_interaction, values_interaction, interactions_df)\n",
    "interactions_ordered = interactions_def\n"
   ]
  },
  {
   "cell_type": "code",
   "execution_count": 9,
   "metadata": {},
   "outputs": [
    {
     "data": {
      "text/html": [
       "<div>\n",
       "<style scoped>\n",
       "    .dataframe tbody tr th:only-of-type {\n",
       "        vertical-align: middle;\n",
       "    }\n",
       "\n",
       "    .dataframe tbody tr th {\n",
       "        vertical-align: top;\n",
       "    }\n",
       "\n",
       "    .dataframe thead th {\n",
       "        text-align: right;\n",
       "    }\n",
       "</style>\n",
       "<table border=\"1\" class=\"dataframe\">\n",
       "  <thead>\n",
       "    <tr style=\"text-align: right;\">\n",
       "      <th></th>\n",
       "      <th>timestamp</th>\n",
       "      <th>eventType</th>\n",
       "      <th>contentId</th>\n",
       "      <th>personId</th>\n",
       "      <th>sessionId</th>\n",
       "      <th>rating</th>\n",
       "    </tr>\n",
       "  </thead>\n",
       "  <tbody>\n",
       "    <tr>\n",
       "      <th>25734</th>\n",
       "      <td>1459195400</td>\n",
       "      <td>CLICK</td>\n",
       "      <td>3353902017498793780</td>\n",
       "      <td>-2626634673110551643</td>\n",
       "      <td>6793304606618189201</td>\n",
       "      <td>2.0</td>\n",
       "    </tr>\n",
       "    <tr>\n",
       "      <th>25735</th>\n",
       "      <td>1459195417</td>\n",
       "      <td>CLICK</td>\n",
       "      <td>-7926018713416777892</td>\n",
       "      <td>-2626634673110551643</td>\n",
       "      <td>6793304606618189201</td>\n",
       "      <td>2.0</td>\n",
       "    </tr>\n",
       "    <tr>\n",
       "      <th>8016</th>\n",
       "      <td>1459196576</td>\n",
       "      <td>CLICK</td>\n",
       "      <td>3353902017498793780</td>\n",
       "      <td>-1032019229384696495</td>\n",
       "      <td>5722501396463931551</td>\n",
       "      <td>2.0</td>\n",
       "    </tr>\n",
       "    <tr>\n",
       "      <th>26119</th>\n",
       "      <td>1459211064</td>\n",
       "      <td>CLICK</td>\n",
       "      <td>-6151852268067518688</td>\n",
       "      <td>-1443636648652872475</td>\n",
       "      <td>-9071650721576979280</td>\n",
       "      <td>2.0</td>\n",
       "    </tr>\n",
       "    <tr>\n",
       "      <th>33065</th>\n",
       "      <td>1459213506</td>\n",
       "      <td>CLICK</td>\n",
       "      <td>-2826566343807132236</td>\n",
       "      <td>-8389868196569319547</td>\n",
       "      <td>-6280969382462826000</td>\n",
       "      <td>2.0</td>\n",
       "    </tr>\n",
       "  </tbody>\n",
       "</table>\n",
       "</div>"
      ],
      "text/plain": [
       "        timestamp eventType             contentId              personId  \\\n",
       "25734  1459195400     CLICK   3353902017498793780  -2626634673110551643   \n",
       "25735  1459195417     CLICK  -7926018713416777892  -2626634673110551643   \n",
       "8016   1459196576     CLICK   3353902017498793780  -1032019229384696495   \n",
       "26119  1459211064     CLICK  -6151852268067518688  -1443636648652872475   \n",
       "33065  1459213506     CLICK  -2826566343807132236  -8389868196569319547   \n",
       "\n",
       "                 sessionId  rating  \n",
       "25734  6793304606618189201     2.0  \n",
       "25735  6793304606618189201     2.0  \n",
       "8016   5722501396463931551     2.0  \n",
       "26119 -9071650721576979280     2.0  \n",
       "33065 -6280969382462826000     2.0  "
      ]
     },
     "execution_count": 9,
     "metadata": {},
     "output_type": "execute_result"
    }
   ],
   "source": [
    "interactions_ordered.head()"
   ]
  },
  {
   "cell_type": "markdown",
   "metadata": {},
   "source": [
    "### Partition of interactions - to inspect data"
   ]
  },
  {
   "cell_type": "code",
   "execution_count": 9,
   "metadata": {},
   "outputs": [],
   "source": [
    "sparsities = []\n",
    "subs = []\n",
    "number_users = []\n",
    "number_items = []\n",
    "m3 = []\n",
    "for i in range(1, round(interactions_ordered.shape[0]/1000), 2):\n",
    "    if i < 70 and i != 0 :\n",
    "        N_interactions = i*1000\n",
    "    if i == 70  and i != 0:\n",
    "        N_interactions = interactions_ordered.shape[0]\n",
    "    else:\n",
    "        pass\n",
    "    subs.append(N_interactions)\n",
    "    utility_matrix, interactions_subset = dt.get_subset(interactions_ordered, N_interactions)\n",
    "    ids_users = list(interactions_subset.personId.unique())\n",
    "    ids_items = list(interactions_subset.contentId.unique())\n",
    "    sparsities.append(dt.get_overall_sparsity(utility_matrix))\n",
    "    number_users.append(len(ids_users))\n",
    "    number_items.append(len(ids_items))"
   ]
  },
  {
   "cell_type": "code",
   "execution_count": 22,
   "metadata": {},
   "outputs": [
    {
     "data": {
      "text/plain": [
       "<matplotlib.legend.Legend at 0x1e082c135f8>"
      ]
     },
     "execution_count": 22,
     "metadata": {},
     "output_type": "execute_result"
    },
    {
     "data": {
      "image/png": "[encoded data removed]",
      "text/plain": [
       "<Figure size 432x288 with 1 Axes>"
      ]
     },
     "metadata": {
      "needs_background": "light"
     },
     "output_type": "display_data"
    }
   ],
   "source": [
    "x = subs\n",
    "y = [number_items, number_users]\n",
    "labels = ['Number of ITEMS' , 'Number of USERS']\n",
    "markers = ['x' , '+']\n",
    "\n",
    "for i,j in enumerate(y):\n",
    "    plt.plot(x, j, markers[i], label= labels[i])\n",
    "plt.title('Changes in elements over subsampling')\n",
    "plt.xlabel('Number of interactions included')\n",
    "plt.legend(numpoints=1)"
   ]
  },
  {
   "cell_type": "markdown",
   "metadata": {},
   "source": []
  },
  {
   "cell_type": "code",
   "execution_count": 23,
   "metadata": {},
   "outputs": [
    {
     "data": {
      "image/png": "[encoded data removed]",
      "text/plain": [
       "<Figure size 432x288 with 1 Axes>"
      ]
     },
     "metadata": {
      "needs_background": "light"
     },
     "output_type": "display_data"
    }
   ],
   "source": [
    "area = np.pi*3\n",
    "plt.scatter(subs, sparsities, s=area, alpha=0.5)\n",
    "plt.title('SPARSITY OVER SUBSAMPLING')\n",
    "plt.xlabel('Number of interactions included')\n",
    "plt.ylabel('Sparsity')\n",
    "plt.show()"
   ]
  },
  {
   "cell_type": "code",
   "execution_count": null,
   "metadata": {},
   "outputs": [],
   "source": []
  },
  {
   "cell_type": "code",
   "execution_count": null,
   "metadata": {},
   "outputs": [],
   "source": []
  },
  {
   "cell_type": "code",
   "execution_count": 106,
   "metadata": {},
   "outputs": [],
   "source": []
  },
  {
   "cell_type": "code",
   "execution_count": null,
   "metadata": {},
   "outputs": [],
   "source": []
  },
  {
   "cell_type": "code",
   "execution_count": null,
   "metadata": {},
   "outputs": [],
   "source": []
  },
  {
   "cell_type": "markdown",
   "metadata": {},
   "source": [
    "## SPLIT DATA FOR DIFFERENT TESTS \n",
    "### 1. 10,00 interactions\n",
    "### 2. 40,000 interactions\n",
    "### 3. whole dataset - around 72,000 interactions"
   ]
  },
  {
   "cell_type": "code",
   "execution_count": 17,
   "metadata": {},
   "outputs": [
    {
     "name": "stdout",
     "output_type": "stream",
     "text": [
      "(674, 3)\n",
      "(20864, 3)\n",
      "(40682, 3)\n"
     ]
    }
   ],
   "source": [
    "subsets = [1000, 40000, interactions_ordered.shape[0]]\n",
    "for i in subsets:\n",
    "    matrix, interactions_final = dt.get_subset(interactions_ordered, i)\n",
    "    print(interactions_final.shape)\n",
    "    name = \"objects/subset_{}.pkl\".format(i)\n",
    "    with open(os.path.join(folder,name), 'wb') as f:  \n",
    "        pickle.dump([matrix, interactions_final], f)"
   ]
  },
  {
   "cell_type": "code",
   "execution_count": 9,
   "metadata": {},
   "outputs": [],
   "source": [
    "with open(os.path.join(folder,'objects/subset_1000.pkl'), 'rb') as f:  \n",
    "    utility_matrix_1, interactions_work_1 = pickle.load(f)\n",
    "with open(os.path.join(folder,'objects/subset_40000.pkl'), 'rb') as f:  \n",
    "    utility_matrix_2, interactions_work_2 = pickle.load(f)\n",
    "with open(os.path.join(folder,'objects/subset_72269.pkl'), 'rb') as f:  \n",
    "    utility_matrix_3, interactions_work_3 = pickle.load(f)"
   ]
  },
  {
   "cell_type": "code",
   "execution_count": 11,
   "metadata": {},
   "outputs": [],
   "source": [
    "users1 = interactions_work_1.personId.unique()\n",
    "users2 = interactions_work_2.personId.unique()\n",
    "users3 = interactions_work_3.personId.unique()"
   ]
  },
  {
   "cell_type": "code",
   "execution_count": 18,
   "metadata": {},
   "outputs": [],
   "source": [
    "users_temp2 = [i for i in users2 if i not in users1] #1291\n",
    "users_temp3 = [i for i in users3 if i not in users2] #370"
   ]
  },
  {
   "cell_type": "code",
   "execution_count": null,
   "metadata": {},
   "outputs": [],
   "source": []
  },
  {
   "cell_type": "code",
   "execution_count": 21,
   "metadata": {},
   "outputs": [
    {
     "data": {
      "text/plain": [
       "1291"
      ]
     },
     "execution_count": 21,
     "metadata": {},
     "output_type": "execute_result"
    }
   ],
   "source": [
    "len(users_temp2)"
   ]
  },
  {
   "cell_type": "code",
   "execution_count": 22,
   "metadata": {},
   "outputs": [
    {
     "data": {
      "text/plain": [
       "(674, 3)"
      ]
     },
     "execution_count": 22,
     "metadata": {},
     "output_type": "execute_result"
    }
   ],
   "source": [
    "interactions_work_1.shape"
   ]
  },
  {
   "cell_type": "markdown",
   "metadata": {},
   "source": [
    "## METRICS"
   ]
  },
  {
   "cell_type": "code",
   "execution_count": 15,
   "metadata": {},
   "outputs": [],
   "source": [
    "USER = '-3596626804281480007'"
   ]
  },
  {
   "cell_type": "markdown",
   "metadata": {},
   "source": [
    "### M1 - User activity for this subset"
   ]
  },
  {
   "cell_type": "code",
   "execution_count": 23,
   "metadata": {},
   "outputs": [
    {
     "name": "stdout",
     "output_type": "stream",
     "text": [
      "0.25\n"
     ]
    },
    {
     "data": {
      "image/png": "[encoded data removed]",
      "text/plain": [
       "<Figure size 432x288 with 1 Axes>"
      ]
     },
     "metadata": {
      "needs_background": "light"
     },
     "output_type": "display_data"
    },
    {
     "name": "stdout",
     "output_type": "stream",
     "text": [
      "DEVIATION = 4.0 \n",
      "MEDIAN = 1.0 \n",
      "MEAN = 2\n"
     ]
    }
   ],
   "source": [
    "M1 = dt.get_metric1(USER, utility_matrix_1)\n",
    "print(M1)\n",
    "dt.plot_user_activity_m1(utility_matrix_1, USER)"
   ]
  },
  {
   "cell_type": "code",
   "execution_count": null,
   "metadata": {},
   "outputs": [],
   "source": []
  },
  {
   "cell_type": "markdown",
   "metadata": {},
   "source": [
    "## M3 - Items activity for this subset"
   ]
  },
  {
   "cell_type": "code",
   "execution_count": 8,
   "metadata": {},
   "outputs": [
    {
     "name": "stdout",
     "output_type": "stream",
     "text": [
      "0.007\n"
     ]
    },
    {
     "data": {
      "image/png": "[encoded data removed]",
      "text/plain": [
       "<Figure size 432x288 with 1 Axes>"
      ]
     },
     "metadata": {
      "needs_background": "light"
     },
     "output_type": "display_data"
    },
    {
     "name": "stdout",
     "output_type": "stream",
     "text": [
      "DEVIATION = 17.146428199482248 \n",
      "MEDIAN = 9 \n",
      "MEAN = 13\n"
     ]
    }
   ],
   "source": [
    "M3 = dt.get_metric3(utility_matrix_3)\n",
    "print(M3) \n",
    "dt.plot_items_activity_m3(utility_matrix_3)"
   ]
  },
  {
   "cell_type": "code",
   "execution_count": null,
   "metadata": {},
   "outputs": [],
   "source": []
  },
  {
   "cell_type": "markdown",
   "metadata": {},
   "source": [
    "## M4 - Items descriptors"
   ]
  },
  {
   "cell_type": "code",
   "execution_count": 33,
   "metadata": {},
   "outputs": [],
   "source": [
    "with open('objects/tfidf.pkl', 'rb') as f:  \n",
    "    tfidf_matrix, tfidf_feature_names, full_item_ids = pickle.load(f)"
   ]
  },
  {
   "cell_type": "code",
   "execution_count": 38,
   "metadata": {},
   "outputs": [
    {
     "data": {
      "image/png": "[encoded data removed]",
      "text/plain": [
       "<Figure size 432x288 with 1 Axes>"
      ]
     },
     "metadata": {
      "needs_background": "light"
     },
     "output_type": "display_data"
    },
    {
     "name": "stdout",
     "output_type": "stream",
     "text": [
      "DEVIATION = 0.02075571976831387 \n",
      "MEDIAN = 0.221 \n",
      "MEAN = 0.22071317829457365\n",
      "0.221\n"
     ]
    }
   ],
   "source": [
    "mean_q = dt.plot_quality_descriptors(utility_matrix_1,  tfidf_matrix, tfidf_feature_names, full_item_ids)\n",
    "M4 = round(mean_q,3)\n",
    "print(M4)"
   ]
  },
  {
   "cell_type": "code",
   "execution_count": null,
   "metadata": {},
   "outputs": [],
   "source": []
  },
  {
   "cell_type": "code",
   "execution_count": null,
   "metadata": {},
   "outputs": [],
   "source": []
  },
  {
   "cell_type": "code",
   "execution_count": 86,
   "metadata": {},
   "outputs": [],
   "source": []
  },
  {
   "cell_type": "code",
   "execution_count": null,
   "metadata": {},
   "outputs": [],
   "source": []
  },
  {
   "cell_type": "code",
   "execution_count": null,
   "metadata": {},
   "outputs": [],
   "source": []
  },
  {
   "cell_type": "code",
   "execution_count": 123,
   "metadata": {},
   "outputs": [],
   "source": []
  },
  {
   "cell_type": "code",
   "execution_count": null,
   "metadata": {},
   "outputs": [],
   "source": []
  },
  {
   "cell_type": "code",
   "execution_count": null,
   "metadata": {},
   "outputs": [],
   "source": []
  },
  {
   "cell_type": "code",
   "execution_count": null,
   "metadata": {},
   "outputs": [],
   "source": []
  },
  {
   "cell_type": "code",
   "execution_count": 85,
   "metadata": {},
   "outputs": [],
   "source": []
  },
  {
   "cell_type": "code",
   "execution_count": null,
   "metadata": {},
   "outputs": [],
   "source": []
  },
  {
   "cell_type": "code",
   "execution_count": null,
   "metadata": {},
   "outputs": [],
   "source": []
  },
  {
   "cell_type": "code",
   "execution_count": null,
   "metadata": {},
   "outputs": [],
   "source": []
  },
  {
   "cell_type": "code",
   "execution_count": null,
   "metadata": {},
   "outputs": [],
   "source": []
  },
  {
   "cell_type": "code",
   "execution_count": 66,
   "metadata": {},
   "outputs": [],
   "source": []
  },
  {
   "cell_type": "code",
   "execution_count": 67,
   "metadata": {},
   "outputs": [],
   "source": []
  },
  {
   "cell_type": "code",
   "execution_count": null,
   "metadata": {},
   "outputs": [],
   "source": []
  },
  {
   "cell_type": "code",
   "execution_count": null,
   "metadata": {},
   "outputs": [],
   "source": []
  },
  {
   "cell_type": "code",
   "execution_count": null,
   "metadata": {},
   "outputs": [],
   "source": [
    "\n"
   ]
  },
  {
   "cell_type": "code",
   "execution_count": null,
   "metadata": {},
   "outputs": [],
   "source": []
  },
  {
   "cell_type": "code",
   "execution_count": null,
   "metadata": {},
   "outputs": [],
   "source": []
  },
  {
   "cell_type": "code",
   "execution_count": null,
   "metadata": {},
   "outputs": [],
   "source": []
  },
  {
   "cell_type": "code",
   "execution_count": null,
   "metadata": {},
   "outputs": [],
   "source": []
  }
 ],
 "metadata": {
  "kernelspec": {
   "display_name": "Python 3",
   "language": "python",
   "name": "python3"
  },
  "language_info": {
   "codemirror_mode": {
    "name": "ipython",
    "version": 3
   },
   "file_extension": ".py",
   "mimetype": "text/x-python",
   "name": "python",
   "nbconvert_exporter": "python",
   "pygments_lexer": "ipython3",
   "version": "3.7.4"
  }
 },
 "nbformat": 4,
 "nbformat_minor": 2
}
