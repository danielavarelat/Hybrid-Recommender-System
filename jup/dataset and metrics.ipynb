{
 "cells": [
  {
   "cell_type": "code",
   "execution_count": null,
   "metadata": {},
   "outputs": [],
   "source": [
    "## DATA\n",
    "# "
   ]
  },
  {
   "cell_type": "code",
   "execution_count": 6,
   "metadata": {},
   "outputs": [],
   "source": [
    "import pandas as pd\n",
    "import statistics \n",
    "import numpy as np\n",
    "import matplotlib.pyplot as plt\n",
    "import pickle\n",
    "import random"
   ]
  },
  {
   "cell_type": "code",
   "execution_count": 1,
   "metadata": {},
   "outputs": [],
   "source": [
    "import utils.dataset_metrics as dt\n"
   ]
  },
  {
   "cell_type": "code",
   "execution_count": 11,
   "metadata": {},
   "outputs": [],
   "source": [
    "articles_df = pd.read_csv('articles/shared_articles.csv')\n",
    "articles_df = articles_df[articles_df['eventType'] == 'CONTENT SHARED']\n",
    "interactions_df = pd.read_csv('articles/users_interactions.csv')\n",
    "interactions_df = interactions_df[['timestamp','eventType', 'contentId','personId','sessionId']]\n",
    "interactions_df = interactions_df[interactions_df['contentId'].isin(articles_df['contentId'])]"
   ]
  },
  {
   "cell_type": "code",
   "execution_count": 4,
   "metadata": {},
   "outputs": [
    {
     "data": {
      "text/plain": [
       "(3047, 13)"
      ]
     },
     "execution_count": 4,
     "metadata": {},
     "output_type": "execute_result"
    }
   ],
   "source": [
    "articles_df.shape"
   ]
  },
  {
   "cell_type": "code",
   "execution_count": null,
   "metadata": {},
   "outputs": [],
   "source": []
  },
  {
   "cell_type": "code",
   "execution_count": null,
   "metadata": {},
   "outputs": [],
   "source": []
  },
  {
   "cell_type": "markdown",
   "metadata": {},
   "source": [
    "### Convert interaction to our cases and to Rating"
   ]
  },
  {
   "cell_type": "code",
   "execution_count": 12,
   "metadata": {},
   "outputs": [],
   "source": [
    "change_interaction = {\n",
    "   'VIEW': 'CLICK',\n",
    "   'LIKE': 'EXPLICIT', \n",
    "   'BOOKMARK': 'SAVE', \n",
    "   'FOLLOW': 'TIME_OPEN',\n",
    "   'COMMENT CREATED': 'RECOMMEND',  \n",
    "}\n",
    "\n",
    "values_interaction = {\n",
    "    'CLICK' : 2.0,\n",
    "    'EXPLICIT' : 5.0,\n",
    "    'SAVE': 3.0,\n",
    "    'TIME_OPEN': 3.0,\n",
    "    'RECOMMEND': 3.5\n",
    "}\n",
    "\n",
    "interactions_def = dt.convert_interactions(change_interaction, values_interaction, interactions_df)\n",
    "# users_ids = list(interactions_df.personId.unique())"
   ]
  },
  {
   "cell_type": "markdown",
   "metadata": {},
   "source": [
    "### Partition of interactions - to inspect data"
   ]
  },
  {
   "cell_type": "code",
   "execution_count": 21,
   "metadata": {},
   "outputs": [],
   "source": [
    "interactions_ordered = interactions_def\n",
    "sparsities = []\n",
    "subs = []\n",
    "number_users = []\n",
    "number_items = []\n",
    "m3 = []\n",
    "for i in range(1, round(interactions_ordered.shape[0]/1000), 2):\n",
    "    if i < 70 and i != 0 :\n",
    "        N_interactions = i*1000\n",
    "    if i == 70  and i != 0:\n",
    "        N_interactions = interactions_ordered.shape[0]\n",
    "    else:\n",
    "        pass\n",
    "    subs.append(N_interactions)\n",
    "    utility_matrix, interactions_subset = dt.get_subset(interactions_ordered, N_interactions)\n",
    "    ids_users = list(interactions_subset.personId.unique())\n",
    "    ids_items = list(interactions_subset.contentId.unique())\n",
    "    sparsities.append(dt.get_overall_sparsity(utility_matrix))\n",
    "    number_users.append(len(ids_users))\n",
    "    number_items.append(len(ids_items))"
   ]
  },
  {
   "cell_type": "code",
   "execution_count": 22,
   "metadata": {},
   "outputs": [
    {
     "data": {
      "text/plain": [
       "<matplotlib.legend.Legend at 0x1e082c135f8>"
      ]
     },
     "execution_count": 22,
     "metadata": {},
     "output_type": "execute_result"
    },
    {
     "data": {
      "image/png": "[encoded data removed]",
      "text/plain": [
       "<Figure size 432x288 with 1 Axes>"
      ]
     },
     "metadata": {
      "needs_background": "light"
     },
     "output_type": "display_data"
    }
   ],
   "source": [
    "x = subs\n",
    "y = [number_items, number_users]\n",
    "labels = ['Number of ITEMS' , 'Number of USERS']\n",
    "markers = ['x' , '+']\n",
    "\n",
    "for i,j in enumerate(y):\n",
    "    plt.plot(x, j, markers[i], label= labels[i])\n",
    "plt.title('Changes in elements over subsampling')\n",
    "plt.xlabel('Number of interactions included')\n",
    "plt.legend(numpoints=1)"
   ]
  },
  {
   "cell_type": "markdown",
   "metadata": {},
   "source": []
  },
  {
   "cell_type": "code",
   "execution_count": 23,
   "metadata": {},
   "outputs": [
    {
     "data": {
      "image/png": "[encoded data removed]",
      "text/plain": [
       "<Figure size 432x288 with 1 Axes>"
      ]
     },
     "metadata": {
      "needs_background": "light"
     },
     "output_type": "display_data"
    }
   ],
   "source": [
    "area = np.pi*3\n",
    "plt.scatter(subs, sparsities, s=area, alpha=0.5)\n",
    "plt.title('SPARSITY OVER SUBSAMPLING')\n",
    "plt.xlabel('Number of interactions included')\n",
    "plt.ylabel('Sparsity')\n",
    "plt.show()"
   ]
  },
  {
   "cell_type": "code",
   "execution_count": null,
   "metadata": {},
   "outputs": [],
   "source": []
  },
  {
   "cell_type": "markdown",
   "metadata": {},
   "source": []
  },
  {
   "cell_type": "code",
   "execution_count": 106,
   "metadata": {},
   "outputs": [],
   "source": []
  },
  {
   "cell_type": "code",
   "execution_count": null,
   "metadata": {},
   "outputs": [],
   "source": []
  },
  {
   "cell_type": "code",
   "execution_count": null,
   "metadata": {},
   "outputs": [],
   "source": []
  },
  {
   "cell_type": "markdown",
   "metadata": {},
   "source": [
    "# SPLIT DATA FOR DIFFERENT TESTS \n",
    "## 1. 10,00 interactions\n",
    "## 2. 40,000 interactions\n",
    "## 3. whole dataset - around 72,000 interactions"
   ]
  },
  {
   "cell_type": "code",
   "execution_count": 218,
   "metadata": {},
   "outputs": [],
   "source": [
    "subsets = [1000, 40000, interactions_ordered.shape[0]]\n",
    "for i in subsets:\n",
    "    matrix, interactions_final = df.get_subset(interactions_ordered, i)\n",
    "    name = \"objects/subset_{}.pkl\".format(i)\n",
    "    with open(name, 'wb') as f:  \n",
    "        pickle.dump([matrix, interactions_final], f)"
   ]
  },
  {
   "cell_type": "code",
   "execution_count": 24,
   "metadata": {},
   "outputs": [],
   "source": [
    "with open('objects/subset_1000.pkl', 'rb') as f:  \n",
    "    utility_matrix_1, interactions_work_1 = pickle.load(f)\n",
    "with open('objects/subset_40000.pkl', 'rb') as f:  \n",
    "    utility_matrix_2, interactions_work_2 = pickle.load(f)\n",
    "with open('objects/subset_72269.pkl', 'rb') as f:  \n",
    "    utility_matrix_3, interactions_work_3 = pickle.load(f)"
   ]
  },
  {
   "cell_type": "code",
   "execution_count": 25,
   "metadata": {},
   "outputs": [],
   "source": [
    "users1 = interactions_work_1.personId.unique()\n",
    "users2 = interactions_work_2.personId.unique()\n",
    "users3 = interactions_work_3.personId.unique()"
   ]
  },
  {
   "cell_type": "code",
   "execution_count": 221,
   "metadata": {},
   "outputs": [],
   "source": [
    "users_temp2 = [i for i in users2 if i not in users1] ##users that appear in temp2"
   ]
  },
  {
   "cell_type": "code",
   "execution_count": 226,
   "metadata": {},
   "outputs": [
    {
     "data": {
      "text/plain": [
       "'-3596626804281480007'"
      ]
     },
     "execution_count": 226,
     "metadata": {},
     "output_type": "execute_result"
    }
   ],
   "source": [
    "USER = random.choice(users1)\n",
    "USER"
   ]
  },
  {
   "cell_type": "code",
   "execution_count": null,
   "metadata": {},
   "outputs": [],
   "source": []
  },
  {
   "cell_type": "code",
   "execution_count": null,
   "metadata": {},
   "outputs": [],
   "source": []
  },
  {
   "cell_type": "markdown",
   "metadata": {},
   "source": [
    "## METRICS"
   ]
  },
  {
   "cell_type": "code",
   "execution_count": 27,
   "metadata": {},
   "outputs": [],
   "source": [
    "USER = '-3596626804281480007'"
   ]
  },
  {
   "cell_type": "markdown",
   "metadata": {},
   "source": [
    "### M1 - User activity for this subset"
   ]
  },
  {
   "cell_type": "code",
   "execution_count": 31,
   "metadata": {},
   "outputs": [
    {
     "data": {
      "image/png": "[encoded data removed]",
      "text/plain": [
       "<Figure size 432x288 with 1 Axes>"
      ]
     },
     "metadata": {
      "needs_background": "light"
     },
     "output_type": "display_data"
    },
    {
     "name": "stdout",
     "output_type": "stream",
     "text": [
      "DEVIATION = 4.0 \n",
      "MEDIAN = 1.0 \n",
      "MEAN = 2\n"
     ]
    }
   ],
   "source": [
    "M1 = dt.get_metric1(USER, utility_matrix_1)\n",
    "dt.plot_user_activity_m1(utility_matrix_1, USER)"
   ]
  },
  {
   "cell_type": "code",
   "execution_count": null,
   "metadata": {},
   "outputs": [],
   "source": []
  },
  {
   "cell_type": "markdown",
   "metadata": {},
   "source": [
    "## M3 - Items activity for this subset"
   ]
  },
  {
   "cell_type": "code",
   "execution_count": 32,
   "metadata": {},
   "outputs": [
    {
     "name": "stdout",
     "output_type": "stream",
     "text": [
      "0.101\n"
     ]
    },
    {
     "data": {
      "image/png": "[encoded data removed]",
      "text/plain": [
       "<Figure size 432x288 with 1 Axes>"
      ]
     },
     "metadata": {
      "needs_background": "light"
     },
     "output_type": "display_data"
    },
    {
     "name": "stdout",
     "output_type": "stream",
     "text": [
      "DEVIATION = 4.795831523312719 \n",
      "MEDIAN = 4 \n",
      "MEAN = 5\n"
     ]
    }
   ],
   "source": [
    "M3 = dt.get_metric3(utility_matrix_1)\n",
    "print(M3)\n",
    "dt.plot_items_activity_m3(utility_matrix_1)"
   ]
  },
  {
   "cell_type": "code",
   "execution_count": null,
   "metadata": {},
   "outputs": [],
   "source": []
  },
  {
   "cell_type": "markdown",
   "metadata": {},
   "source": [
    "## M4 - Items descriptors"
   ]
  },
  {
   "cell_type": "code",
   "execution_count": 33,
   "metadata": {},
   "outputs": [],
   "source": [
    "with open('objects/tfidf.pkl', 'rb') as f:  \n",
    "    tfidf_matrix, tfidf_feature_names, full_item_ids = pickle.load(f)"
   ]
  },
  {
   "cell_type": "code",
   "execution_count": 38,
   "metadata": {},
   "outputs": [
    {
     "data": {
      "image/png": "[encoded data removed]",
      "text/plain": [
       "<Figure size 432x288 with 1 Axes>"
      ]
     },
     "metadata": {
      "needs_background": "light"
     },
     "output_type": "display_data"
    },
    {
     "name": "stdout",
     "output_type": "stream",
     "text": [
      "DEVIATION = 0.02075571976831387 \n",
      "MEDIAN = 0.221 \n",
      "MEAN = 0.22071317829457365\n",
      "0.221\n"
     ]
    }
   ],
   "source": [
    "mean_q = dt.plot_quality_descriptors(utility_matrix_1,  tfidf_matrix, tfidf_feature_names, full_item_ids)\n",
    "M4 = round(mean_q,3)\n",
    "print(M4)"
   ]
  },
  {
   "cell_type": "code",
   "execution_count": null,
   "metadata": {},
   "outputs": [],
   "source": []
  },
  {
   "cell_type": "code",
   "execution_count": null,
   "metadata": {},
   "outputs": [],
   "source": []
  },
  {
   "cell_type": "code",
   "execution_count": 86,
   "metadata": {},
   "outputs": [],
   "source": []
  },
  {
   "cell_type": "code",
   "execution_count": null,
   "metadata": {},
   "outputs": [],
   "source": []
  },
  {
   "cell_type": "code",
   "execution_count": null,
   "metadata": {},
   "outputs": [],
   "source": []
  },
  {
   "cell_type": "code",
   "execution_count": 123,
   "metadata": {},
   "outputs": [],
   "source": []
  },
  {
   "cell_type": "code",
   "execution_count": 72,
   "metadata": {},
   "outputs": [],
   "source": []
  },
  {
   "cell_type": "code",
   "execution_count": null,
   "metadata": {},
   "outputs": [],
   "source": []
  },
  {
   "cell_type": "code",
   "execution_count": null,
   "metadata": {},
   "outputs": [],
   "source": []
  },
  {
   "cell_type": "code",
   "execution_count": 85,
   "metadata": {},
   "outputs": [],
   "source": []
  },
  {
   "cell_type": "code",
   "execution_count": null,
   "metadata": {},
   "outputs": [],
   "source": []
  },
  {
   "cell_type": "code",
   "execution_count": null,
   "metadata": {},
   "outputs": [],
   "source": []
  },
  {
   "cell_type": "code",
   "execution_count": null,
   "metadata": {},
   "outputs": [],
   "source": []
  },
  {
   "cell_type": "code",
   "execution_count": null,
   "metadata": {},
   "outputs": [],
   "source": []
  },
  {
   "cell_type": "code",
   "execution_count": 66,
   "metadata": {},
   "outputs": [],
   "source": []
  },
  {
   "cell_type": "code",
   "execution_count": 67,
   "metadata": {},
   "outputs": [],
   "source": []
  },
  {
   "cell_type": "code",
   "execution_count": null,
   "metadata": {},
   "outputs": [],
   "source": []
  },
  {
   "cell_type": "code",
   "execution_count": null,
   "metadata": {},
   "outputs": [],
   "source": []
  },
  {
   "cell_type": "code",
   "execution_count": null,
   "metadata": {},
   "outputs": [],
   "source": [
    "\n"
   ]
  },
  {
   "cell_type": "code",
   "execution_count": null,
   "metadata": {},
   "outputs": [],
   "source": []
  },
  {
   "cell_type": "code",
   "execution_count": null,
   "metadata": {},
   "outputs": [],
   "source": []
  },
  {
   "cell_type": "code",
   "execution_count": null,
   "metadata": {},
   "outputs": [],
   "source": []
  },
  {
   "cell_type": "code",
   "execution_count": null,
   "metadata": {},
   "outputs": [],
   "source": []
  }
 ],
 "metadata": {
  "kernelspec": {
   "display_name": "Python 3",
   "language": "python",
   "name": "python3"
  },
  "language_info": {
   "codemirror_mode": {
    "name": "ipython",
    "version": 3
   },
   "file_extension": ".py",
   "mimetype": "text/x-python",
   "name": "python",
   "nbconvert_exporter": "python",
   "pygments_lexer": "ipython3",
   "version": "3.7.3"
  }
 },
 "nbformat": 4,
 "nbformat_minor": 2
}
