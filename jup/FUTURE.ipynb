{
 "cells": [
  {
   "cell_type": "code",
   "execution_count": 1,
   "metadata": {},
   "outputs": [],
   "source": [
    "import importlib, sys\n",
    "import pickle\n",
    "import numpy as np\n",
    "import warnings\n",
    "from sklearn.metrics import mean_squared_error\n",
    "import pandas as pd\n",
    "warnings.simplefilter(action='ignore', category=FutureWarning)\n",
    "import os"
   ]
  },
  {
   "cell_type": "code",
   "execution_count": 2,
   "metadata": {},
   "outputs": [],
   "source": [
    "parentdir = 'C:\\\\Users\\\\danie\\\\Documents\\\\work\\\\testingRS\\\\TESTS'\n",
    "sys.path.insert(0,parentdir) \n",
    "import entity\n",
    "importlib.reload(entity)\n",
    "from entity import User, CB, MF, CF, HYBRID\n",
    "import utils.dataset_metrics as dt"
   ]
  },
  {
   "cell_type": "code",
   "execution_count": 3,
   "metadata": {},
   "outputs": [],
   "source": [
    "with open('C:\\\\Users\\\\danie\\\\Documents\\\\work\\\\testingRS\\\\TESTS\\\\objects\\\\tfidf.pkl', 'rb') as f:\n",
    "    tfidf_matrix, tfidf_feature_names, full_item_ids = pickle.load(f)\n",
    "\n",
    "with open('C:\\\\Users\\\\danie\\\\Documents\\\\work\\\\testingRS\\\\TESTS\\\\objects\\\\subset_1000.pkl', 'rb') as f:\n",
    "    utility_matrix_1, interactions_work_1 = pickle.load(f)\n",
    "    \n",
    "with open('C:\\\\Users\\\\danie\\\\Documents\\\\work\\\\testingRS\\\\TESTS\\\\objects\\\\subset_40000.pkl', 'rb') as f:\n",
    "    utility_matrix_2, interactions_work_2 = pickle.load(f)\n",
    "    \n",
    "with open('C:\\\\Users\\\\danie\\\\Documents\\\\work\\\\testingRS\\\\TESTS\\\\objects\\\\subset_72269.pkl', 'rb') as f:\n",
    "    utility_matrix_3, interactions_work_3 = pickle.load(f)"
   ]
  },
  {
   "cell_type": "code",
   "execution_count": 4,
   "metadata": {},
   "outputs": [
    {
     "data": {
      "text/plain": [
       "(3047, 5000)"
      ]
     },
     "execution_count": 4,
     "metadata": {},
     "output_type": "execute_result"
    }
   ],
   "source": [
    "tfidf_matrix.shape"
   ]
  },
  {
   "cell_type": "code",
   "execution_count": 5,
   "metadata": {},
   "outputs": [],
   "source": [
    "USER1 = '-1032019229384696495' ###5 interacciones nuevas en T2\n",
    "USER2 = '-108842214936804958' ## 2 interacciones nuevas en T3\n",
    "USER3 = '9135582630122950040'  ## volvió a interactuar con los mismos en  T2"
   ]
  },
  {
   "cell_type": "code",
   "execution_count": 6,
   "metadata": {},
   "outputs": [],
   "source": [
    "U1_T1 = User(USER1, utility_matrix_1, interactions_work_1)\n",
    "U1_T2 = User(USER1, utility_matrix_2, interactions_work_2)\n",
    "U1_T3 = User(USER1, utility_matrix_3, interactions_work_2)\n",
    "# U2_T1 = User(USER2, utility_matrix_1, interactions_work_1)\n",
    "# U2_T2 = User(USER2, utility_matrix_2, interactions_work_2)"
   ]
  },
  {
   "cell_type": "markdown",
   "metadata": {},
   "source": [
    "### ITEMS CON LOS QUE INTERACTUÓ"
   ]
  },
  {
   "cell_type": "code",
   "execution_count": 7,
   "metadata": {},
   "outputs": [],
   "source": [
    "folder = 'C:\\\\Users\\\\danie\\\\Documents\\\\work\\\\testingRS\\\\TESTS\\\\'\n",
    "articles_df = pd.read_csv(os.path.join(folder, 'articles/shared_articles.csv'))\n",
    "articles_df = articles_df[articles_df['eventType'] == 'CONTENT SHARED']\n",
    "articles_df['contentId'] = articles_df['contentId'].astype(str)\n"
   ]
  },
  {
   "cell_type": "code",
   "execution_count": 90,
   "metadata": {},
   "outputs": [
    {
     "data": {
      "text/html": [
       "<div>\n",
       "<style scoped>\n",
       "    .dataframe tbody tr th:only-of-type {\n",
       "        vertical-align: middle;\n",
       "    }\n",
       "\n",
       "    .dataframe tbody tr th {\n",
       "        vertical-align: top;\n",
       "    }\n",
       "\n",
       "    .dataframe thead th {\n",
       "        text-align: right;\n",
       "    }\n",
       "</style>\n",
       "<table border=\"1\" class=\"dataframe\">\n",
       "  <thead>\n",
       "    <tr style=\"text-align: right;\">\n",
       "      <th></th>\n",
       "      <th>title</th>\n",
       "      <th>text</th>\n",
       "    </tr>\n",
       "  </thead>\n",
       "  <tbody>\n",
       "    <tr>\n",
       "      <th>3</th>\n",
       "      <td>Google Data Center 360° Tour</td>\n",
       "      <td>We're excited to share the Google Data Center ...</td>\n",
       "    </tr>\n",
       "    <tr>\n",
       "      <th>9</th>\n",
       "      <td>The Rise And Growth of Ethereum Gets Mainstrea...</td>\n",
       "      <td>Ethereum, considered by many to be the most pr...</td>\n",
       "    </tr>\n",
       "    <tr>\n",
       "      <th>12</th>\n",
       "      <td>Setting Up SSL proxy for Google Cloud Load Bal...</td>\n",
       "      <td>Alpha This is an Alpha release of Setting Up S...</td>\n",
       "    </tr>\n",
       "    <tr>\n",
       "      <th>13</th>\n",
       "      <td>NTT to buy Dell's services division for $3.05 ...</td>\n",
       "      <td>You may know Dell as a computer and server mak...</td>\n",
       "    </tr>\n",
       "    <tr>\n",
       "      <th>14</th>\n",
       "      <td>Good riddance, gig economy: Uber, Ayn Rand and...</td>\n",
       "      <td>The Uber model just doesn't work for other ind...</td>\n",
       "    </tr>\n",
       "    <tr>\n",
       "      <th>19</th>\n",
       "      <td>Blockchain Smart Contracts Startup Selected By...</td>\n",
       "      <td>CommonAccord, a blockchain-based startup for l...</td>\n",
       "    </tr>\n",
       "    <tr>\n",
       "      <th>22</th>\n",
       "      <td>From fine wine to lotteries: Blockchain tech t...</td>\n",
       "      <td>Imagine a world where you can vote in an elect...</td>\n",
       "    </tr>\n",
       "    <tr>\n",
       "      <th>27</th>\n",
       "      <td>The Hierarchy of Engagement - Greylock Perspec...</td>\n",
       "      <td>The Hierarchy of Engagement The Fuel to Build ...</td>\n",
       "    </tr>\n",
       "    <tr>\n",
       "      <th>28</th>\n",
       "      <td>Welcome Google Cloud Platform!</td>\n",
       "      <td>Google Cloud Platform joined the Node.js Found...</td>\n",
       "    </tr>\n",
       "    <tr>\n",
       "      <th>29</th>\n",
       "      <td>Hopper raises $16 million for a travel app tha...</td>\n",
       "      <td>Hopper , the makers of a handy travel applicat...</td>\n",
       "    </tr>\n",
       "    <tr>\n",
       "      <th>33</th>\n",
       "      <td>French Senate Will Debate on Bitcoin Regulation</td>\n",
       "      <td>While the efforts by the French Senate to comb...</td>\n",
       "    </tr>\n",
       "    <tr>\n",
       "      <th>36</th>\n",
       "      <td>Enable the new Google Contacts for your users ...</td>\n",
       "      <td>Last year, we launched the new Google Contacts...</td>\n",
       "    </tr>\n",
       "    <tr>\n",
       "      <th>37</th>\n",
       "      <td>Study Shows Women and Minorities Are Punished ...</td>\n",
       "      <td>A new study finds that people love to hear abo...</td>\n",
       "    </tr>\n",
       "    <tr>\n",
       "      <th>38</th>\n",
       "      <td>Staying one step ahead at Pixar: An interview ...</td>\n",
       "      <td>The cofounder of the company that created the ...</td>\n",
       "    </tr>\n",
       "    <tr>\n",
       "      <th>44</th>\n",
       "      <td>As Microsoft US's AI chatbot turns racist trol...</td>\n",
       "      <td>While Tay, Microsoft US's deep-learning AI cha...</td>\n",
       "    </tr>\n",
       "    <tr>\n",
       "      <th>45</th>\n",
       "      <td>Linux at 25: Q&amp;A With Linus Torvalds</td>\n",
       "      <td>Photo: Ian White/Corbis Linus Torvalds created...</td>\n",
       "    </tr>\n",
       "    <tr>\n",
       "      <th>47</th>\n",
       "      <td>So your AI bot went haywire, should you care?</td>\n",
       "      <td>A Microsoft chatbot went rogue on Twitter and ...</td>\n",
       "    </tr>\n",
       "    <tr>\n",
       "      <th>51</th>\n",
       "      <td>The economic essentials of digital strategy</td>\n",
       "      <td>A supply-and-demand guide to digital disruptio...</td>\n",
       "    </tr>\n",
       "    <tr>\n",
       "      <th>54</th>\n",
       "      <td>Behind Facebook Messenger's plan to be an app ...</td>\n",
       "      <td>The question is: Why? Why would you as a user ...</td>\n",
       "    </tr>\n",
       "    <tr>\n",
       "      <th>56</th>\n",
       "      <td>LukeW | Obvious Always Wins</td>\n",
       "      <td>It's tempting to rely on menu controls in orde...</td>\n",
       "    </tr>\n",
       "    <tr>\n",
       "      <th>57</th>\n",
       "      <td>Facebook's New Mobile Test Framework Births Bo...</td>\n",
       "      <td>Facebook lost its ability to \"move fast and br...</td>\n",
       "    </tr>\n",
       "    <tr>\n",
       "      <th>60</th>\n",
       "      <td>Why and How to Avoid Hamburger Menus - Louie A...</td>\n",
       "      <td>We now have data that suggests Sidebar menus-s...</td>\n",
       "    </tr>\n",
       "    <tr>\n",
       "      <th>62</th>\n",
       "      <td>5 open-source alternatives to Slack</td>\n",
       "      <td>Slack, the team communication app, went down e...</td>\n",
       "    </tr>\n",
       "    <tr>\n",
       "      <th>64</th>\n",
       "      <td>Google Showcases Its Cloud Efforts, Determined...</td>\n",
       "      <td>In the cloud computing business, Google's tech...</td>\n",
       "    </tr>\n",
       "    <tr>\n",
       "      <th>66</th>\n",
       "      <td>Introducing the Google API Console</td>\n",
       "      <td>Every day, hundreds of thousands of developers...</td>\n",
       "    </tr>\n",
       "    <tr>\n",
       "      <th>67</th>\n",
       "      <td>Task management app Asana raises $50M at a $60...</td>\n",
       "      <td>Asana , an enterprise app that lets people set...</td>\n",
       "    </tr>\n",
       "    <tr>\n",
       "      <th>79</th>\n",
       "      <td>Google admits original enterprise cloud strate...</td>\n",
       "      <td>Image: Andy Wolber/TechRepublic Meet Google, a...</td>\n",
       "    </tr>\n",
       "    <tr>\n",
       "      <th>81</th>\n",
       "      <td>Spotify's Event Delivery - The Road to the Clo...</td>\n",
       "      <td>Whenever a user performs an action in the Spot...</td>\n",
       "    </tr>\n",
       "    <tr>\n",
       "      <th>91</th>\n",
       "      <td>Em parceria com Facebook, KLM passa a oferecer...</td>\n",
       "      <td>Facebook e KLM anunciaram hoje uma parceria qu...</td>\n",
       "    </tr>\n",
       "    <tr>\n",
       "      <th>96</th>\n",
       "      <td>Apple launches Safari Technology Preview, a br...</td>\n",
       "      <td>Apple today announced a new browser, sort of. ...</td>\n",
       "    </tr>\n",
       "    <tr>\n",
       "      <th>100</th>\n",
       "      <td>Spotify chooses Google Cloud Platform to power...</td>\n",
       "      <td>It's not every day you move a 75 million+ user...</td>\n",
       "    </tr>\n",
       "    <tr>\n",
       "      <th>102</th>\n",
       "      <td>The Future of Pen: Windows Ink</td>\n",
       "      <td>What a day at //build 2016! We're very proud o...</td>\n",
       "    </tr>\n",
       "    <tr>\n",
       "      <th>122</th>\n",
       "      <td>Microsoft: Windows Phone is not the place to d...</td>\n",
       "      <td>There were not a lot of Windows Phones at BUIL...</td>\n",
       "    </tr>\n",
       "    <tr>\n",
       "      <th>123</th>\n",
       "      <td>The 7 Coolest Virtual Reality Experiences Made...</td>\n",
       "      <td>Hololens just starting shipping their technolo...</td>\n",
       "    </tr>\n",
       "    <tr>\n",
       "      <th>124</th>\n",
       "      <td>Amazon Widens Its Push-Button E-Commerce Horizons</td>\n",
       "      <td>SEATTLE - Aaron Horn, an information technolog...</td>\n",
       "    </tr>\n",
       "    <tr>\n",
       "      <th>133</th>\n",
       "      <td>How Mature is Your Organization when it Comes ...</td>\n",
       "      <td>Every organization has its own goals, processe...</td>\n",
       "    </tr>\n",
       "  </tbody>\n",
       "</table>\n",
       "</div>"
      ],
      "text/plain": [
       "                                                 title  \\\n",
       "3                         Google Data Center 360° Tour   \n",
       "9    The Rise And Growth of Ethereum Gets Mainstrea...   \n",
       "12   Setting Up SSL proxy for Google Cloud Load Bal...   \n",
       "13   NTT to buy Dell's services division for $3.05 ...   \n",
       "14   Good riddance, gig economy: Uber, Ayn Rand and...   \n",
       "19   Blockchain Smart Contracts Startup Selected By...   \n",
       "22   From fine wine to lotteries: Blockchain tech t...   \n",
       "27   The Hierarchy of Engagement - Greylock Perspec...   \n",
       "28                      Welcome Google Cloud Platform!   \n",
       "29   Hopper raises $16 million for a travel app tha...   \n",
       "33     French Senate Will Debate on Bitcoin Regulation   \n",
       "36   Enable the new Google Contacts for your users ...   \n",
       "37   Study Shows Women and Minorities Are Punished ...   \n",
       "38   Staying one step ahead at Pixar: An interview ...   \n",
       "44   As Microsoft US's AI chatbot turns racist trol...   \n",
       "45                Linux at 25: Q&A With Linus Torvalds   \n",
       "47       So your AI bot went haywire, should you care?   \n",
       "51         The economic essentials of digital strategy   \n",
       "54   Behind Facebook Messenger's plan to be an app ...   \n",
       "56                         LukeW | Obvious Always Wins   \n",
       "57   Facebook's New Mobile Test Framework Births Bo...   \n",
       "60   Why and How to Avoid Hamburger Menus - Louie A...   \n",
       "62                 5 open-source alternatives to Slack   \n",
       "64   Google Showcases Its Cloud Efforts, Determined...   \n",
       "66                  Introducing the Google API Console   \n",
       "67   Task management app Asana raises $50M at a $60...   \n",
       "79   Google admits original enterprise cloud strate...   \n",
       "81   Spotify's Event Delivery - The Road to the Clo...   \n",
       "91   Em parceria com Facebook, KLM passa a oferecer...   \n",
       "96   Apple launches Safari Technology Preview, a br...   \n",
       "100  Spotify chooses Google Cloud Platform to power...   \n",
       "102                     The Future of Pen: Windows Ink   \n",
       "122  Microsoft: Windows Phone is not the place to d...   \n",
       "123  The 7 Coolest Virtual Reality Experiences Made...   \n",
       "124  Amazon Widens Its Push-Button E-Commerce Horizons   \n",
       "133  How Mature is Your Organization when it Comes ...   \n",
       "\n",
       "                                                  text  \n",
       "3    We're excited to share the Google Data Center ...  \n",
       "9    Ethereum, considered by many to be the most pr...  \n",
       "12   Alpha This is an Alpha release of Setting Up S...  \n",
       "13   You may know Dell as a computer and server mak...  \n",
       "14   The Uber model just doesn't work for other ind...  \n",
       "19   CommonAccord, a blockchain-based startup for l...  \n",
       "22   Imagine a world where you can vote in an elect...  \n",
       "27   The Hierarchy of Engagement The Fuel to Build ...  \n",
       "28   Google Cloud Platform joined the Node.js Found...  \n",
       "29   Hopper , the makers of a handy travel applicat...  \n",
       "33   While the efforts by the French Senate to comb...  \n",
       "36   Last year, we launched the new Google Contacts...  \n",
       "37   A new study finds that people love to hear abo...  \n",
       "38   The cofounder of the company that created the ...  \n",
       "44   While Tay, Microsoft US's deep-learning AI cha...  \n",
       "45   Photo: Ian White/Corbis Linus Torvalds created...  \n",
       "47   A Microsoft chatbot went rogue on Twitter and ...  \n",
       "51   A supply-and-demand guide to digital disruptio...  \n",
       "54   The question is: Why? Why would you as a user ...  \n",
       "56   It's tempting to rely on menu controls in orde...  \n",
       "57   Facebook lost its ability to \"move fast and br...  \n",
       "60   We now have data that suggests Sidebar menus-s...  \n",
       "62   Slack, the team communication app, went down e...  \n",
       "64   In the cloud computing business, Google's tech...  \n",
       "66   Every day, hundreds of thousands of developers...  \n",
       "67   Asana , an enterprise app that lets people set...  \n",
       "79   Image: Andy Wolber/TechRepublic Meet Google, a...  \n",
       "81   Whenever a user performs an action in the Spot...  \n",
       "91   Facebook e KLM anunciaram hoje uma parceria qu...  \n",
       "96   Apple today announced a new browser, sort of. ...  \n",
       "100  It's not every day you move a 75 million+ user...  \n",
       "102  What a day at //build 2016! We're very proud o...  \n",
       "122  There were not a lot of Windows Phones at BUIL...  \n",
       "123  Hololens just starting shipping their technolo...  \n",
       "124  SEATTLE - Aaron Horn, an information technolog...  \n",
       "133  Every organization has its own goals, processe...  "
      ]
     },
     "execution_count": 90,
     "metadata": {},
     "output_type": "execute_result"
    }
   ],
   "source": [
    "# U1_T1.items_to_ignore\n",
    "articles_df[articles_df['contentId'].isin(U1_T1.items_to_ignore)][['title', 'text']]"
   ]
  },
  {
   "cell_type": "code",
   "execution_count": 96,
   "metadata": {},
   "outputs": [
    {
     "data": {
      "text/html": [
       "<div>\n",
       "<style scoped>\n",
       "    .dataframe tbody tr th:only-of-type {\n",
       "        vertical-align: middle;\n",
       "    }\n",
       "\n",
       "    .dataframe tbody tr th {\n",
       "        vertical-align: top;\n",
       "    }\n",
       "\n",
       "    .dataframe thead th {\n",
       "        text-align: right;\n",
       "    }\n",
       "</style>\n",
       "<table border=\"1\" class=\"dataframe\">\n",
       "  <thead>\n",
       "    <tr style=\"text-align: right;\">\n",
       "      <th></th>\n",
       "      <th>title</th>\n",
       "      <th>text</th>\n",
       "    </tr>\n",
       "  </thead>\n",
       "  <tbody>\n",
       "    <tr>\n",
       "      <th>20</th>\n",
       "      <td>Using Gamified Hacking Challenges To Attract N...</td>\n",
       "      <td>The blockchain ecosystem is always in need of ...</td>\n",
       "    </tr>\n",
       "    <tr>\n",
       "      <th>21</th>\n",
       "      <td>O potencial do bitcoin na América Latina</td>\n",
       "      <td>28/03/2016 | por Safiri Felix | em Economia As...</td>\n",
       "    </tr>\n",
       "    <tr>\n",
       "      <th>69</th>\n",
       "      <td>Paragraphs</td>\n",
       "      <td>Overview Paragraphs is the new way of content ...</td>\n",
       "    </tr>\n",
       "    <tr>\n",
       "      <th>106</th>\n",
       "      <td>Coder | Drupal.org</td>\n",
       "      <td>Coder checks your Drupal code against coding s...</td>\n",
       "    </tr>\n",
       "    <tr>\n",
       "      <th>121</th>\n",
       "      <td>Visual C++ for Linux Development</td>\n",
       "      <td>Today we're making a new extension available t...</td>\n",
       "    </tr>\n",
       "    <tr>\n",
       "      <th>135</th>\n",
       "      <td>Building A Better Workforce: 5 Talent Trends W...</td>\n",
       "      <td>As we take a look forward at what's new and wh...</td>\n",
       "    </tr>\n",
       "  </tbody>\n",
       "</table>\n",
       "</div>"
      ],
      "text/plain": [
       "                                                 title  \\\n",
       "20   Using Gamified Hacking Challenges To Attract N...   \n",
       "21            O potencial do bitcoin na América Latina   \n",
       "69                                          Paragraphs   \n",
       "106                                 Coder | Drupal.org   \n",
       "121                   Visual C++ for Linux Development   \n",
       "135  Building A Better Workforce: 5 Talent Trends W...   \n",
       "\n",
       "                                                  text  \n",
       "20   The blockchain ecosystem is always in need of ...  \n",
       "21   28/03/2016 | por Safiri Felix | em Economia As...  \n",
       "69   Overview Paragraphs is the new way of content ...  \n",
       "106  Coder checks your Drupal code against coding s...  \n",
       "121  Today we're making a new extension available t...  \n",
       "135  As we take a look forward at what's new and wh...  "
      ]
     },
     "execution_count": 96,
     "metadata": {},
     "output_type": "execute_result"
    }
   ],
   "source": [
    "articles_df[articles_df['contentId'].isin(topmf)][['title', 'text']]"
   ]
  },
  {
   "cell_type": "code",
   "execution_count": 11,
   "metadata": {},
   "outputs": [],
   "source": [
    "T1_items_no_interacted = [x for x in list(U1_T1.utility_matrix.columns) if x not in U1_T1.items_to_ignore] ##tiempo 1\n",
    "real_interactions = interactions_work_2[interactions_work_2['contentId'].isin(T1_items_no_interacted) & (interactions_work_2['personId'] == U1_T1.id)]\n",
    "items_ri = list(real_interactions.contentId)\n",
    "hy = HYBRID(U1_T1, 15, 10, full_item_ids, tfidf_matrix)\n",
    "predictions = hy.get_all_predictions()"
   ]
  },
  {
   "cell_type": "code",
   "execution_count": 15,
   "metadata": {},
   "outputs": [
    {
     "data": {
      "text/html": [
       "<div>\n",
       "<style scoped>\n",
       "    .dataframe tbody tr th:only-of-type {\n",
       "        vertical-align: middle;\n",
       "    }\n",
       "\n",
       "    .dataframe tbody tr th {\n",
       "        vertical-align: top;\n",
       "    }\n",
       "\n",
       "    .dataframe thead th {\n",
       "        text-align: right;\n",
       "    }\n",
       "</style>\n",
       "<table border=\"1\" class=\"dataframe\">\n",
       "  <thead>\n",
       "    <tr style=\"text-align: right;\">\n",
       "      <th>contentId</th>\n",
       "      <th>-4571929941432664145</th>\n",
       "      <th>-518690781085251687</th>\n",
       "      <th>3703141283586666995</th>\n",
       "      <th>7454130161726657097</th>\n",
       "      <th>7767869406844505704</th>\n",
       "    </tr>\n",
       "  </thead>\n",
       "  <tbody>\n",
       "    <tr>\n",
       "      <th>-1032019229384696495</th>\n",
       "      <td>0.290018</td>\n",
       "      <td>0.348224</td>\n",
       "      <td>0.083899</td>\n",
       "      <td>0.157355</td>\n",
       "      <td>0.164212</td>\n",
       "    </tr>\n",
       "    <tr>\n",
       "      <th>-1032019229384696495</th>\n",
       "      <td>0.171985</td>\n",
       "      <td>0.137851</td>\n",
       "      <td>0.170022</td>\n",
       "      <td>0.157665</td>\n",
       "      <td>0.187673</td>\n",
       "    </tr>\n",
       "    <tr>\n",
       "      <th>-1032019229384696495</th>\n",
       "      <td>0.560743</td>\n",
       "      <td>0.466995</td>\n",
       "      <td>0.499229</td>\n",
       "      <td>0.466995</td>\n",
       "      <td>0.466995</td>\n",
       "    </tr>\n",
       "  </tbody>\n",
       "</table>\n",
       "</div>"
      ],
      "text/plain": [
       "contentId             -4571929941432664145  -518690781085251687  \\\n",
       "-1032019229384696495              0.290018             0.348224   \n",
       "-1032019229384696495              0.171985             0.137851   \n",
       "-1032019229384696495              0.560743             0.466995   \n",
       "\n",
       "contentId             3703141283586666995  7454130161726657097  \\\n",
       "-1032019229384696495             0.083899             0.157355   \n",
       "-1032019229384696495             0.170022             0.157665   \n",
       "-1032019229384696495             0.499229             0.466995   \n",
       "\n",
       "contentId             7767869406844505704  \n",
       "-1032019229384696495             0.164212  \n",
       "-1032019229384696495             0.187673  \n",
       "-1032019229384696495             0.466995  "
      ]
     },
     "execution_count": 15,
     "metadata": {},
     "output_type": "execute_result"
    }
   ],
   "source": [
    "predictions[items_ri]"
   ]
  },
  {
   "cell_type": "code",
   "execution_count": 18,
   "metadata": {},
   "outputs": [
    {
     "data": {
      "text/html": [
       "<div>\n",
       "<style scoped>\n",
       "    .dataframe tbody tr th:only-of-type {\n",
       "        vertical-align: middle;\n",
       "    }\n",
       "\n",
       "    .dataframe tbody tr th {\n",
       "        vertical-align: top;\n",
       "    }\n",
       "\n",
       "    .dataframe thead th {\n",
       "        text-align: right;\n",
       "    }\n",
       "</style>\n",
       "<table border=\"1\" class=\"dataframe\">\n",
       "  <thead>\n",
       "    <tr style=\"text-align: right;\">\n",
       "      <th></th>\n",
       "      <th>CB</th>\n",
       "      <th>MF</th>\n",
       "      <th>CF</th>\n",
       "      <th>ORIGINAL</th>\n",
       "      <th>Hybrid</th>\n",
       "    </tr>\n",
       "    <tr>\n",
       "      <th>contentId</th>\n",
       "      <th></th>\n",
       "      <th></th>\n",
       "      <th></th>\n",
       "      <th></th>\n",
       "      <th></th>\n",
       "    </tr>\n",
       "  </thead>\n",
       "  <tbody>\n",
       "    <tr>\n",
       "      <th>-4571929941432664145</th>\n",
       "      <td>0.290018</td>\n",
       "      <td>0.171985</td>\n",
       "      <td>0.560743</td>\n",
       "      <td>0.4</td>\n",
       "      <td>0.335672</td>\n",
       "    </tr>\n",
       "    <tr>\n",
       "      <th>-518690781085251687</th>\n",
       "      <td>0.348224</td>\n",
       "      <td>0.137851</td>\n",
       "      <td>0.466995</td>\n",
       "      <td>0.8</td>\n",
       "      <td>0.326058</td>\n",
       "    </tr>\n",
       "    <tr>\n",
       "      <th>3703141283586666995</th>\n",
       "      <td>0.083899</td>\n",
       "      <td>0.170022</td>\n",
       "      <td>0.499229</td>\n",
       "      <td>0.8</td>\n",
       "      <td>0.225145</td>\n",
       "    </tr>\n",
       "    <tr>\n",
       "      <th>7454130161726657097</th>\n",
       "      <td>0.157355</td>\n",
       "      <td>0.157665</td>\n",
       "      <td>0.466995</td>\n",
       "      <td>0.8</td>\n",
       "      <td>0.245714</td>\n",
       "    </tr>\n",
       "    <tr>\n",
       "      <th>7767869406844505704</th>\n",
       "      <td>0.164212</td>\n",
       "      <td>0.187673</td>\n",
       "      <td>0.466995</td>\n",
       "      <td>0.4</td>\n",
       "      <td>0.257202</td>\n",
       "    </tr>\n",
       "  </tbody>\n",
       "</table>\n",
       "</div>"
      ],
      "text/plain": [
       "                            CB        MF        CF  ORIGINAL    Hybrid\n",
       "contentId                                                             \n",
       "-4571929941432664145  0.290018  0.171985  0.560743       0.4  0.335672\n",
       "-518690781085251687   0.348224  0.137851  0.466995       0.8  0.326058\n",
       "3703141283586666995   0.083899  0.170022  0.499229       0.8  0.225145\n",
       "7454130161726657097   0.157355  0.157665  0.466995       0.8  0.245714\n",
       "7767869406844505704   0.164212  0.187673  0.466995       0.4  0.257202"
      ]
     },
     "execution_count": 18,
     "metadata": {},
     "output_type": "execute_result"
    }
   ],
   "source": [
    "testfinal = [0.45, 0.28, 0.28] \n",
    "df = predictions[items_ri].reset_index(drop=True).T\n",
    "df = df.rename(columns={0: \"CB\", 1: \"MF\", 2: \"CF\"})\n",
    "for i in range(df.shape[0]):\n",
    "    content = df.iloc[i].name\n",
    "    df.loc[content, \"ORIGINAL\"] = real_interactions[real_interactions.contentId == content]['rating'].values[0]/5\n",
    "    \n",
    "df['Hybrid'] = df.apply(lambda row: row['CB']*testfinal[0] + row['MF']*testfinal[1] + row['CF']*testfinal[2], axis=1)\n",
    "df"
   ]
  },
  {
   "cell_type": "code",
   "execution_count": 19,
   "metadata": {},
   "outputs": [
    {
     "data": {
      "text/html": [
       "<div>\n",
       "<style scoped>\n",
       "    .dataframe tbody tr th:only-of-type {\n",
       "        vertical-align: middle;\n",
       "    }\n",
       "\n",
       "    .dataframe tbody tr th {\n",
       "        vertical-align: top;\n",
       "    }\n",
       "\n",
       "    .dataframe thead th {\n",
       "        text-align: right;\n",
       "    }\n",
       "</style>\n",
       "<table border=\"1\" class=\"dataframe\">\n",
       "  <thead>\n",
       "    <tr style=\"text-align: right;\">\n",
       "      <th></th>\n",
       "      <th>CB</th>\n",
       "      <th>MF</th>\n",
       "      <th>CF</th>\n",
       "      <th>Hybrid</th>\n",
       "    </tr>\n",
       "  </thead>\n",
       "  <tbody>\n",
       "    <tr>\n",
       "      <th>-1032019229384696495</th>\n",
       "      <td>0.239517</td>\n",
       "      <td>0.268997</td>\n",
       "      <td>0.0685149</td>\n",
       "      <td>0.177368</td>\n",
       "    </tr>\n",
       "  </tbody>\n",
       "</table>\n",
       "</div>"
      ],
      "text/plain": [
       "                            CB        MF         CF    Hybrid\n",
       "-1032019229384696495  0.239517  0.268997  0.0685149  0.177368"
      ]
     },
     "execution_count": 19,
     "metadata": {},
     "output_type": "execute_result"
    }
   ],
   "source": [
    "errors = pd.DataFrame(index = [USER1], columns = ['CB','MF','CF', 'Hybrid'])\n",
    "errors.loc[USER1, 'CB'] = mean_squared_error(df['ORIGINAL'].values, df['CB'].values)\n",
    "errors.loc[USER1, 'MF'] = mean_squared_error(df['ORIGINAL'].values, df['MF'].values)\n",
    "errors.loc[USER1, 'CF'] = mean_squared_error(df['ORIGINAL'].values, df['CF'].values)\n",
    "errors.loc[USER1, 'Hybrid'] = mean_squared_error(df['ORIGINAL'].values, df['Hybrid'].values)\n",
    "errors"
   ]
  },
  {
   "cell_type": "code",
   "execution_count": 32,
   "metadata": {},
   "outputs": [
    {
     "name": "stdout",
     "output_type": "stream",
     "text": [
      "-4571929941432664145\n",
      "-518690781085251687\n"
     ]
    }
   ],
   "source": [
    "dict_hybrid = hy.get_hybrid_predictions(testfinal)\n",
    "ordered_keys = list({k: v for k, v in sorted(dict_hybrid.items(), key=lambda item: item[1], reverse=True)}.keys())\n",
    "top_hybrid = ordered_keys[0:10]\n",
    "for item in items_ri:\n",
    "    if item in top_hybrid:\n",
    "        print(item)"
   ]
  },
  {
   "cell_type": "code",
   "execution_count": 43,
   "metadata": {},
   "outputs": [
    {
     "name": "stdout",
     "output_type": "stream",
     "text": [
      "['-4571929941432664145', '-518690781085251687']\n",
      "['7767869406844505704']\n",
      "['-4571929941432664145']\n"
     ]
    }
   ],
   "source": [
    "dict_top = hy.get_top_N(15)\n",
    "cb_hits  = []\n",
    "mf_hits  = []\n",
    "cf_hits  = []\n",
    "for item in items_ri:\n",
    "    if item in dict_top['CB']:\n",
    "        cb_hits.append(item)\n",
    "    if item in dict_top['MF']:\n",
    "        mf_hits.append(item)\n",
    "    if item in dict_top['CF']:\n",
    "        cf_hits.append(item)\n",
    "print(cb_hits)\n",
    "print(mf_hits)\n",
    "print(cf_hits)"
   ]
  },
  {
   "cell_type": "code",
   "execution_count": 39,
   "metadata": {},
   "outputs": [
    {
     "data": {
      "text/plain": [
       "['-518690781085251687',\n",
       " '5619251370090681244',\n",
       " '8095004770374551394',\n",
       " '-36844712915106340',\n",
       " '3067875254349597654',\n",
       " '8298709454703868984',\n",
       " '6023609667389715259',\n",
       " '-5431549861280885742',\n",
       " '-8773118241761372618',\n",
       " '7528802258213768379',\n",
       " '-2271868873349907631',\n",
       " '809601605585939618',\n",
       " '-1672166631728511207',\n",
       " '-1802980374508081539',\n",
       " '-6136272094613269629']"
      ]
     },
     "execution_count": 39,
     "metadata": {},
     "output_type": "execute_result"
    }
   ],
   "source": [
    "N = 15\n",
    "testfinal = [0.45, 0.28, 0.28] \n",
    "topcb = dict_top['CB'][0:round(testfinal[0]*N)]\n",
    "topmf = dict_top['MF'][0:round(testfinal[1]*N)]\n",
    "topcf = dict_top['CF'][0:round(testfinal[2]*N)]\n",
    "topn = topcb + topmf + topcf\n",
    "topn"
   ]
  },
  {
   "cell_type": "code",
   "execution_count": 40,
   "metadata": {},
   "outputs": [
    {
     "name": "stdout",
     "output_type": "stream",
     "text": [
      "-518690781085251687\n"
     ]
    }
   ],
   "source": [
    "for item in items_ri:\n",
    "    if item in topn:\n",
    "        print(item)\n",
    "        "
   ]
  },
  {
   "cell_type": "code",
   "execution_count": 24,
   "metadata": {},
   "outputs": [],
   "source": [
    "test0 = [0.33, 0.33, 0.33] \n",
    "test1 = [0.7, 0.15, 0.15] \n",
    "test2 = [0.15, 0.7, 0.15] \n",
    "test3 = [0.15, 0.15, 0.7] \n",
    "test4 = [0, 0.5, 0.5] \n",
    "test5 = [0.5, 0.5, 0] \n",
    "weightsm = [test0, test1, test2, test3, test4, test5]\n",
    "d = {}\n",
    "for i, weights in enumerate(weightsm):\n",
    "    name_col = \"HY-{}\".format(i)\n",
    "    dict_hybrid = hy.get_hybrid_predictions(weights)\n",
    "    ordered_keys = list({k: v for k, v in sorted(dict_hybrid.items(), key=lambda item: item[1], reverse=True)}.keys())\n",
    "    top_hybrid = ordered_keys[0:10]\n",
    "    d[i] = [hit for hit in items_ri if hit in top_hybrid]\n",
    "    df[name_col] = df.apply(\n",
    "        lambda row: row['CB']*weights[0] + row['MF']*weights[1] + row['CF']*weights[2], axis=1)\n",
    "df"
   ]
  },
  {
   "cell_type": "code",
   "execution_count": 45,
   "metadata": {},
   "outputs": [],
   "source": [
    "# dict_hybrid = hy.get_hybrid_predictions(weightsm[5])\n",
    "# ordered_keys = list({k: v for k, v in sorted(dict_hybrid.items(), key=lambda item: item[1], reverse=True)}.keys())\n",
    "# ordered_keys"
   ]
  },
  {
   "cell_type": "markdown",
   "metadata": {},
   "source": [
    "## CF DIFF"
   ]
  },
  {
   "cell_type": "code",
   "execution_count": 110,
   "metadata": {},
   "outputs": [
    {
     "data": {
      "text/html": [
       "<div>\n",
       "<style scoped>\n",
       "    .dataframe tbody tr th:only-of-type {\n",
       "        vertical-align: middle;\n",
       "    }\n",
       "\n",
       "    .dataframe tbody tr th {\n",
       "        vertical-align: top;\n",
       "    }\n",
       "\n",
       "    .dataframe thead th {\n",
       "        text-align: right;\n",
       "    }\n",
       "</style>\n",
       "<table border=\"1\" class=\"dataframe\">\n",
       "  <thead>\n",
       "    <tr style=\"text-align: right;\">\n",
       "      <th></th>\n",
       "      <th>-4571929941432664145</th>\n",
       "      <th>-518690781085251687</th>\n",
       "      <th>3703141283586666995</th>\n",
       "      <th>7454130161726657097</th>\n",
       "      <th>7767869406844505704</th>\n",
       "    </tr>\n",
       "  </thead>\n",
       "  <tbody>\n",
       "    <tr>\n",
       "      <th>-1032019229384696495</th>\n",
       "      <td>0.200278</td>\n",
       "      <td>0.10653</td>\n",
       "      <td>0.138764</td>\n",
       "      <td>0.10653</td>\n",
       "      <td>0.10653</td>\n",
       "    </tr>\n",
       "  </tbody>\n",
       "</table>\n",
       "</div>"
      ],
      "text/plain": [
       "                      -4571929941432664145  -518690781085251687  \\\n",
       "-1032019229384696495              0.200278              0.10653   \n",
       "\n",
       "                      3703141283586666995  7454130161726657097  \\\n",
       "-1032019229384696495             0.138764              0.10653   \n",
       "\n",
       "                      7767869406844505704  \n",
       "-1032019229384696495              0.10653  "
      ]
     },
     "execution_count": 110,
     "metadata": {},
     "output_type": "execute_result"
    }
   ],
   "source": [
    "cf = CF(U1_T1, 10)\n",
    "cf_predictions = cf.predict_ratings()\n",
    "cf_predictions[items_ri]"
   ]
  },
  {
   "cell_type": "code",
   "execution_count": 111,
   "metadata": {},
   "outputs": [
    {
     "data": {
      "text/plain": [
       "0.1065298498464881"
      ]
     },
     "execution_count": 111,
     "metadata": {},
     "output_type": "execute_result"
    }
   ],
   "source": [
    "cf.default_rating()[0]"
   ]
  },
  {
   "cell_type": "code",
   "execution_count": 35,
   "metadata": {},
   "outputs": [],
   "source": []
  },
  {
   "cell_type": "code",
   "execution_count": null,
   "metadata": {},
   "outputs": [],
   "source": []
  },
  {
   "cell_type": "code",
   "execution_count": null,
   "metadata": {},
   "outputs": [],
   "source": []
  },
  {
   "cell_type": "code",
   "execution_count": null,
   "metadata": {},
   "outputs": [],
   "source": []
  },
  {
   "cell_type": "code",
   "execution_count": 65,
   "metadata": {},
   "outputs": [],
   "source": []
  },
  {
   "cell_type": "code",
   "execution_count": 69,
   "metadata": {},
   "outputs": [
    {
     "data": {
      "text/plain": [
       "['-518690781085251687',\n",
       " '5619251370090681244',\n",
       " '8095004770374551394',\n",
       " '-36844712915106340',\n",
       " '3067875254349597654',\n",
       " '8298709454703868984',\n",
       " '6023609667389715259',\n",
       " '-4571929941432664145',\n",
       " '-5973686110278905367',\n",
       " '-5431549861280885742',\n",
       " '-8773118241761372618',\n",
       " '7528802258213768379',\n",
       " '-2271868873349907631',\n",
       " '-1672166631728511207',\n",
       " '8194079557551008273',\n",
       " '809601605585939618',\n",
       " '-1672166631728511207',\n",
       " '-1802980374508081539',\n",
       " '-6136272094613269629',\n",
       " '-4571929941432664145',\n",
       " '-4662020648308370136']"
      ]
     },
     "execution_count": 69,
     "metadata": {},
     "output_type": "execute_result"
    }
   ],
   "source": [
    "USER = USER1\n",
    "errors = pd.DataFrame(index = [USER], columns = ['CB','MF','CF'])\n",
    "errors.loc[USER, 'CB'] = mean_squared_error(df['ORIGINAL'].values, df['CB'].values)\n",
    "errors.loc[USER, 'MF'] = mean_squared_error(df['ORIGINAL'].values, df['MF'].values)\n",
    "errors.loc[USER, 'CF'] = mean_squared_error(df['ORIGINAL'].values, df['CF'].values)\n",
    "errors.loc[USER, 'HY-0'] = mean_squared_error(df['ORIGINAL'].values, df['HY-0'].values)\n",
    "errors.loc[USER, 'HY-1'] = mean_squared_error(df['ORIGINAL'].values, df['HY-1'].values)\n",
    "errors.loc[USER, 'HY-2'] = mean_squared_error(df['ORIGINAL'].values, df['HY-2'].values)\n",
    "errors.loc[USER, 'HY-3'] = mean_squared_error(df['ORIGINAL'].values, df['HY-3'].values)\n",
    "errors.loc[USER, 'HY-4'] = mean_squared_error(df['ORIGINAL'].values, df['HY-4'].values)\n",
    "errors.loc[USER, 'HY-5'] = mean_squared_error(df['ORIGINAL'].values, df['HY-5'].values)\n",
    "\n",
    "errors"
   ]
  },
  {
   "cell_type": "markdown",
   "metadata": {},
   "source": [
    "## CHECK CF"
   ]
  },
  {
   "cell_type": "code",
   "execution_count": 120,
   "metadata": {},
   "outputs": [],
   "source": [
    "USER = '-1032019229384696495'\n",
    "user_object = User(USER, utility_matrix_1, interactions_work_1)\n",
    "cf = CF(user_object, 10)\n",
    "us, sim, ind = cf.getNneighbors()\n",
    "itemid = '-6362758570633473480'"
   ]
  },
  {
   "cell_type": "code",
   "execution_count": 121,
   "metadata": {},
   "outputs": [],
   "source": [
    "um = cf.user.utility_matrix.copy()\n",
    "index_user = list(cf.user.utility_matrix.index).index(cf.user.id)\n",
    "rating_user = um.iloc[index_user, :]\n",
    "rating_user[rating_user == 0] = np.nan\n",
    "mean_rating_user = np.nanmean(rating_user.values)\n",
    "sum_n_similarities = np.sum(sim)\n",
    "wtd_sum = 0"
   ]
  },
  {
   "cell_type": "code",
   "execution_count": 126,
   "metadata": {},
   "outputs": [
    {
     "name": "stdout",
     "output_type": "stream",
     "text": [
      "0.0\n",
      "0.0\n",
      "0.0\n",
      "0.0\n",
      "0.0\n",
      "0.0\n",
      "0.0\n",
      "0.0\n",
      "0.0\n",
      "0.0\n"
     ]
    }
   ],
   "source": [
    "for index, i in enumerate(ind):\n",
    "    user_neig = list(cf.user.utility_matrix.index)[i]\n",
    "    rating_neig = cf.user.utility_matrix.loc[user_neig][itemid]\n",
    "    average_rating_neig = np.mean(cf.user.utility_matrix.iloc[i, :])\n",
    "    user_full = um.iloc[i, :]\n",
    "    user_full[user_full == 0] = np.nan\n",
    "    real_av = np.nanmean(user_full.values)\n",
    "#     print(real_av)\n",
    "    rating_diff = rating_neig - real_av\n",
    "    product = rating_diff * (sim[index])\n",
    "    print(rating_neig)\n",
    "    wtd_sum = wtd_sum + product\n",
    "prediction = mean_rating_user + (wtd_sum/sum_n_similarities)\n"
   ]
  },
  {
   "cell_type": "code",
   "execution_count": null,
   "metadata": {},
   "outputs": [],
   "source": []
  },
  {
   "cell_type": "code",
   "execution_count": null,
   "metadata": {},
   "outputs": [],
   "source": []
  }
 ],
 "metadata": {
  "kernelspec": {
   "display_name": "Python 3.7.3 64-bit (conda)",
   "language": "python",
   "name": "python37364bitconda2d5a697b17b14b5baedb9541463973cc"
  },
  "language_info": {
   "codemirror_mode": {
    "name": "ipython",
    "version": 3
   },
   "file_extension": ".py",
   "mimetype": "text/x-python",
   "name": "python",
   "nbconvert_exporter": "python",
   "pygments_lexer": "ipython3",
   "version": "3.7.3"
  }
 },
 "nbformat": 4,
 "nbformat_minor": 2
}
