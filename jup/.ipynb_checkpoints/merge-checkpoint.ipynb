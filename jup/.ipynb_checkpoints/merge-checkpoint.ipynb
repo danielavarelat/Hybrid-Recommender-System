{
 "cells": [
  {
   "cell_type": "code",
   "execution_count": 4,
   "metadata": {},
   "outputs": [],
   "source": [
    "import importlib, sys\n",
    "import pickle"
   ]
  },
  {
   "cell_type": "code",
   "execution_count": 8,
   "metadata": {},
   "outputs": [],
   "source": [
    "parentdir = 'C:\\\\Users\\\\danie\\\\Documents\\\\work\\\\testingRS\\\\TESTS'\n",
    "sys.path.insert(0,parentdir) \n",
    "import entity\n",
    "importlib.reload(entity)\n",
    "from entity import User, CB, MF, CF "
   ]
  },
  {
   "cell_type": "code",
   "execution_count": 5,
   "metadata": {},
   "outputs": [],
   "source": [
    "with open('C:\\\\Users\\\\danie\\\\Documents\\\\work\\\\testingRS\\\\TESTS\\\\objects\\\\tfidf.pkl', 'rb') as f:\n",
    "    tfidf_matrix, tfidf_feature_names, full_item_ids = pickle.load(f)\n",
    "\n",
    "with open('C:\\\\Users\\\\danie\\\\Documents\\\\work\\\\testingRS\\\\TESTS\\\\objects\\\\subset_1000.pkl', 'rb') as f:\n",
    "    utility_matrix_1, interactions_work_1 = pickle.load(f)"
   ]
  },
  {
   "cell_type": "markdown",
   "metadata": {},
   "source": [
    "## INPUTS"
   ]
  },
  {
   "cell_type": "code",
   "execution_count": 12,
   "metadata": {},
   "outputs": [],
   "source": [
    "USER = '-3596626804281480007'\n",
    "FACTORS_MF = 15\n",
    "NUMBER_NEIGHBORS = 20"
   ]
  },
  {
   "cell_type": "code",
   "execution_count": 19,
   "metadata": {},
   "outputs": [],
   "source": [
    "user_object = User(USER, utility_matrix_1, interactions_work_1)"
   ]
  },
  {
   "cell_type": "markdown",
   "metadata": {},
   "source": [
    "## 1. Content Based"
   ]
  },
  {
   "cell_type": "code",
   "execution_count": 24,
   "metadata": {},
   "outputs": [],
   "source": [
    "cb = CB(user_object)\n",
    "cb_predictions = cb.compute_similarities(cb.user.interactions_df,cb.user.id, full_item_ids, tfidf_matrix, cb.user.items_to_ignore)"
   ]
  },
  {
   "cell_type": "markdown",
   "metadata": {},
   "source": [
    "## 2. Matrix Factorization"
   ]
  },
  {
   "cell_type": "code",
   "execution_count": 21,
   "metadata": {},
   "outputs": [
    {
     "name": "stderr",
     "output_type": "stream",
     "text": [
      "C:\\Users\\danie\\Documents\\work\\testingRS\\TESTS\\entity.py:79: FutureWarning: Method .as_matrix will be removed in a future version. Use .values instead.\n",
      "  users_items_pivot_matrix = utility_matrix.as_matrix()\n"
     ]
    }
   ],
   "source": [
    "mf = MF(user_object)\n",
    "mf_predictions = mf.predictions_user(FACTORS_MF)"
   ]
  },
  {
   "cell_type": "markdown",
   "metadata": {},
   "source": [
    "## 3. Collaborative Filtering - User based"
   ]
  },
  {
   "cell_type": "code",
   "execution_count": 25,
   "metadata": {},
   "outputs": [],
   "source": [
    "cf = CF(user_object)\n",
    "cf_predictions = cf.predict_ratings(NUMBER_NEIGHBORS, USER, cf.user.utility_matrix, cf.user.items_to_ignore)"
   ]
  },
  {
   "cell_type": "markdown",
   "metadata": {},
   "source": [
    "## APPEND RESULTS: CB - MF - CF"
   ]
  },
  {
   "cell_type": "code",
   "execution_count": 33,
   "metadata": {},
   "outputs": [],
   "source": [
    "df_results = cb_predictions.append(mf_predictions, sort=True)  ##el primero es MF\n",
    "df_results = df_results.append(cf_predictions, sort=True) "
   ]
  },
  {
   "cell_type": "code",
   "execution_count": 34,
   "metadata": {},
   "outputs": [
    {
     "data": {
      "text/html": [
       "<div>\n",
       "<style scoped>\n",
       "    .dataframe tbody tr th:only-of-type {\n",
       "        vertical-align: middle;\n",
       "    }\n",
       "\n",
       "    .dataframe tbody tr th {\n",
       "        vertical-align: top;\n",
       "    }\n",
       "\n",
       "    .dataframe thead th {\n",
       "        text-align: right;\n",
       "    }\n",
       "</style>\n",
       "<table border=\"1\" class=\"dataframe\">\n",
       "  <thead>\n",
       "    <tr style=\"text-align: right;\">\n",
       "      <th></th>\n",
       "      <th>-1021685224930603833</th>\n",
       "      <th>-1591454024897803197</th>\n",
       "      <th>-1672166631728511207</th>\n",
       "      <th>-1802980374508081539</th>\n",
       "      <th>-2081760549863309770</th>\n",
       "      <th>-2176468683077766369</th>\n",
       "      <th>-2271868873349907631</th>\n",
       "      <th>-2711301039947937868</th>\n",
       "      <th>-2778760500673113802</th>\n",
       "      <th>-2826566343807132236</th>\n",
       "      <th>...</th>\n",
       "      <th>8095004770374551394</th>\n",
       "      <th>809601605585939618</th>\n",
       "      <th>8194079557551008273</th>\n",
       "      <th>8219310215587599928</th>\n",
       "      <th>8298709454703868984</th>\n",
       "      <th>84318068629167514</th>\n",
       "      <th>8471417198703153120</th>\n",
       "      <th>8545647269051113523</th>\n",
       "      <th>8565115980515859979</th>\n",
       "      <th>9032993320407723266</th>\n",
       "    </tr>\n",
       "  </thead>\n",
       "  <tbody>\n",
       "    <tr>\n",
       "      <th>-3596626804281480007</th>\n",
       "      <td>0.010515</td>\n",
       "      <td>0.128308</td>\n",
       "      <td>0.020962</td>\n",
       "      <td>0.121353</td>\n",
       "      <td>0.048819</td>\n",
       "      <td>0.367331</td>\n",
       "      <td>0.144854</td>\n",
       "      <td>0.050575</td>\n",
       "      <td>0.073150</td>\n",
       "      <td>0.089152</td>\n",
       "      <td>...</td>\n",
       "      <td>0.170196</td>\n",
       "      <td>0.058101</td>\n",
       "      <td>0.123156</td>\n",
       "      <td>0.124496</td>\n",
       "      <td>0.129474</td>\n",
       "      <td>0.009385</td>\n",
       "      <td>0.143339</td>\n",
       "      <td>0.083885</td>\n",
       "      <td>0.071487</td>\n",
       "      <td>0.086540</td>\n",
       "    </tr>\n",
       "    <tr>\n",
       "      <th>-3596626804281480007</th>\n",
       "      <td>0.115669</td>\n",
       "      <td>0.158806</td>\n",
       "      <td>0.205226</td>\n",
       "      <td>0.182964</td>\n",
       "      <td>0.168654</td>\n",
       "      <td>0.256359</td>\n",
       "      <td>0.153038</td>\n",
       "      <td>0.189915</td>\n",
       "      <td>0.136501</td>\n",
       "      <td>0.159022</td>\n",
       "      <td>...</td>\n",
       "      <td>0.133869</td>\n",
       "      <td>0.123630</td>\n",
       "      <td>0.123409</td>\n",
       "      <td>0.170801</td>\n",
       "      <td>0.160013</td>\n",
       "      <td>0.158638</td>\n",
       "      <td>0.178037</td>\n",
       "      <td>0.170801</td>\n",
       "      <td>0.136486</td>\n",
       "      <td>0.172972</td>\n",
       "    </tr>\n",
       "    <tr>\n",
       "      <th>-3596626804281480007</th>\n",
       "      <td>0.009846</td>\n",
       "      <td>0.009846</td>\n",
       "      <td>0.324418</td>\n",
       "      <td>0.139855</td>\n",
       "      <td>0.163283</td>\n",
       "      <td>0.505975</td>\n",
       "      <td>0.009846</td>\n",
       "      <td>0.009846</td>\n",
       "      <td>0.009846</td>\n",
       "      <td>0.009846</td>\n",
       "      <td>...</td>\n",
       "      <td>0.009846</td>\n",
       "      <td>0.170514</td>\n",
       "      <td>0.009846</td>\n",
       "      <td>0.074850</td>\n",
       "      <td>0.009846</td>\n",
       "      <td>0.009846</td>\n",
       "      <td>0.009846</td>\n",
       "      <td>0.074850</td>\n",
       "      <td>0.009846</td>\n",
       "      <td>0.009846</td>\n",
       "    </tr>\n",
       "  </tbody>\n",
       "</table>\n",
       "<p>3 rows × 120 columns</p>\n",
       "</div>"
      ],
      "text/plain": [
       "                      -1021685224930603833  -1591454024897803197  \\\n",
       "-3596626804281480007              0.010515              0.128308   \n",
       "-3596626804281480007              0.115669              0.158806   \n",
       "-3596626804281480007              0.009846              0.009846   \n",
       "\n",
       "                      -1672166631728511207  -1802980374508081539  \\\n",
       "-3596626804281480007              0.020962              0.121353   \n",
       "-3596626804281480007              0.205226              0.182964   \n",
       "-3596626804281480007              0.324418              0.139855   \n",
       "\n",
       "                      -2081760549863309770  -2176468683077766369  \\\n",
       "-3596626804281480007              0.048819              0.367331   \n",
       "-3596626804281480007              0.168654              0.256359   \n",
       "-3596626804281480007              0.163283              0.505975   \n",
       "\n",
       "                      -2271868873349907631  -2711301039947937868  \\\n",
       "-3596626804281480007              0.144854              0.050575   \n",
       "-3596626804281480007              0.153038              0.189915   \n",
       "-3596626804281480007              0.009846              0.009846   \n",
       "\n",
       "                      -2778760500673113802  -2826566343807132236  ...  \\\n",
       "-3596626804281480007              0.073150              0.089152  ...   \n",
       "-3596626804281480007              0.136501              0.159022  ...   \n",
       "-3596626804281480007              0.009846              0.009846  ...   \n",
       "\n",
       "                      8095004770374551394  809601605585939618  \\\n",
       "-3596626804281480007             0.170196            0.058101   \n",
       "-3596626804281480007             0.133869            0.123630   \n",
       "-3596626804281480007             0.009846            0.170514   \n",
       "\n",
       "                      8194079557551008273  8219310215587599928  \\\n",
       "-3596626804281480007             0.123156             0.124496   \n",
       "-3596626804281480007             0.123409             0.170801   \n",
       "-3596626804281480007             0.009846             0.074850   \n",
       "\n",
       "                      8298709454703868984  84318068629167514  \\\n",
       "-3596626804281480007             0.129474           0.009385   \n",
       "-3596626804281480007             0.160013           0.158638   \n",
       "-3596626804281480007             0.009846           0.009846   \n",
       "\n",
       "                      8471417198703153120  8545647269051113523  \\\n",
       "-3596626804281480007             0.143339             0.083885   \n",
       "-3596626804281480007             0.178037             0.170801   \n",
       "-3596626804281480007             0.009846             0.074850   \n",
       "\n",
       "                      8565115980515859979  9032993320407723266  \n",
       "-3596626804281480007             0.071487             0.086540  \n",
       "-3596626804281480007             0.136486             0.172972  \n",
       "-3596626804281480007             0.009846             0.009846  \n",
       "\n",
       "[3 rows x 120 columns]"
      ]
     },
     "execution_count": 34,
     "metadata": {},
     "output_type": "execute_result"
    }
   ],
   "source": [
    "df_results"
   ]
  }
 ],
 "metadata": {
  "kernelspec": {
   "display_name": "Python 3",
   "language": "python",
   "name": "python3"
  },
  "language_info": {
   "codemirror_mode": {
    "name": "ipython",
    "version": 3
   },
   "file_extension": ".py",
   "mimetype": "text/x-python",
   "name": "python",
   "nbconvert_exporter": "python",
   "pygments_lexer": "ipython3",
   "version": "3.7.3"
  }
 },
 "nbformat": 4,
 "nbformat_minor": 2
}
