{
 "cells": [
  {
   "cell_type": "code",
   "execution_count": 9,
   "metadata": {},
   "outputs": [],
   "source": [
    "from nltk.corpus import stopwords\n",
    "from sklearn.feature_extraction.text import TfidfVectorizer\n",
    "import pandas as pd\n",
    "import scipy\n",
    "import numpy as np\n",
    "import pickle\n",
    "import sys, os\n",
    "parentdir = 'C:\\\\Users\\\\danie\\\\Documents\\\\work\\\\testingRS\\\\TESTS'\n",
    "sys.path.insert(0,parentdir) \n",
    "from utils import keywords"
   ]
  },
  {
   "cell_type": "code",
   "execution_count": 12,
   "metadata": {},
   "outputs": [],
   "source": [
    "folder = 'C:\\\\Users\\\\danie\\\\Documents\\\\work\\\\testingRS\\\\TESTS\\\\'\n",
    "articles_df = pd.read_csv(os.path.join(folder, 'articles/shared_articles.csv'))\n",
    "articles_df = articles_df[articles_df['eventType'] == 'CONTENT SHARED']\n",
    "\n",
    "tfidf_matrix, tfidf_feature_names = keywords.createTDIDF(articles_df)\n"
   ]
  },
  {
   "cell_type": "code",
   "execution_count": 12,
   "metadata": {},
   "outputs": [],
   "source": []
  },
  {
   "cell_type": "code",
   "execution_count": 13,
   "metadata": {},
   "outputs": [
    {
     "data": {
      "text/plain": [
       "({'ethereum': 0.698,\n",
       "  'bitcoin': 0.368,\n",
       "  'ether': 0.269,\n",
       "  'mr': 0.177,\n",
       "  'system': 0.132,\n",
       "  'blockchains': 0.117,\n",
       "  'blockchain': 0.105,\n",
       "  'said': 0.104,\n",
       "  'currency': 0.091,\n",
       "  'helped': 0.077},\n",
       " 0.214)"
      ]
     },
     "execution_count": 13,
     "metadata": {},
     "output_type": "execute_result"
    }
   ],
   "source": [
    "full_item_ids = articles_df['contentId'].tolist()\n",
    "full_item_ids = [str(i) for i in full_item_ids]\n",
    "\n",
    "ITEM = '-4110354420726924665'\n",
    "keywords.get_keywords(full_item_ids, tfidf_matrix, tfidf_feature_names, 5, ITEM)"
   ]
  },
  {
   "cell_type": "code",
   "execution_count": 31,
   "metadata": {},
   "outputs": [],
   "source": []
  },
  {
   "cell_type": "code",
   "execution_count": null,
   "metadata": {},
   "outputs": [],
   "source": []
  },
  {
   "cell_type": "code",
   "execution_count": null,
   "metadata": {},
   "outputs": [],
   "source": []
  },
  {
   "cell_type": "code",
   "execution_count": null,
   "metadata": {},
   "outputs": [],
   "source": []
  },
  {
   "cell_type": "code",
   "execution_count": null,
   "metadata": {},
   "outputs": [],
   "source": []
  },
  {
   "cell_type": "code",
   "execution_count": null,
   "metadata": {},
   "outputs": [],
   "source": []
  },
  {
   "cell_type": "code",
   "execution_count": 71,
   "metadata": {},
   "outputs": [],
   "source": []
  },
  {
   "cell_type": "code",
   "execution_count": null,
   "metadata": {},
   "outputs": [],
   "source": []
  }
 ],
 "metadata": {
  "kernelspec": {
   "display_name": "Python 3",
   "language": "python",
   "name": "python3"
  },
  "language_info": {
   "codemirror_mode": {
    "name": "ipython",
    "version": 3
   },
   "file_extension": ".py",
   "mimetype": "text/x-python",
   "name": "python",
   "nbconvert_exporter": "python",
   "pygments_lexer": "ipython3",
   "version": "3.7.3"
  }
 },
 "nbformat": 4,
 "nbformat_minor": 2
}
