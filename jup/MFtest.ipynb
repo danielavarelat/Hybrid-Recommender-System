{
 "cells": [
  {
   "cell_type": "code",
   "execution_count": 1,
   "metadata": {},
   "outputs": [],
   "source": [
    "import importlib, sys\n",
    "import pickle\n",
    "import numpy as np\n",
    "import warnings\n",
    "from sklearn.metrics import mean_squared_error\n",
    "import pandas as pd\n",
    "warnings.simplefilter(action='ignore', category=FutureWarning)"
   ]
  },
  {
   "cell_type": "code",
   "execution_count": 2,
   "metadata": {},
   "outputs": [],
   "source": [
    "parentdir = 'C:\\\\Users\\\\danie\\\\Documents\\\\work\\\\testingRS\\\\TESTS'\n",
    "sys.path.insert(0,parentdir) \n",
    "import entity\n",
    "importlib.reload(entity)\n",
    "from entity import User, CB, MF, CF, HYBRID\n",
    "import utils.dataset_metrics as dt"
   ]
  },
  {
   "cell_type": "code",
   "execution_count": 186,
   "metadata": {},
   "outputs": [],
   "source": [
    "with open('C:\\\\Users\\\\danie\\\\Documents\\\\work\\\\testingRS\\\\TESTS\\\\objects\\\\tfidf.pkl', 'rb') as f:\n",
    "    tfidf_matrix, tfidf_feature_names, full_item_ids = pickle.load(f)\n",
    "    \n",
    "with open('C:\\\\Users\\\\danie\\\\Documents\\\\work\\\\testingRS\\\\TESTS\\\\objects\\\\subset_1000.pkl', 'rb') as f:\n",
    "    utility_matrix_1, interactions_work_1 = pickle.load(f)\n",
    "    \n",
    "with open('C:\\\\Users\\\\danie\\\\Documents\\\\work\\\\testingRS\\\\TESTS\\\\objects\\\\subset_40000.pkl', 'rb') as f:\n",
    "    utility_matrix_2, interactions_work_2 = pickle.load(f)\n",
    "    \n",
    "with open('C:\\\\Users\\\\danie\\\\Documents\\\\work\\\\testingRS\\\\TESTS\\\\objects\\\\subset_72269.pkl', 'rb') as f:\n",
    "    utility_matrix_3, interactions_work_3 = pickle.load(f)"
   ]
  },
  {
   "cell_type": "markdown",
   "metadata": {},
   "source": [
    "## FILTER 1 - Users with al least 10 interactions"
   ]
  },
  {
   "cell_type": "code",
   "execution_count": 278,
   "metadata": {},
   "outputs": [
    {
     "name": "stdout",
     "output_type": "stream",
     "text": [
      "SPARSITY = 0.8223\n",
      "USUARIOS = 12 / ITEMS = 98\n"
     ]
    }
   ],
   "source": [
    "count_interactions = interactions_work_1.groupby(['personId', 'contentId']).size().groupby('personId').size()\n",
    "filtered_df1 = count_interactions[count_interactions >= 10].reset_index()[['personId']]\n",
    "interactions_subset_users = interactions_work_1[interactions_work_1['personId'].isin(list(filtered_df1.personId))]\n",
    "sub_um1 = interactions_subset_users.pivot(index='personId', columns='contentId', values='rating').fillna(0)\n",
    "print(\"SPARSITY = {}\".format(dt.get_overall_sparsity(sub_um1)))\n",
    "print(\"USUARIOS = {} / ITEMS = {}\".format(sub_um1.shape[0], sub_um1.shape[1]))"
   ]
  },
  {
   "cell_type": "markdown",
   "metadata": {},
   "source": [
    "## FILTER 2 - Items with at least 5 interactions"
   ]
  },
  {
   "cell_type": "code",
   "execution_count": 184,
   "metadata": {},
   "outputs": [
    {
     "name": "stdout",
     "output_type": "stream",
     "text": [
      "SPARSITY = 0.9576\n",
      "USUARIOS = 211 / ITEMS = 59\n"
     ]
    }
   ],
   "source": [
    "items_interactions = interactions_work_1.groupby(['personId', 'contentId']).size().groupby('contentId').size()\n",
    "filtered_df2 = items_interactions[items_interactions >= 5].reset_index()[['contentId']]\n",
    "interactions_subset_items = interactions_work_1[interactions_work_1['contentId'].isin(list(filtered_df2.contentId))]\n",
    "sub_um2 = interactions_subset_items.pivot(index='personId', columns='contentId', values='rating').fillna(0)\n",
    "print(\"SPARSITY = {}\".format(dt.get_overall_sparsity(sub_um2)))\n",
    "print(\"USUARIOS = {} / ITEMS = {}\".format(sub_um2.shape[0], sub_um2.shape[1]))"
   ]
  },
  {
   "cell_type": "markdown",
   "metadata": {},
   "source": [
    "## FILTER 3 - BOTH"
   ]
  },
  {
   "cell_type": "code",
   "execution_count": 342,
   "metadata": {},
   "outputs": [
    {
     "name": "stdout",
     "output_type": "stream",
     "text": [
      "SPARSITY = 0.7676\n",
      "USUARIOS = 12 / ITEMS = 52\n"
     ]
    }
   ],
   "source": [
    "interactions_subset = interactions_work_1[interactions_work_1['personId'].isin(list(filtered_df1.personId))\n",
    "                                          & interactions_work_1['contentId'].isin(list(filtered_df2.contentId))]\n",
    "sub_um3 = interactions_subset.pivot(index='personId', columns='contentId', values='rating').fillna(0)\n",
    "print(\"SPARSITY = {}\".format(dt.get_overall_sparsity(sub_um3)))\n",
    "print(\"USUARIOS = {} / ITEMS = {}\".format(sub_um3.shape[0], sub_um3.shape[1]))"
   ]
  },
  {
   "cell_type": "markdown",
   "metadata": {},
   "source": [
    "# PRUEBAS / SUB1"
   ]
  },
  {
   "cell_type": "code",
   "execution_count": 187,
   "metadata": {},
   "outputs": [],
   "source": [
    "um = sub_um1\n",
    "interactions = interactions_subset_users\n",
    "# um.shape[1] - (um == 0).astype(int).sum(axis=1) ## INTERACCIONES POR PERSONA\n"
   ]
  },
  {
   "cell_type": "code",
   "execution_count": 191,
   "metadata": {
    "scrolled": true
   },
   "outputs": [],
   "source": [
    "USER1 = '-1032019229384696495'\n",
    "USER2 = '1623838599684589103'\n",
    "USER3 = '4340306774493623681'\n",
    "\n",
    "FACTORS_MF = 5\n",
    "NUMBER_NEIGHBORS = 10\n"
   ]
  },
  {
   "cell_type": "code",
   "execution_count": 201,
   "metadata": {},
   "outputs": [
    {
     "name": "stdout",
     "output_type": "stream",
     "text": [
      "0.306\n"
     ]
    }
   ],
   "source": [
    "M1 = dt.get_metric1(USER3,um)\n",
    "print(M1)\n",
    "M3 = dt.get_metric3(um) ###EL 5% ES MENOR QUE UNO. SIEMPRE VA A DAR 1\n",
    "print(M3)\n"
   ]
  },
  {
   "cell_type": "code",
   "execution_count": 146,
   "metadata": {},
   "outputs": [
    {
     "data": {
      "text/html": [
       "<div>\n",
       "<style scoped>\n",
       "    .dataframe tbody tr th:only-of-type {\n",
       "        vertical-align: middle;\n",
       "    }\n",
       "\n",
       "    .dataframe tbody tr th {\n",
       "        vertical-align: top;\n",
       "    }\n",
       "\n",
       "    .dataframe thead th {\n",
       "        text-align: right;\n",
       "    }\n",
       "</style>\n",
       "<table border=\"1\" class=\"dataframe\">\n",
       "  <thead>\n",
       "    <tr style=\"text-align: right;\">\n",
       "      <th>contentId</th>\n",
       "      <th>-1021685224930603833</th>\n",
       "      <th>-1672166631728511207</th>\n",
       "      <th>-1802980374508081539</th>\n",
       "      <th>-2711301039947937868</th>\n",
       "      <th>-2778760500673113802</th>\n",
       "      <th>-327208414896292296</th>\n",
       "      <th>-36844712915106340</th>\n",
       "      <th>-3810375613673461625</th>\n",
       "      <th>-4102297002729307038</th>\n",
       "      <th>-4571929941432664145</th>\n",
       "      <th>...</th>\n",
       "      <th>7748594134538052724</th>\n",
       "      <th>787067277772219433</th>\n",
       "      <th>8095004770374551394</th>\n",
       "      <th>809601605585939618</th>\n",
       "      <th>8194079557551008273</th>\n",
       "      <th>8219310215587599928</th>\n",
       "      <th>8471417198703153120</th>\n",
       "      <th>8545647269051113523</th>\n",
       "      <th>8565115980515859979</th>\n",
       "      <th>9032993320407723266</th>\n",
       "    </tr>\n",
       "  </thead>\n",
       "  <tbody>\n",
       "    <tr>\n",
       "      <th>-1032019229384696495</th>\n",
       "      <td>0.120919</td>\n",
       "      <td>0.133445</td>\n",
       "      <td>0.121166</td>\n",
       "      <td>0.145162</td>\n",
       "      <td>0.109569</td>\n",
       "      <td>0.10444</td>\n",
       "      <td>0.124964</td>\n",
       "      <td>0.13621</td>\n",
       "      <td>0.088982</td>\n",
       "      <td>0.143434</td>\n",
       "      <td>...</td>\n",
       "      <td>0.108964</td>\n",
       "      <td>0.096494</td>\n",
       "      <td>0.133054</td>\n",
       "      <td>0.11919</td>\n",
       "      <td>0.120919</td>\n",
       "      <td>0.120314</td>\n",
       "      <td>0.175409</td>\n",
       "      <td>0.120314</td>\n",
       "      <td>0.13621</td>\n",
       "      <td>0.145162</td>\n",
       "    </tr>\n",
       "  </tbody>\n",
       "</table>\n",
       "<p>1 rows × 62 columns</p>\n",
       "</div>"
      ],
      "text/plain": [
       "contentId             -1021685224930603833  -1672166631728511207  \\\n",
       "-1032019229384696495              0.120919              0.133445   \n",
       "\n",
       "contentId             -1802980374508081539  -2711301039947937868  \\\n",
       "-1032019229384696495              0.121166              0.145162   \n",
       "\n",
       "contentId             -2778760500673113802  -327208414896292296  \\\n",
       "-1032019229384696495              0.109569              0.10444   \n",
       "\n",
       "contentId             -36844712915106340  -3810375613673461625  \\\n",
       "-1032019229384696495            0.124964               0.13621   \n",
       "\n",
       "contentId             -4102297002729307038  -4571929941432664145  ...  \\\n",
       "-1032019229384696495              0.088982              0.143434  ...   \n",
       "\n",
       "contentId             7748594134538052724  787067277772219433  \\\n",
       "-1032019229384696495             0.108964            0.096494   \n",
       "\n",
       "contentId             8095004770374551394  809601605585939618  \\\n",
       "-1032019229384696495             0.133054             0.11919   \n",
       "\n",
       "contentId             8194079557551008273  8219310215587599928  \\\n",
       "-1032019229384696495             0.120919             0.120314   \n",
       "\n",
       "contentId             8471417198703153120  8545647269051113523  \\\n",
       "-1032019229384696495             0.175409             0.120314   \n",
       "\n",
       "contentId             8565115980515859979  9032993320407723266  \n",
       "-1032019229384696495              0.13621             0.145162  \n",
       "\n",
       "[1 rows x 62 columns]"
      ]
     },
     "execution_count": 146,
     "metadata": {},
     "output_type": "execute_result"
    }
   ],
   "source": [
    "user_object = User(USER1, um, interactions)\n",
    "mf = MF(user_object, FACTORS_MF)\n",
    "mf_predictions = mf.predictions_user()\n",
    "mf_predictions"
   ]
  },
  {
   "cell_type": "markdown",
   "metadata": {},
   "source": [
    "# PRUEBAS / SUB2"
   ]
  },
  {
   "cell_type": "code",
   "execution_count": 202,
   "metadata": {},
   "outputs": [
    {
     "data": {
      "text/plain": [
       "personId\n",
       "-1032019229384696495    20\n",
       "-108842214936804958     12\n",
       "-123314413156450014      1\n",
       "-1352542225971050638     2\n",
       "-1387464358334758758     2\n",
       "                        ..\n",
       "9038446466275805109      1\n",
       "9050204922960952289      2\n",
       "9135582630122950040      3\n",
       "9137372837662939523      1\n",
       "9210530975708218054      1\n",
       "Length: 211, dtype: int64"
      ]
     },
     "execution_count": 202,
     "metadata": {},
     "output_type": "execute_result"
    }
   ],
   "source": [
    "um = sub_um2\n",
    "interactions = interactions_subset_items\n",
    "um.shape[1] - (um == 0).astype(int).sum(axis=1) ## INTERACCIONES POR PERSONA\n"
   ]
  },
  {
   "cell_type": "code",
   "execution_count": 203,
   "metadata": {},
   "outputs": [],
   "source": [
    "USER1 = '-1032019229384696495'\n",
    "USER2 = '-108842214936804958'\n",
    "USER3 = '-1387464358334758758'\n",
    "\n",
    "FACTORS_MF = 5\n",
    "NUMBER_NEIGHBORS = 10"
   ]
  },
  {
   "cell_type": "code",
   "execution_count": 206,
   "metadata": {},
   "outputs": [
    {
     "name": "stdout",
     "output_type": "stream",
     "text": [
      "0.1\n",
      "0.254\n"
     ]
    }
   ],
   "source": [
    "M1 = dt.get_metric1(USER3,um)\n",
    "print(M1)\n",
    "M3 = dt.get_metric3(um) ###EL 5% ES 10\n",
    "print(M3)"
   ]
  },
  {
   "cell_type": "code",
   "execution_count": 165,
   "metadata": {},
   "outputs": [
    {
     "data": {
      "text/html": [
       "<div>\n",
       "<style scoped>\n",
       "    .dataframe tbody tr th:only-of-type {\n",
       "        vertical-align: middle;\n",
       "    }\n",
       "\n",
       "    .dataframe tbody tr th {\n",
       "        vertical-align: top;\n",
       "    }\n",
       "\n",
       "    .dataframe thead th {\n",
       "        text-align: right;\n",
       "    }\n",
       "</style>\n",
       "<table border=\"1\" class=\"dataframe\">\n",
       "  <thead>\n",
       "    <tr style=\"text-align: right;\">\n",
       "      <th>contentId</th>\n",
       "      <th>-1021685224930603833</th>\n",
       "      <th>-1039912738963181810</th>\n",
       "      <th>-1590585250246572231</th>\n",
       "      <th>-1672166631728511207</th>\n",
       "      <th>-2081760549863309770</th>\n",
       "      <th>-2176468683077766369</th>\n",
       "      <th>-3173020603774823976</th>\n",
       "      <th>-36844712915106340</th>\n",
       "      <th>-4102297002729307038</th>\n",
       "      <th>-4110991218639855802</th>\n",
       "      <th>...</th>\n",
       "      <th>7520301770873472812</th>\n",
       "      <th>7528802258213768379</th>\n",
       "      <th>787067277772219433</th>\n",
       "      <th>8095004770374551394</th>\n",
       "      <th>809601605585939618</th>\n",
       "      <th>8194079557551008273</th>\n",
       "      <th>8471417198703153120</th>\n",
       "      <th>8742078838645536785</th>\n",
       "      <th>9032993320407723266</th>\n",
       "      <th>9122627895188486603</th>\n",
       "    </tr>\n",
       "  </thead>\n",
       "  <tbody>\n",
       "    <tr>\n",
       "      <th>-1387464358334758758</th>\n",
       "      <td>0.172501</td>\n",
       "      <td>0.178193</td>\n",
       "      <td>0.188813</td>\n",
       "      <td>0.178107</td>\n",
       "      <td>0.1769</td>\n",
       "      <td>0.178188</td>\n",
       "      <td>0.20151</td>\n",
       "      <td>0.167641</td>\n",
       "      <td>0.172535</td>\n",
       "      <td>0.180748</td>\n",
       "      <td>...</td>\n",
       "      <td>0.173172</td>\n",
       "      <td>0.167631</td>\n",
       "      <td>0.171052</td>\n",
       "      <td>0.168437</td>\n",
       "      <td>0.167192</td>\n",
       "      <td>0.171574</td>\n",
       "      <td>0.169833</td>\n",
       "      <td>0.189952</td>\n",
       "      <td>0.17273</td>\n",
       "      <td>0.185148</td>\n",
       "    </tr>\n",
       "  </tbody>\n",
       "</table>\n",
       "<p>1 rows × 57 columns</p>\n",
       "</div>"
      ],
      "text/plain": [
       "contentId             -1021685224930603833  -1039912738963181810  \\\n",
       "-1387464358334758758              0.172501              0.178193   \n",
       "\n",
       "contentId             -1590585250246572231  -1672166631728511207  \\\n",
       "-1387464358334758758              0.188813              0.178107   \n",
       "\n",
       "contentId             -2081760549863309770  -2176468683077766369  \\\n",
       "-1387464358334758758                0.1769              0.178188   \n",
       "\n",
       "contentId             -3173020603774823976  -36844712915106340  \\\n",
       "-1387464358334758758               0.20151            0.167641   \n",
       "\n",
       "contentId             -4102297002729307038  -4110991218639855802  ...  \\\n",
       "-1387464358334758758              0.172535              0.180748  ...   \n",
       "\n",
       "contentId             7520301770873472812  7528802258213768379  \\\n",
       "-1387464358334758758             0.173172             0.167631   \n",
       "\n",
       "contentId             787067277772219433  8095004770374551394  \\\n",
       "-1387464358334758758            0.171052             0.168437   \n",
       "\n",
       "contentId             809601605585939618  8194079557551008273  \\\n",
       "-1387464358334758758            0.167192             0.171574   \n",
       "\n",
       "contentId             8471417198703153120  8742078838645536785  \\\n",
       "-1387464358334758758             0.169833             0.189952   \n",
       "\n",
       "contentId             9032993320407723266  9122627895188486603  \n",
       "-1387464358334758758              0.17273             0.185148  \n",
       "\n",
       "[1 rows x 57 columns]"
      ]
     },
     "execution_count": 165,
     "metadata": {},
     "output_type": "execute_result"
    }
   ],
   "source": [
    "user_object = User(USER3, um, interactions)\n",
    "mf = MF(user_object, FACTORS_MF)\n",
    "mf_predictions = mf.predictions_user()\n",
    "mf_predictions"
   ]
  },
  {
   "cell_type": "markdown",
   "metadata": {},
   "source": [
    "# PRUEBAS / SUB3"
   ]
  },
  {
   "cell_type": "code",
   "execution_count": 207,
   "metadata": {},
   "outputs": [
    {
     "data": {
      "text/plain": [
       "personId\n",
       "-1032019229384696495    20\n",
       "-108842214936804958     12\n",
       "-1443636648652872475    10\n",
       "-2511855597392146401    16\n",
       "-2626634673110551643    13\n",
       "-7267769888748948232     6\n",
       "1120069409160402054     11\n",
       "1623838599684589103     15\n",
       "3609194402293569455     13\n",
       "3891637997717104548     13\n",
       "4340306774493623681      5\n",
       "8414731042150985013     11\n",
       "dtype: int64"
      ]
     },
     "execution_count": 207,
     "metadata": {},
     "output_type": "execute_result"
    }
   ],
   "source": [
    "um = sub_um3\n",
    "interactions = interactions_subset\n",
    "um.shape[1] - (um == 0).astype(int).sum(axis=1) ## INTERACCIONES POR PERSONA\n"
   ]
  },
  {
   "cell_type": "code",
   "execution_count": 208,
   "metadata": {},
   "outputs": [],
   "source": [
    "USER1 = '-1032019229384696495'\n",
    "USER2 = '-108842214936804958'\n",
    "USER3 = '4340306774493623681'\n",
    "\n",
    "FACTORS_MF = 5\n",
    "NUMBER_NEIGHBORS = 10"
   ]
  },
  {
   "cell_type": "code",
   "execution_count": 211,
   "metadata": {},
   "outputs": [
    {
     "name": "stdout",
     "output_type": "stream",
     "text": [
      "0.25\n",
      "1.0\n"
     ]
    }
   ],
   "source": [
    "M1 = dt.get_metric1(USER3,um)\n",
    "print(M1)\n",
    "M3 = dt.get_metric3(um) ###EL 5% ES MENOR QUE UNO. SIEMPRE VA A DAR 1\n",
    "print(M3)"
   ]
  },
  {
   "cell_type": "code",
   "execution_count": 180,
   "metadata": {},
   "outputs": [
    {
     "data": {
      "text/html": [
       "<div>\n",
       "<style scoped>\n",
       "    .dataframe tbody tr th:only-of-type {\n",
       "        vertical-align: middle;\n",
       "    }\n",
       "\n",
       "    .dataframe tbody tr th {\n",
       "        vertical-align: top;\n",
       "    }\n",
       "\n",
       "    .dataframe thead th {\n",
       "        text-align: right;\n",
       "    }\n",
       "</style>\n",
       "<table border=\"1\" class=\"dataframe\">\n",
       "  <thead>\n",
       "    <tr style=\"text-align: right;\">\n",
       "      <th>contentId</th>\n",
       "      <th>-1021685224930603833</th>\n",
       "      <th>-1039912738963181810</th>\n",
       "      <th>-1590585250246572231</th>\n",
       "      <th>-1672166631728511207</th>\n",
       "      <th>-2176468683077766369</th>\n",
       "      <th>-36844712915106340</th>\n",
       "      <th>-4102297002729307038</th>\n",
       "      <th>-4110991218639855802</th>\n",
       "      <th>-454649054276160610</th>\n",
       "      <th>-4571929941432664145</th>\n",
       "      <th>...</th>\n",
       "      <th>6152652267138213180</th>\n",
       "      <th>6157037646878010131</th>\n",
       "      <th>7520301770873472812</th>\n",
       "      <th>787067277772219433</th>\n",
       "      <th>8095004770374551394</th>\n",
       "      <th>809601605585939618</th>\n",
       "      <th>8194079557551008273</th>\n",
       "      <th>8742078838645536785</th>\n",
       "      <th>9032993320407723266</th>\n",
       "      <th>9122627895188486603</th>\n",
       "    </tr>\n",
       "  </thead>\n",
       "  <tbody>\n",
       "    <tr>\n",
       "      <th>4340306774493623681</th>\n",
       "      <td>0.141946</td>\n",
       "      <td>0.208899</td>\n",
       "      <td>0.178297</td>\n",
       "      <td>0.141432</td>\n",
       "      <td>0.217737</td>\n",
       "      <td>0.122753</td>\n",
       "      <td>0.148611</td>\n",
       "      <td>0.118889</td>\n",
       "      <td>0.167214</td>\n",
       "      <td>0.058612</td>\n",
       "      <td>...</td>\n",
       "      <td>0.180143</td>\n",
       "      <td>0.141946</td>\n",
       "      <td>0.141946</td>\n",
       "      <td>0.129239</td>\n",
       "      <td>0.093747</td>\n",
       "      <td>0.176586</td>\n",
       "      <td>0.141946</td>\n",
       "      <td>0.133181</td>\n",
       "      <td>0.108039</td>\n",
       "      <td>0.106309</td>\n",
       "    </tr>\n",
       "  </tbody>\n",
       "</table>\n",
       "<p>1 rows × 47 columns</p>\n",
       "</div>"
      ],
      "text/plain": [
       "contentId            -1021685224930603833  -1039912738963181810  \\\n",
       "4340306774493623681              0.141946              0.208899   \n",
       "\n",
       "contentId            -1590585250246572231  -1672166631728511207  \\\n",
       "4340306774493623681              0.178297              0.141432   \n",
       "\n",
       "contentId            -2176468683077766369  -36844712915106340  \\\n",
       "4340306774493623681              0.217737            0.122753   \n",
       "\n",
       "contentId            -4102297002729307038  -4110991218639855802  \\\n",
       "4340306774493623681              0.148611              0.118889   \n",
       "\n",
       "contentId            -454649054276160610  -4571929941432664145  ...  \\\n",
       "4340306774493623681             0.167214              0.058612  ...   \n",
       "\n",
       "contentId            6152652267138213180  6157037646878010131  \\\n",
       "4340306774493623681             0.180143             0.141946   \n",
       "\n",
       "contentId            7520301770873472812  787067277772219433  \\\n",
       "4340306774493623681             0.141946            0.129239   \n",
       "\n",
       "contentId            8095004770374551394  809601605585939618  \\\n",
       "4340306774493623681             0.093747            0.176586   \n",
       "\n",
       "contentId            8194079557551008273  8742078838645536785  \\\n",
       "4340306774493623681             0.141946             0.133181   \n",
       "\n",
       "contentId            9032993320407723266  9122627895188486603  \n",
       "4340306774493623681             0.108039             0.106309  \n",
       "\n",
       "[1 rows x 47 columns]"
      ]
     },
     "execution_count": 180,
     "metadata": {},
     "output_type": "execute_result"
    }
   ],
   "source": [
    "user_object = User(USER3, um, interactions)\n",
    "mf = MF(user_object, FACTORS_MF)\n",
    "mf_predictions = mf.predictions_user()\n",
    "mf_predictions"
   ]
  },
  {
   "cell_type": "markdown",
   "metadata": {},
   "source": [
    "## NEW USER - NO INTERACTIONS"
   ]
  },
  {
   "cell_type": "code",
   "execution_count": 3,
   "metadata": {},
   "outputs": [],
   "source": [
    "NEW_USER = '-1714802647008415227'"
   ]
  },
  {
   "cell_type": "markdown",
   "metadata": {},
   "source": [
    "### Filter 1"
   ]
  },
  {
   "cell_type": "code",
   "execution_count": 302,
   "metadata": {},
   "outputs": [
    {
     "name": "stdout",
     "output_type": "stream",
     "text": [
      "0.0\n",
      "1.0\n"
     ]
    },
    {
     "data": {
      "text/html": [
       "<div>\n",
       "<style scoped>\n",
       "    .dataframe tbody tr th:only-of-type {\n",
       "        vertical-align: middle;\n",
       "    }\n",
       "\n",
       "    .dataframe tbody tr th {\n",
       "        vertical-align: top;\n",
       "    }\n",
       "\n",
       "    .dataframe thead th {\n",
       "        text-align: right;\n",
       "    }\n",
       "</style>\n",
       "<table border=\"1\" class=\"dataframe\">\n",
       "  <thead>\n",
       "    <tr style=\"text-align: right;\">\n",
       "      <th>contentId</th>\n",
       "      <th>-1021685224930603833</th>\n",
       "      <th>-1039912738963181810</th>\n",
       "      <th>-1590585250246572231</th>\n",
       "      <th>-1672166631728511207</th>\n",
       "      <th>-1802980374508081539</th>\n",
       "      <th>-2081760549863309770</th>\n",
       "      <th>-2176468683077766369</th>\n",
       "      <th>-2711301039947937868</th>\n",
       "      <th>-2778760500673113802</th>\n",
       "      <th>-3173020603774823976</th>\n",
       "      <th>...</th>\n",
       "      <th>8095004770374551394</th>\n",
       "      <th>809601605585939618</th>\n",
       "      <th>8194079557551008273</th>\n",
       "      <th>8219310215587599928</th>\n",
       "      <th>8471417198703153120</th>\n",
       "      <th>8545647269051113523</th>\n",
       "      <th>8565115980515859979</th>\n",
       "      <th>8742078838645536785</th>\n",
       "      <th>9032993320407723266</th>\n",
       "      <th>9122627895188486603</th>\n",
       "    </tr>\n",
       "  </thead>\n",
       "  <tbody>\n",
       "    <tr>\n",
       "      <th>-1714802647008415227</th>\n",
       "      <td>0.119462</td>\n",
       "      <td>0.119462</td>\n",
       "      <td>0.119462</td>\n",
       "      <td>0.119462</td>\n",
       "      <td>0.119462</td>\n",
       "      <td>0.119462</td>\n",
       "      <td>0.119462</td>\n",
       "      <td>0.119462</td>\n",
       "      <td>0.119462</td>\n",
       "      <td>0.119462</td>\n",
       "      <td>...</td>\n",
       "      <td>0.119462</td>\n",
       "      <td>0.119462</td>\n",
       "      <td>0.119462</td>\n",
       "      <td>0.119462</td>\n",
       "      <td>0.119462</td>\n",
       "      <td>0.119462</td>\n",
       "      <td>0.119462</td>\n",
       "      <td>0.119462</td>\n",
       "      <td>0.119462</td>\n",
       "      <td>0.119462</td>\n",
       "    </tr>\n",
       "  </tbody>\n",
       "</table>\n",
       "<p>1 rows × 98 columns</p>\n",
       "</div>"
      ],
      "text/plain": [
       "contentId             -1021685224930603833  -1039912738963181810  \\\n",
       "-1714802647008415227              0.119462              0.119462   \n",
       "\n",
       "contentId             -1590585250246572231  -1672166631728511207  \\\n",
       "-1714802647008415227              0.119462              0.119462   \n",
       "\n",
       "contentId             -1802980374508081539  -2081760549863309770  \\\n",
       "-1714802647008415227              0.119462              0.119462   \n",
       "\n",
       "contentId             -2176468683077766369  -2711301039947937868  \\\n",
       "-1714802647008415227              0.119462              0.119462   \n",
       "\n",
       "contentId             -2778760500673113802  -3173020603774823976  ...  \\\n",
       "-1714802647008415227              0.119462              0.119462  ...   \n",
       "\n",
       "contentId             8095004770374551394  809601605585939618  \\\n",
       "-1714802647008415227             0.119462            0.119462   \n",
       "\n",
       "contentId             8194079557551008273  8219310215587599928  \\\n",
       "-1714802647008415227             0.119462             0.119462   \n",
       "\n",
       "contentId             8471417198703153120  8545647269051113523  \\\n",
       "-1714802647008415227             0.119462             0.119462   \n",
       "\n",
       "contentId             8565115980515859979  8742078838645536785  \\\n",
       "-1714802647008415227             0.119462             0.119462   \n",
       "\n",
       "contentId             9032993320407723266  9122627895188486603  \n",
       "-1714802647008415227             0.119462             0.119462  \n",
       "\n",
       "[1 rows x 98 columns]"
      ]
     },
     "execution_count": 302,
     "metadata": {},
     "output_type": "execute_result"
    }
   ],
   "source": [
    "# utiliity matrix\n",
    "listofzeros = [0] * sub_um1.shape[1]\n",
    "row_df = pd.DataFrame([listofzeros], index = [NEW_USER], columns =  sub_um1.columns)\n",
    "sub_um1_n = sub_um1.append(row_df)\n",
    "\n",
    "## user object\n",
    "user_object = User(NEW_USER, sub_um1_n, interactions_subset_users)\n",
    "mf = MF(user_object, FACTORS_MF)\n",
    "mf_predictions = mf.predictions_user()\n",
    "\n",
    "#metrics\n",
    "M1 = dt.get_metric1(NEW_USER,sub_um1_n)\n",
    "print(M1)\n",
    "M3 = dt.get_metric3(sub_um1_n) \n",
    "print(M3)\n",
    "\n",
    "mf_predictions"
   ]
  },
  {
   "cell_type": "markdown",
   "metadata": {},
   "source": [
    "## Filter 2"
   ]
  },
  {
   "cell_type": "code",
   "execution_count": 309,
   "metadata": {},
   "outputs": [
    {
     "name": "stdout",
     "output_type": "stream",
     "text": [
      "0.0\n",
      "0.254\n"
     ]
    },
    {
     "data": {
      "text/html": [
       "<div>\n",
       "<style scoped>\n",
       "    .dataframe tbody tr th:only-of-type {\n",
       "        vertical-align: middle;\n",
       "    }\n",
       "\n",
       "    .dataframe tbody tr th {\n",
       "        vertical-align: top;\n",
       "    }\n",
       "\n",
       "    .dataframe thead th {\n",
       "        text-align: right;\n",
       "    }\n",
       "</style>\n",
       "<table border=\"1\" class=\"dataframe\">\n",
       "  <thead>\n",
       "    <tr style=\"text-align: right;\">\n",
       "      <th>contentId</th>\n",
       "      <th>-1021685224930603833</th>\n",
       "      <th>-1039912738963181810</th>\n",
       "      <th>-1590585250246572231</th>\n",
       "      <th>-1672166631728511207</th>\n",
       "      <th>-2081760549863309770</th>\n",
       "      <th>-2176468683077766369</th>\n",
       "      <th>-3173020603774823976</th>\n",
       "      <th>-36844712915106340</th>\n",
       "      <th>-4102297002729307038</th>\n",
       "      <th>-4110991218639855802</th>\n",
       "      <th>...</th>\n",
       "      <th>7520301770873472812</th>\n",
       "      <th>7528802258213768379</th>\n",
       "      <th>787067277772219433</th>\n",
       "      <th>8095004770374551394</th>\n",
       "      <th>809601605585939618</th>\n",
       "      <th>8194079557551008273</th>\n",
       "      <th>8471417198703153120</th>\n",
       "      <th>8742078838645536785</th>\n",
       "      <th>9032993320407723266</th>\n",
       "      <th>9122627895188486603</th>\n",
       "    </tr>\n",
       "  </thead>\n",
       "  <tbody>\n",
       "    <tr>\n",
       "      <th>-1714802647008415227</th>\n",
       "      <td>0.170708</td>\n",
       "      <td>0.170708</td>\n",
       "      <td>0.170708</td>\n",
       "      <td>0.170708</td>\n",
       "      <td>0.170708</td>\n",
       "      <td>0.170708</td>\n",
       "      <td>0.170708</td>\n",
       "      <td>0.170708</td>\n",
       "      <td>0.170708</td>\n",
       "      <td>0.170708</td>\n",
       "      <td>...</td>\n",
       "      <td>0.170708</td>\n",
       "      <td>0.170708</td>\n",
       "      <td>0.170708</td>\n",
       "      <td>0.170708</td>\n",
       "      <td>0.170708</td>\n",
       "      <td>0.170708</td>\n",
       "      <td>0.170708</td>\n",
       "      <td>0.170708</td>\n",
       "      <td>0.170708</td>\n",
       "      <td>0.170708</td>\n",
       "    </tr>\n",
       "  </tbody>\n",
       "</table>\n",
       "<p>1 rows × 59 columns</p>\n",
       "</div>"
      ],
      "text/plain": [
       "contentId             -1021685224930603833  -1039912738963181810  \\\n",
       "-1714802647008415227              0.170708              0.170708   \n",
       "\n",
       "contentId             -1590585250246572231  -1672166631728511207  \\\n",
       "-1714802647008415227              0.170708              0.170708   \n",
       "\n",
       "contentId             -2081760549863309770  -2176468683077766369  \\\n",
       "-1714802647008415227              0.170708              0.170708   \n",
       "\n",
       "contentId             -3173020603774823976  -36844712915106340  \\\n",
       "-1714802647008415227              0.170708            0.170708   \n",
       "\n",
       "contentId             -4102297002729307038  -4110991218639855802  ...  \\\n",
       "-1714802647008415227              0.170708              0.170708  ...   \n",
       "\n",
       "contentId             7520301770873472812  7528802258213768379  \\\n",
       "-1714802647008415227             0.170708             0.170708   \n",
       "\n",
       "contentId             787067277772219433  8095004770374551394  \\\n",
       "-1714802647008415227            0.170708             0.170708   \n",
       "\n",
       "contentId             809601605585939618  8194079557551008273  \\\n",
       "-1714802647008415227            0.170708             0.170708   \n",
       "\n",
       "contentId             8471417198703153120  8742078838645536785  \\\n",
       "-1714802647008415227             0.170708             0.170708   \n",
       "\n",
       "contentId             9032993320407723266  9122627895188486603  \n",
       "-1714802647008415227             0.170708             0.170708  \n",
       "\n",
       "[1 rows x 59 columns]"
      ]
     },
     "execution_count": 309,
     "metadata": {},
     "output_type": "execute_result"
    }
   ],
   "source": [
    "# utiliity matrix\n",
    "listofzeros = [0] * sub_um2.shape[1]\n",
    "row_df = pd.DataFrame([listofzeros], index = [NEW_USER], columns =  sub_um2.columns)\n",
    "sub_um2_n = sub_um2.append(row_df)\n",
    "\n",
    "## user object\n",
    "user_object = User(NEW_USER, sub_um2_n, interactions_subset_items)\n",
    "mf = MF(user_object, FACTORS_MF)\n",
    "mf_predictions = mf.predictions_user()\n",
    "\n",
    "\n",
    "#metrics\n",
    "M1 = dt.get_metric1(NEW_USER,sub_um2_n)\n",
    "print(M1)\n",
    "M3 = dt.get_metric3(sub_um2_n) \n",
    "print(M3)\n",
    "\n",
    "mf_predictions"
   ]
  },
  {
   "cell_type": "markdown",
   "metadata": {},
   "source": [
    "## Filter 3"
   ]
  },
  {
   "cell_type": "code",
   "execution_count": 306,
   "metadata": {},
   "outputs": [
    {
     "name": "stdout",
     "output_type": "stream",
     "text": [
      "0.0\n",
      "1.0\n"
     ]
    },
    {
     "data": {
      "text/html": [
       "<div>\n",
       "<style scoped>\n",
       "    .dataframe tbody tr th:only-of-type {\n",
       "        vertical-align: middle;\n",
       "    }\n",
       "\n",
       "    .dataframe tbody tr th {\n",
       "        vertical-align: top;\n",
       "    }\n",
       "\n",
       "    .dataframe thead th {\n",
       "        text-align: right;\n",
       "    }\n",
       "</style>\n",
       "<table border=\"1\" class=\"dataframe\">\n",
       "  <thead>\n",
       "    <tr style=\"text-align: right;\">\n",
       "      <th>contentId</th>\n",
       "      <th>-1021685224930603833</th>\n",
       "      <th>-1039912738963181810</th>\n",
       "      <th>-1590585250246572231</th>\n",
       "      <th>-1672166631728511207</th>\n",
       "      <th>-2081760549863309770</th>\n",
       "      <th>-2176468683077766369</th>\n",
       "      <th>-3173020603774823976</th>\n",
       "      <th>-36844712915106340</th>\n",
       "      <th>-4102297002729307038</th>\n",
       "      <th>-4110991218639855802</th>\n",
       "      <th>...</th>\n",
       "      <th>6157037646878010131</th>\n",
       "      <th>7520301770873472812</th>\n",
       "      <th>787067277772219433</th>\n",
       "      <th>8095004770374551394</th>\n",
       "      <th>809601605585939618</th>\n",
       "      <th>8194079557551008273</th>\n",
       "      <th>8471417198703153120</th>\n",
       "      <th>8742078838645536785</th>\n",
       "      <th>9032993320407723266</th>\n",
       "      <th>9122627895188486603</th>\n",
       "    </tr>\n",
       "  </thead>\n",
       "  <tbody>\n",
       "    <tr>\n",
       "      <th>-1714802647008415227</th>\n",
       "      <td>0.122087</td>\n",
       "      <td>0.122087</td>\n",
       "      <td>0.122087</td>\n",
       "      <td>0.122087</td>\n",
       "      <td>0.122087</td>\n",
       "      <td>0.122087</td>\n",
       "      <td>0.122087</td>\n",
       "      <td>0.122087</td>\n",
       "      <td>0.122087</td>\n",
       "      <td>0.122087</td>\n",
       "      <td>...</td>\n",
       "      <td>0.122087</td>\n",
       "      <td>0.122087</td>\n",
       "      <td>0.122087</td>\n",
       "      <td>0.122087</td>\n",
       "      <td>0.122087</td>\n",
       "      <td>0.122087</td>\n",
       "      <td>0.122087</td>\n",
       "      <td>0.122087</td>\n",
       "      <td>0.122087</td>\n",
       "      <td>0.122087</td>\n",
       "    </tr>\n",
       "  </tbody>\n",
       "</table>\n",
       "<p>1 rows × 52 columns</p>\n",
       "</div>"
      ],
      "text/plain": [
       "contentId             -1021685224930603833  -1039912738963181810  \\\n",
       "-1714802647008415227              0.122087              0.122087   \n",
       "\n",
       "contentId             -1590585250246572231  -1672166631728511207  \\\n",
       "-1714802647008415227              0.122087              0.122087   \n",
       "\n",
       "contentId             -2081760549863309770  -2176468683077766369  \\\n",
       "-1714802647008415227              0.122087              0.122087   \n",
       "\n",
       "contentId             -3173020603774823976  -36844712915106340  \\\n",
       "-1714802647008415227              0.122087            0.122087   \n",
       "\n",
       "contentId             -4102297002729307038  -4110991218639855802  ...  \\\n",
       "-1714802647008415227              0.122087              0.122087  ...   \n",
       "\n",
       "contentId             6157037646878010131  7520301770873472812  \\\n",
       "-1714802647008415227             0.122087             0.122087   \n",
       "\n",
       "contentId             787067277772219433  8095004770374551394  \\\n",
       "-1714802647008415227            0.122087             0.122087   \n",
       "\n",
       "contentId             809601605585939618  8194079557551008273  \\\n",
       "-1714802647008415227            0.122087             0.122087   \n",
       "\n",
       "contentId             8471417198703153120  8742078838645536785  \\\n",
       "-1714802647008415227             0.122087             0.122087   \n",
       "\n",
       "contentId             9032993320407723266  9122627895188486603  \n",
       "-1714802647008415227             0.122087             0.122087  \n",
       "\n",
       "[1 rows x 52 columns]"
      ]
     },
     "execution_count": 306,
     "metadata": {},
     "output_type": "execute_result"
    }
   ],
   "source": [
    "# utiliity matrix\n",
    "listofzeros = [0] * sub_um3.shape[1]\n",
    "row_df = pd.DataFrame([listofzeros], index = [NEW_USER], columns =  sub_um3.columns)\n",
    "sub_um3_n = sub_um3.append(row_df)\n",
    "\n",
    "## user object\n",
    "user_object = User(NEW_USER, sub_um3_n, interactions_subset)\n",
    "mf = MF(user_object, FACTORS_MF)\n",
    "mf_predictions = mf.predictions_user()\n",
    "\n",
    "#metrics\n",
    "M1 = dt.get_metric1(NEW_USER,sub_um3_n)\n",
    "print(M1)\n",
    "M3 = dt.get_metric3(sub_um3_n) \n",
    "print(M3)\n",
    "\n",
    "mf_predictions"
   ]
  },
  {
   "cell_type": "markdown",
   "metadata": {},
   "source": [
    "## NEW ITEM - NO INTERACTIONS"
   ]
  },
  {
   "cell_type": "code",
   "execution_count": 356,
   "metadata": {},
   "outputs": [],
   "source": [
    "NEW_ITEM = '-1591454024897803197'\n",
    "USER = '8414731042150985013'"
   ]
  },
  {
   "cell_type": "code",
   "execution_count": null,
   "metadata": {},
   "outputs": [],
   "source": [
    "-108842214936804958\t\n",
    "4340306774493623681\t\n",
    "8414731042150985013\t\n",
    "\n",
    "0.122087\t"
   ]
  },
  {
   "cell_type": "code",
   "execution_count": 357,
   "metadata": {},
   "outputs": [
    {
     "name": "stdout",
     "output_type": "stream",
     "text": [
      "0.55\n",
      "0.981\n"
     ]
    },
    {
     "data": {
      "text/html": [
       "<div>\n",
       "<style scoped>\n",
       "    .dataframe tbody tr th:only-of-type {\n",
       "        vertical-align: middle;\n",
       "    }\n",
       "\n",
       "    .dataframe tbody tr th {\n",
       "        vertical-align: top;\n",
       "    }\n",
       "\n",
       "    .dataframe thead th {\n",
       "        text-align: right;\n",
       "    }\n",
       "</style>\n",
       "<table border=\"1\" class=\"dataframe\">\n",
       "  <thead>\n",
       "    <tr style=\"text-align: right;\">\n",
       "      <th>contentId</th>\n",
       "      <th>-1591454024897803197</th>\n",
       "      <th>-1021685224930603833</th>\n",
       "      <th>-1039912738963181810</th>\n",
       "      <th>-1590585250246572231</th>\n",
       "      <th>-1672166631728511207</th>\n",
       "      <th>-2081760549863309770</th>\n",
       "      <th>-2176468683077766369</th>\n",
       "      <th>-3173020603774823976</th>\n",
       "      <th>-36844712915106340</th>\n",
       "      <th>-4102297002729307038</th>\n",
       "      <th>...</th>\n",
       "      <th>6152652267138213180</th>\n",
       "      <th>6157037646878010131</th>\n",
       "      <th>7520301770873472812</th>\n",
       "      <th>787067277772219433</th>\n",
       "      <th>8095004770374551394</th>\n",
       "      <th>8194079557551008273</th>\n",
       "      <th>8471417198703153120</th>\n",
       "      <th>8742078838645536785</th>\n",
       "      <th>9032993320407723266</th>\n",
       "      <th>9122627895188486603</th>\n",
       "    </tr>\n",
       "  </thead>\n",
       "  <tbody>\n",
       "    <tr>\n",
       "      <th>8414731042150985013</th>\n",
       "      <td>0.122087</td>\n",
       "      <td>0.104961</td>\n",
       "      <td>0.261072</td>\n",
       "      <td>0.273893</td>\n",
       "      <td>0.129688</td>\n",
       "      <td>0.177487</td>\n",
       "      <td>0.247627</td>\n",
       "      <td>0.121336</td>\n",
       "      <td>0.281677</td>\n",
       "      <td>0.162835</td>\n",
       "      <td>...</td>\n",
       "      <td>0.18484</td>\n",
       "      <td>0.104961</td>\n",
       "      <td>0.104961</td>\n",
       "      <td>0.102858</td>\n",
       "      <td>0.213983</td>\n",
       "      <td>0.104961</td>\n",
       "      <td>0.143843</td>\n",
       "      <td>0.206376</td>\n",
       "      <td>0.156296</td>\n",
       "      <td>0.238738</td>\n",
       "    </tr>\n",
       "  </tbody>\n",
       "</table>\n",
       "<p>1 rows × 42 columns</p>\n",
       "</div>"
      ],
      "text/plain": [
       "contentId            -1591454024897803197  -1021685224930603833  \\\n",
       "8414731042150985013              0.122087              0.104961   \n",
       "\n",
       "contentId            -1039912738963181810  -1590585250246572231  \\\n",
       "8414731042150985013              0.261072              0.273893   \n",
       "\n",
       "contentId            -1672166631728511207  -2081760549863309770  \\\n",
       "8414731042150985013              0.129688              0.177487   \n",
       "\n",
       "contentId            -2176468683077766369  -3173020603774823976  \\\n",
       "8414731042150985013              0.247627              0.121336   \n",
       "\n",
       "contentId            -36844712915106340  -4102297002729307038  ...  \\\n",
       "8414731042150985013            0.281677              0.162835  ...   \n",
       "\n",
       "contentId            6152652267138213180  6157037646878010131  \\\n",
       "8414731042150985013              0.18484             0.104961   \n",
       "\n",
       "contentId            7520301770873472812  787067277772219433  \\\n",
       "8414731042150985013             0.104961            0.102858   \n",
       "\n",
       "contentId            8095004770374551394  8194079557551008273  \\\n",
       "8414731042150985013             0.213983             0.104961   \n",
       "\n",
       "contentId            8471417198703153120  8742078838645536785  \\\n",
       "8414731042150985013             0.143843             0.206376   \n",
       "\n",
       "contentId            9032993320407723266  9122627895188486603  \n",
       "8414731042150985013             0.156296             0.238738  \n",
       "\n",
       "[1 rows x 42 columns]"
      ]
     },
     "execution_count": 357,
     "metadata": {},
     "output_type": "execute_result"
    }
   ],
   "source": [
    "sub_um3n2 = sub_um3.copy()\n",
    "listofzeros = [0] * sub_um3.shape[0]\n",
    "col_df = pd.DataFrame(index = sub_um3.index, columns = [NEW_ITEM])\n",
    "col_df[NEW_ITEM] = listofzeros\n",
    "sub_um3n2.insert(0, NEW_ITEM, listofzeros)\n",
    "\n",
    "## user object\n",
    "user_object = User(USER, sub_um3n2, interactions_subset)\n",
    "mf = MF(user_object, FACTORS_MF)\n",
    "mf_predictions = mf.predictions_user()\n",
    "\n",
    "#metrics\n",
    "M1 = dt.get_metric1(USER,sub_um3n2)\n",
    "print(M1)\n",
    "M3 = dt.get_metric3(sub_um3n2) \n",
    "print(M3)\n",
    "\n",
    "mf_predictions"
   ]
  },
  {
   "cell_type": "code",
   "execution_count": null,
   "metadata": {},
   "outputs": [],
   "source": []
  },
  {
   "cell_type": "code",
   "execution_count": null,
   "metadata": {},
   "outputs": [],
   "source": []
  },
  {
   "cell_type": "markdown",
   "metadata": {},
   "source": [
    "## pruebas MF - input object mf"
   ]
  },
  {
   "cell_type": "code",
   "execution_count": 181,
   "metadata": {},
   "outputs": [
    {
     "name": "stdout",
     "output_type": "stream",
     "text": [
      "0 of 5 items\n",
      "1 of 5 items\n",
      "2 of 5 items\n",
      "3 of 5 items\n",
      "4 of 5 items\n"
     ]
    }
   ],
   "source": [
    "items_test = mf.user.items_to_ignore\n",
    "df_res = pd.DataFrame(index=list(items_test), columns=['ORIGINAL', 'MF'])\n",
    "mf_hits= []\n",
    "for i, IT in enumerate(items_test):\n",
    "    print(\"{} of {} items\".format(i, len(items_test)))\n",
    "    new_utility = mf.user.utility_matrix.copy()\n",
    "    new_utility.loc[mf.user.id, IT] = 0.0\n",
    "    new_interactions = mf.user.interactions_df.drop(mf.user.interactions_df[(mf.user.interactions_df.personId == mf.user.id) & (mf.user.interactions_df.contentId == IT)].index)\n",
    "    new_user_object = User(mf.user.id, new_utility, new_interactions)\n",
    "    nmf = MF(new_user_object, FACTORS_MF)\n",
    "    nmf_predictions = nmf.predictions_user()\n",
    "    top10 = list(nmf_predictions.sort_values(by=[nmf.user.id], axis=1, ascending=False).iloc[0, 0:10].index)\n",
    "    df_res.loc[IT, 'ORIGINAL'] = mf.user.utility_matrix.loc[mf.user.id, IT]/5.0\n",
    "    df_res.loc[IT, 'MF'] = nmf_predictions[IT].values[0]\n",
    "    if IT in top10:\n",
    "        mf_hits.append(IT)"
   ]
  },
  {
   "cell_type": "code",
   "execution_count": 182,
   "metadata": {},
   "outputs": [
    {
     "name": "stdout",
     "output_type": "stream",
     "text": [
      "HITS = 3\n"
     ]
    }
   ],
   "source": [
    "print(\"HITS = {}\".format(len(mf_hits)))"
   ]
  },
  {
   "cell_type": "code",
   "execution_count": 183,
   "metadata": {},
   "outputs": [
    {
     "name": "stdout",
     "output_type": "stream",
     "text": [
      "0.06\n"
     ]
    }
   ],
   "source": [
    "df_res\n",
    "print(round(mean_squared_error(df_res['ORIGINAL'].values, df_res['MF'].values),3))"
   ]
  },
  {
   "cell_type": "markdown",
   "metadata": {},
   "source": [
    "## ONE INTERACTION"
   ]
  },
  {
   "cell_type": "code",
   "execution_count": 4,
   "metadata": {},
   "outputs": [],
   "source": [
    "USER = \"9210530975708218054'\""
   ]
  },
  {
   "cell_type": "code",
   "execution_count": 5,
   "metadata": {},
   "outputs": [
    {
     "ename": "NameError",
     "evalue": "name 'utility_matrix_1' is not defined",
     "output_type": "error",
     "traceback": [
      "\u001b[1;31m---------------------------------------------------------------------------\u001b[0m",
      "\u001b[1;31mNameError\u001b[0m                                 Traceback (most recent call last)",
      "\u001b[1;32m<ipython-input-5-f808a3a54ad3>\u001b[0m in \u001b[0;36m<module>\u001b[1;34m\u001b[0m\n\u001b[1;32m----> 1\u001b[1;33m \u001b[0muser_object\u001b[0m \u001b[1;33m=\u001b[0m \u001b[0mUser\u001b[0m\u001b[1;33m(\u001b[0m\u001b[0mUSER\u001b[0m\u001b[1;33m,\u001b[0m \u001b[0mutility_matrix_1\u001b[0m\u001b[1;33m,\u001b[0m \u001b[0minteractions_work_1\u001b[0m\u001b[1;33m)\u001b[0m\u001b[1;33m\u001b[0m\u001b[1;33m\u001b[0m\u001b[0m\n\u001b[0m\u001b[0;32m      2\u001b[0m \u001b[0mhy\u001b[0m \u001b[1;33m=\u001b[0m \u001b[0mHYBRID\u001b[0m\u001b[1;33m(\u001b[0m\u001b[0muser_object\u001b[0m\u001b[1;33m,\u001b[0m\u001b[0mFACTORS_MF\u001b[0m\u001b[1;33m,\u001b[0m \u001b[0mNUMBER_NEIGHBORS\u001b[0m\u001b[1;33m,\u001b[0m \u001b[0mfull_item_ids\u001b[0m\u001b[1;33m,\u001b[0m \u001b[0mtfidf_matrix\u001b[0m\u001b[1;33m)\u001b[0m\u001b[1;33m\u001b[0m\u001b[1;33m\u001b[0m\u001b[0m\n",
      "\u001b[1;31mNameError\u001b[0m: name 'utility_matrix_1' is not defined"
     ]
    }
   ],
   "source": [
    "user_object = User(USER, utility_matrix_1, interactions_work_1)\n",
    "hy = HYBRID(user_object,FACTORS_MF, NUMBER_NEIGHBORS, full_item_ids, tfidf_matrix)"
   ]
  }
 ],
 "metadata": {
  "kernelspec": {
   "display_name": "Python 3",
   "language": "python",
   "name": "python3"
  },
  "language_info": {
   "codemirror_mode": {
    "name": "ipython",
    "version": 3
   },
   "file_extension": ".py",
   "mimetype": "text/x-python",
   "name": "python",
   "nbconvert_exporter": "python",
   "pygments_lexer": "ipython3",
   "version": "3.7.3"
  }
 },
 "nbformat": 4,
 "nbformat_minor": 2
}
