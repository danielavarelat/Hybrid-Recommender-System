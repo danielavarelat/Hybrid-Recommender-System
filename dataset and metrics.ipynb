{
 "cells": [
  {
   "cell_type": "code",
   "execution_count": null,
   "metadata": {},
   "outputs": [],
   "source": [
    "## DATA\n",
    "# "
   ]
  },
  {
   "cell_type": "code",
   "execution_count": 1,
   "metadata": {},
   "outputs": [],
   "source": [
    "import pandas as pd\n",
    "import statistics \n",
    "import numpy as np\n",
    "import matplotlib.pyplot as plt\n",
    "import pickle"
   ]
  },
  {
   "cell_type": "code",
   "execution_count": 61,
   "metadata": {},
   "outputs": [],
   "source": [
    "import keywords"
   ]
  },
  {
   "cell_type": "code",
   "execution_count": 3,
   "metadata": {},
   "outputs": [
    {
     "data": {
      "text/html": [
       "<div>\n",
       "<style scoped>\n",
       "    .dataframe tbody tr th:only-of-type {\n",
       "        vertical-align: middle;\n",
       "    }\n",
       "\n",
       "    .dataframe tbody tr th {\n",
       "        vertical-align: top;\n",
       "    }\n",
       "\n",
       "    .dataframe thead th {\n",
       "        text-align: right;\n",
       "    }\n",
       "</style>\n",
       "<table border=\"1\" class=\"dataframe\">\n",
       "  <thead>\n",
       "    <tr style=\"text-align: right;\">\n",
       "      <th></th>\n",
       "      <th>timestamp</th>\n",
       "      <th>eventType</th>\n",
       "      <th>contentId</th>\n",
       "      <th>authorPersonId</th>\n",
       "      <th>authorSessionId</th>\n",
       "      <th>authorUserAgent</th>\n",
       "      <th>authorRegion</th>\n",
       "      <th>authorCountry</th>\n",
       "      <th>contentType</th>\n",
       "      <th>url</th>\n",
       "      <th>title</th>\n",
       "      <th>text</th>\n",
       "      <th>lang</th>\n",
       "    </tr>\n",
       "  </thead>\n",
       "  <tbody>\n",
       "    <tr>\n",
       "      <th>1</th>\n",
       "      <td>1459193988</td>\n",
       "      <td>CONTENT SHARED</td>\n",
       "      <td>-4110354420726924665</td>\n",
       "      <td>4340306774493623681</td>\n",
       "      <td>8940341205206233829</td>\n",
       "      <td>NaN</td>\n",
       "      <td>NaN</td>\n",
       "      <td>NaN</td>\n",
       "      <td>HTML</td>\n",
       "      <td>http://www.nytimes.com/2016/03/28/business/dea...</td>\n",
       "      <td>Ethereum, a Virtual Currency, Enables Transact...</td>\n",
       "      <td>All of this work is still very early. The firs...</td>\n",
       "      <td>en</td>\n",
       "    </tr>\n",
       "    <tr>\n",
       "      <th>2</th>\n",
       "      <td>1459194146</td>\n",
       "      <td>CONTENT SHARED</td>\n",
       "      <td>-7292285110016212249</td>\n",
       "      <td>4340306774493623681</td>\n",
       "      <td>8940341205206233829</td>\n",
       "      <td>NaN</td>\n",
       "      <td>NaN</td>\n",
       "      <td>NaN</td>\n",
       "      <td>HTML</td>\n",
       "      <td>http://cointelegraph.com/news/bitcoin-future-w...</td>\n",
       "      <td>Bitcoin Future: When GBPcoin of Branson Wins O...</td>\n",
       "      <td>The alarm clock wakes me at 8:00 with stream o...</td>\n",
       "      <td>en</td>\n",
       "    </tr>\n",
       "  </tbody>\n",
       "</table>\n",
       "</div>"
      ],
      "text/plain": [
       "    timestamp       eventType            contentId       authorPersonId  \\\n",
       "1  1459193988  CONTENT SHARED -4110354420726924665  4340306774493623681   \n",
       "2  1459194146  CONTENT SHARED -7292285110016212249  4340306774493623681   \n",
       "\n",
       "       authorSessionId authorUserAgent authorRegion authorCountry contentType  \\\n",
       "1  8940341205206233829             NaN          NaN           NaN        HTML   \n",
       "2  8940341205206233829             NaN          NaN           NaN        HTML   \n",
       "\n",
       "                                                 url  \\\n",
       "1  http://www.nytimes.com/2016/03/28/business/dea...   \n",
       "2  http://cointelegraph.com/news/bitcoin-future-w...   \n",
       "\n",
       "                                               title  \\\n",
       "1  Ethereum, a Virtual Currency, Enables Transact...   \n",
       "2  Bitcoin Future: When GBPcoin of Branson Wins O...   \n",
       "\n",
       "                                                text lang  \n",
       "1  All of this work is still very early. The firs...   en  \n",
       "2  The alarm clock wakes me at 8:00 with stream o...   en  "
      ]
     },
     "execution_count": 3,
     "metadata": {},
     "output_type": "execute_result"
    }
   ],
   "source": [
    "articles_df = pd.read_csv('articles/shared_articles.csv')\n",
    "articles_df = articles_df[articles_df['eventType'] == 'CONTENT SHARED']\n",
    "articles_df.head(2)"
   ]
  },
  {
   "cell_type": "code",
   "execution_count": 4,
   "metadata": {},
   "outputs": [
    {
     "data": {
      "text/plain": [
       "(3047, 13)"
      ]
     },
     "execution_count": 4,
     "metadata": {},
     "output_type": "execute_result"
    }
   ],
   "source": [
    "articles_df.shape"
   ]
  },
  {
   "cell_type": "code",
   "execution_count": 40,
   "metadata": {},
   "outputs": [],
   "source": [
    "interactions_df = pd.read_csv('articles/users_interactions.csv')\n",
    "interactions_df = interactions_df[['timestamp','eventType', 'contentId','personId','sessionId']]\n",
    "interactions_df = interactions_df[interactions_df['contentId'].isin(articles_df['contentId'])]"
   ]
  },
  {
   "cell_type": "code",
   "execution_count": null,
   "metadata": {},
   "outputs": [],
   "source": []
  },
  {
   "cell_type": "markdown",
   "metadata": {},
   "source": [
    "### Convert interaction to our cases and to Rating"
   ]
  },
  {
   "cell_type": "code",
   "execution_count": 41,
   "metadata": {},
   "outputs": [],
   "source": [
    "change_interaction = {\n",
    "   'VIEW': 'CLICK',\n",
    "   'LIKE': 'EXPLICIT', \n",
    "   'BOOKMARK': 'SAVE', \n",
    "   'FOLLOW': 'TIME_OPEN',\n",
    "   'COMMENT CREATED': 'RECOMMEND',  \n",
    "}\n",
    "\n",
    "interactions_df.eventType = interactions_df.eventType.apply(lambda x: change_interaction[x])\n",
    "\n",
    "values_interaction = {\n",
    "    'CLICK' : 2.0,\n",
    "    'EXPLICIT' : 5.0,\n",
    "    'SAVE': 3.0,\n",
    "    'TIME_OPEN': 3.0,\n",
    "    'RECOMMEND': 3.5\n",
    "}\n",
    "\n",
    "interactions_df['rating'] = interactions_df['eventType'].apply(lambda x: values_interaction[x])\n",
    "users_ids = list(interactions_df.personId.unique())"
   ]
  },
  {
   "cell_type": "markdown",
   "metadata": {},
   "source": [
    "### Order sessions by timestamp and  subset function"
   ]
  },
  {
   "cell_type": "code",
   "execution_count": 50,
   "metadata": {},
   "outputs": [],
   "source": [
    "interactions_ordered = interactions_df.sort_values(by='timestamp', ascending=True) "
   ]
  },
  {
   "cell_type": "code",
   "execution_count": 104,
   "metadata": {},
   "outputs": [],
   "source": [
    "def get_subset(df_full_ordered, number):\n",
    "    interactions = df_full_ordered.iloc[0:number,:].groupby(['personId', 'contentId'])['rating'].mean().reset_index()\n",
    "    interactions.rating = interactions.rating.round()\n",
    "    um = interactions.pivot(index='personId', columns='contentId', values='rating').fillna(0)\n",
    "    return um, interactions"
   ]
  },
  {
   "cell_type": "markdown",
   "metadata": {},
   "source": [
    "## Overall sparsity function"
   ]
  },
  {
   "cell_type": "code",
   "execution_count": 100,
   "metadata": {},
   "outputs": [],
   "source": [
    "def get_overall_sparsity(ut_matrix):\n",
    "    A = np.array(ut_matrix)\n",
    "    sparsity = round(1.0 - (np.count_nonzero(A) / float(A.size) ), 4)\n",
    "    return sparsity\n"
   ]
  },
  {
   "cell_type": "code",
   "execution_count": null,
   "metadata": {},
   "outputs": [],
   "source": []
  },
  {
   "cell_type": "markdown",
   "metadata": {},
   "source": [
    "### Partition of interactions - to inspect data"
   ]
  },
  {
   "cell_type": "code",
   "execution_count": 106,
   "metadata": {},
   "outputs": [],
   "source": [
    "sparsities = []\n",
    "subs = []\n",
    "number_users = []\n",
    "number_items = []\n",
    "m3 = []\n",
    "for i in range(0, round(interactions_ordered.shape[0]/1000), 2):\n",
    "    if i < 70 and i != 0 :\n",
    "        N_interactions = i*1000\n",
    "    if i == 70  and i != 0:\n",
    "        N_interactions = interactions_ordered.shape[0]\n",
    "    else:\n",
    "        pass\n",
    "    subs.append(N_interactions)\n",
    "    utility_matrix, interactions_subset = get_subset(interactions_ordered, N_interactions)\n",
    "    ids_users = list(interactions_subset.personId.unique())\n",
    "    ids_items = list(interactions_subset.contentId.unique())\n",
    "    sparsities.append(get_overall_sparsity(utility_matrix))\n",
    "    number_users.append(len(ids_users))\n",
    "    number_items.append(len(ids_items))"
   ]
  },
  {
   "cell_type": "code",
   "execution_count": 111,
   "metadata": {},
   "outputs": [
    {
     "data": {
      "text/plain": [
       "<matplotlib.legend.Legend at 0x224f2cc1438>"
      ]
     },
     "execution_count": 111,
     "metadata": {},
     "output_type": "execute_result"
    },
    {
     "data": {
      "image/png": "[encoded data removed]",
      "text/plain": [
       "<Figure size 432x288 with 1 Axes>"
      ]
     },
     "metadata": {
      "needs_background": "light"
     },
     "output_type": "display_data"
    }
   ],
   "source": [
    "x = subs\n",
    "y = [number_items, number_users]\n",
    "labels = ['Number of ITEMS' , 'Number of USERS']\n",
    "markers = ['x' , '+']\n",
    "\n",
    "for i,j in enumerate(y):\n",
    "    plt.plot(x, j, markers[i], label= labels[i])\n",
    "plt.title('Changes in elements over subsampling')\n",
    "plt.xlabel('Number of interactions included')\n",
    "plt.legend(numpoints=1)"
   ]
  },
  {
   "cell_type": "code",
   "execution_count": 110,
   "metadata": {},
   "outputs": [
    {
     "data": {
      "image/png": "[encoded data removed]",
      "text/plain": [
       "<Figure size 432x288 with 1 Axes>"
      ]
     },
     "metadata": {
      "needs_background": "light"
     },
     "output_type": "display_data"
    }
   ],
   "source": [
    "area = np.pi*3\n",
    "plt.scatter(subs, sparsities, s=area, alpha=0.5)\n",
    "plt.title('SPARSITY OVER SUBSAMPLING')\n",
    "plt.xlabel('Number of interactions included')\n",
    "plt.ylabel('Sparsity')\n",
    "plt.show()"
   ]
  },
  {
   "cell_type": "code",
   "execution_count": null,
   "metadata": {},
   "outputs": [],
   "source": []
  },
  {
   "cell_type": "code",
   "execution_count": null,
   "metadata": {},
   "outputs": [],
   "source": []
  },
  {
   "cell_type": "code",
   "execution_count": null,
   "metadata": {},
   "outputs": [],
   "source": []
  },
  {
   "cell_type": "markdown",
   "metadata": {},
   "source": []
  },
  {
   "cell_type": "code",
   "execution_count": 43,
   "metadata": {},
   "outputs": [],
   "source": []
  },
  {
   "cell_type": "code",
   "execution_count": 53,
   "metadata": {},
   "outputs": [
    {
     "data": {
      "text/html": [
       "<div>\n",
       "<style scoped>\n",
       "    .dataframe tbody tr th:only-of-type {\n",
       "        vertical-align: middle;\n",
       "    }\n",
       "\n",
       "    .dataframe tbody tr th {\n",
       "        vertical-align: top;\n",
       "    }\n",
       "\n",
       "    .dataframe thead th {\n",
       "        text-align: right;\n",
       "    }\n",
       "</style>\n",
       "<table border=\"1\" class=\"dataframe\">\n",
       "  <thead>\n",
       "    <tr style=\"text-align: right;\">\n",
       "      <th>contentId</th>\n",
       "      <th>-9171475473795142532</th>\n",
       "      <th>-9157338616628196758</th>\n",
       "      <th>-9137036168156595470</th>\n",
       "      <th>-9107331682787867601</th>\n",
       "      <th>-9100490342054218852</th>\n",
       "      <th>-9083294960368598209</th>\n",
       "      <th>-8939172344092554931</th>\n",
       "      <th>-8773118241761372618</th>\n",
       "      <th>-8349788035147634450</th>\n",
       "      <th>-8287402887944984163</th>\n",
       "      <th>...</th>\n",
       "      <th>8095004770374551394</th>\n",
       "      <th>8194079557551008273</th>\n",
       "      <th>8219310215587599928</th>\n",
       "      <th>8298709454703868984</th>\n",
       "      <th>8471417198703153120</th>\n",
       "      <th>8545647269051113523</th>\n",
       "      <th>8565115980515859979</th>\n",
       "      <th>8742078838645536785</th>\n",
       "      <th>9032993320407723266</th>\n",
       "      <th>9122627895188486603</th>\n",
       "    </tr>\n",
       "    <tr>\n",
       "      <th>personId</th>\n",
       "      <th></th>\n",
       "      <th></th>\n",
       "      <th></th>\n",
       "      <th></th>\n",
       "      <th></th>\n",
       "      <th></th>\n",
       "      <th></th>\n",
       "      <th></th>\n",
       "      <th></th>\n",
       "      <th></th>\n",
       "      <th></th>\n",
       "      <th></th>\n",
       "      <th></th>\n",
       "      <th></th>\n",
       "      <th></th>\n",
       "      <th></th>\n",
       "      <th></th>\n",
       "      <th></th>\n",
       "      <th></th>\n",
       "      <th></th>\n",
       "      <th></th>\n",
       "    </tr>\n",
       "  </thead>\n",
       "  <tbody>\n",
       "    <tr>\n",
       "      <th>-9016528795238256703</th>\n",
       "      <td>0.0</td>\n",
       "      <td>0.0</td>\n",
       "      <td>0.0</td>\n",
       "      <td>0.0</td>\n",
       "      <td>0.0</td>\n",
       "      <td>0.0</td>\n",
       "      <td>0.0</td>\n",
       "      <td>0.0</td>\n",
       "      <td>0.0</td>\n",
       "      <td>0.0</td>\n",
       "      <td>...</td>\n",
       "      <td>0.0</td>\n",
       "      <td>0.0</td>\n",
       "      <td>0.0</td>\n",
       "      <td>0.0</td>\n",
       "      <td>0.0</td>\n",
       "      <td>0.0</td>\n",
       "      <td>0.0</td>\n",
       "      <td>0.0</td>\n",
       "      <td>0.0</td>\n",
       "      <td>0.0</td>\n",
       "    </tr>\n",
       "    <tr>\n",
       "      <th>-9009798162809551896</th>\n",
       "      <td>0.0</td>\n",
       "      <td>0.0</td>\n",
       "      <td>0.0</td>\n",
       "      <td>0.0</td>\n",
       "      <td>0.0</td>\n",
       "      <td>0.0</td>\n",
       "      <td>0.0</td>\n",
       "      <td>0.0</td>\n",
       "      <td>0.0</td>\n",
       "      <td>0.0</td>\n",
       "      <td>...</td>\n",
       "      <td>0.0</td>\n",
       "      <td>0.0</td>\n",
       "      <td>0.0</td>\n",
       "      <td>0.0</td>\n",
       "      <td>0.0</td>\n",
       "      <td>0.0</td>\n",
       "      <td>0.0</td>\n",
       "      <td>0.0</td>\n",
       "      <td>0.0</td>\n",
       "      <td>0.0</td>\n",
       "    </tr>\n",
       "    <tr>\n",
       "      <th>-9001583565812478106</th>\n",
       "      <td>0.0</td>\n",
       "      <td>0.0</td>\n",
       "      <td>0.0</td>\n",
       "      <td>0.0</td>\n",
       "      <td>0.0</td>\n",
       "      <td>0.0</td>\n",
       "      <td>0.0</td>\n",
       "      <td>3.0</td>\n",
       "      <td>0.0</td>\n",
       "      <td>0.0</td>\n",
       "      <td>...</td>\n",
       "      <td>0.0</td>\n",
       "      <td>0.0</td>\n",
       "      <td>0.0</td>\n",
       "      <td>0.0</td>\n",
       "      <td>0.0</td>\n",
       "      <td>0.0</td>\n",
       "      <td>0.0</td>\n",
       "      <td>0.0</td>\n",
       "      <td>0.0</td>\n",
       "      <td>0.0</td>\n",
       "    </tr>\n",
       "    <tr>\n",
       "      <th>-8994220765455693336</th>\n",
       "      <td>0.0</td>\n",
       "      <td>0.0</td>\n",
       "      <td>0.0</td>\n",
       "      <td>0.0</td>\n",
       "      <td>0.0</td>\n",
       "      <td>0.0</td>\n",
       "      <td>0.0</td>\n",
       "      <td>0.0</td>\n",
       "      <td>0.0</td>\n",
       "      <td>0.0</td>\n",
       "      <td>...</td>\n",
       "      <td>0.0</td>\n",
       "      <td>0.0</td>\n",
       "      <td>0.0</td>\n",
       "      <td>0.0</td>\n",
       "      <td>0.0</td>\n",
       "      <td>0.0</td>\n",
       "      <td>0.0</td>\n",
       "      <td>0.0</td>\n",
       "      <td>0.0</td>\n",
       "      <td>0.0</td>\n",
       "    </tr>\n",
       "    <tr>\n",
       "      <th>-8909668725653743114</th>\n",
       "      <td>0.0</td>\n",
       "      <td>0.0</td>\n",
       "      <td>0.0</td>\n",
       "      <td>0.0</td>\n",
       "      <td>0.0</td>\n",
       "      <td>0.0</td>\n",
       "      <td>0.0</td>\n",
       "      <td>0.0</td>\n",
       "      <td>0.0</td>\n",
       "      <td>0.0</td>\n",
       "      <td>...</td>\n",
       "      <td>0.0</td>\n",
       "      <td>0.0</td>\n",
       "      <td>0.0</td>\n",
       "      <td>0.0</td>\n",
       "      <td>0.0</td>\n",
       "      <td>0.0</td>\n",
       "      <td>0.0</td>\n",
       "      <td>0.0</td>\n",
       "      <td>0.0</td>\n",
       "      <td>0.0</td>\n",
       "    </tr>\n",
       "  </tbody>\n",
       "</table>\n",
       "<p>5 rows × 129 columns</p>\n",
       "</div>"
      ],
      "text/plain": [
       "contentId             -9171475473795142532  -9157338616628196758  \\\n",
       "personId                                                           \n",
       "-9016528795238256703                   0.0                   0.0   \n",
       "-9009798162809551896                   0.0                   0.0   \n",
       "-9001583565812478106                   0.0                   0.0   \n",
       "-8994220765455693336                   0.0                   0.0   \n",
       "-8909668725653743114                   0.0                   0.0   \n",
       "\n",
       "contentId             -9137036168156595470  -9107331682787867601  \\\n",
       "personId                                                           \n",
       "-9016528795238256703                   0.0                   0.0   \n",
       "-9009798162809551896                   0.0                   0.0   \n",
       "-9001583565812478106                   0.0                   0.0   \n",
       "-8994220765455693336                   0.0                   0.0   \n",
       "-8909668725653743114                   0.0                   0.0   \n",
       "\n",
       "contentId             -9100490342054218852  -9083294960368598209  \\\n",
       "personId                                                           \n",
       "-9016528795238256703                   0.0                   0.0   \n",
       "-9009798162809551896                   0.0                   0.0   \n",
       "-9001583565812478106                   0.0                   0.0   \n",
       "-8994220765455693336                   0.0                   0.0   \n",
       "-8909668725653743114                   0.0                   0.0   \n",
       "\n",
       "contentId             -8939172344092554931  -8773118241761372618  \\\n",
       "personId                                                           \n",
       "-9016528795238256703                   0.0                   0.0   \n",
       "-9009798162809551896                   0.0                   0.0   \n",
       "-9001583565812478106                   0.0                   3.0   \n",
       "-8994220765455693336                   0.0                   0.0   \n",
       "-8909668725653743114                   0.0                   0.0   \n",
       "\n",
       "contentId             -8349788035147634450  -8287402887944984163  ...  \\\n",
       "personId                                                          ...   \n",
       "-9016528795238256703                   0.0                   0.0  ...   \n",
       "-9009798162809551896                   0.0                   0.0  ...   \n",
       "-9001583565812478106                   0.0                   0.0  ...   \n",
       "-8994220765455693336                   0.0                   0.0  ...   \n",
       "-8909668725653743114                   0.0                   0.0  ...   \n",
       "\n",
       "contentId              8095004770374551394   8194079557551008273  \\\n",
       "personId                                                           \n",
       "-9016528795238256703                   0.0                   0.0   \n",
       "-9009798162809551896                   0.0                   0.0   \n",
       "-9001583565812478106                   0.0                   0.0   \n",
       "-8994220765455693336                   0.0                   0.0   \n",
       "-8909668725653743114                   0.0                   0.0   \n",
       "\n",
       "contentId              8219310215587599928   8298709454703868984  \\\n",
       "personId                                                           \n",
       "-9016528795238256703                   0.0                   0.0   \n",
       "-9009798162809551896                   0.0                   0.0   \n",
       "-9001583565812478106                   0.0                   0.0   \n",
       "-8994220765455693336                   0.0                   0.0   \n",
       "-8909668725653743114                   0.0                   0.0   \n",
       "\n",
       "contentId              8471417198703153120   8545647269051113523  \\\n",
       "personId                                                           \n",
       "-9016528795238256703                   0.0                   0.0   \n",
       "-9009798162809551896                   0.0                   0.0   \n",
       "-9001583565812478106                   0.0                   0.0   \n",
       "-8994220765455693336                   0.0                   0.0   \n",
       "-8909668725653743114                   0.0                   0.0   \n",
       "\n",
       "contentId              8565115980515859979   8742078838645536785  \\\n",
       "personId                                                           \n",
       "-9016528795238256703                   0.0                   0.0   \n",
       "-9009798162809551896                   0.0                   0.0   \n",
       "-9001583565812478106                   0.0                   0.0   \n",
       "-8994220765455693336                   0.0                   0.0   \n",
       "-8909668725653743114                   0.0                   0.0   \n",
       "\n",
       "contentId              9032993320407723266   9122627895188486603  \n",
       "personId                                                          \n",
       "-9016528795238256703                   0.0                   0.0  \n",
       "-9009798162809551896                   0.0                   0.0  \n",
       "-9001583565812478106                   0.0                   0.0  \n",
       "-8994220765455693336                   0.0                   0.0  \n",
       "-8909668725653743114                   0.0                   0.0  \n",
       "\n",
       "[5 rows x 129 columns]"
      ]
     },
     "execution_count": 53,
     "metadata": {},
     "output_type": "execute_result"
    }
   ],
   "source": [
    "matrix, interactions_final = get_subset(interactions_ordered, 1000)\n",
    "matrix.head()"
   ]
  },
  {
   "cell_type": "code",
   "execution_count": 54,
   "metadata": {},
   "outputs": [],
   "source": [
    "with open('interactions.pkl', 'wb') as f:  \n",
    "    pickle.dump([matrix, interactions_final], f)"
   ]
  },
  {
   "cell_type": "code",
   "execution_count": 56,
   "metadata": {},
   "outputs": [
    {
     "data": {
      "text/plain": [
       "(234, 129)"
      ]
     },
     "execution_count": 56,
     "metadata": {},
     "output_type": "execute_result"
    }
   ],
   "source": [
    "matrix.shape"
   ]
  },
  {
   "cell_type": "markdown",
   "metadata": {},
   "source": [
    "## METRICS"
   ]
  },
  {
   "cell_type": "markdown",
   "metadata": {},
   "source": [
    "### M1 - User activity for this subset"
   ]
  },
  {
   "cell_type": "code",
   "execution_count": 65,
   "metadata": {},
   "outputs": [],
   "source": [
    "USER = -8909668725653743114"
   ]
  },
  {
   "cell_type": "code",
   "execution_count": 78,
   "metadata": {},
   "outputs": [
    {
     "data": {
      "image/png": "[encoded data removed]",
      "text/plain": [
       "<Figure size 432x288 with 1 Axes>"
      ]
     },
     "metadata": {
      "needs_background": "light"
     },
     "output_type": "display_data"
    }
   ],
   "source": [
    "users = list(matrix.index)\n",
    "ratings_users = []\n",
    "for user in users:\n",
    "    user_ratings = matrix.shape[1] - (matrix == 0).astype(int).sum(axis=1)[user]\n",
    "    ratings_users.append(user_ratings)\n",
    "    \n",
    "\n",
    "x = range(len(ratings_users))\n",
    "y = ratings_users\n",
    "index_user  = users.index(USER)\n",
    "plt.scatter(x, y, alpha=0.5)\n",
    "plt.scatter(index_user, ratings_users[index_user], color=\"yellow\")\n",
    "plt.title('NUMBER OF RATINGS MADE BY USER')\n",
    "plt.xlabel('Users index')\n",
    "plt.ylabel('Number ratings')\n",
    "plt.show()"
   ]
  },
  {
   "cell_type": "code",
   "execution_count": 73,
   "metadata": {},
   "outputs": [
    {
     "name": "stdout",
     "output_type": "stream",
     "text": [
      "DEVIATION = 4.0 \n",
      "MEDIAN = 1 \n",
      "MEAN = 2\n"
     ]
    }
   ],
   "source": [
    "dev_users = statistics.stdev(ratings_users)\n",
    "med_users = statistics.median(ratings_users)\n",
    "mean_users = statistics.mean(ratings_users)\n",
    "print(\"DEVIATION = {} \\nMEDIAN = {} \\nMEAN = {}\".format(dev_users,med_users,mean_users))"
   ]
  },
  {
   "cell_type": "code",
   "execution_count": 87,
   "metadata": {},
   "outputs": [],
   "source": [
    "def get_metric1(user, ut_matrix):\n",
    "    \"Number of items that the user has rated devided by the maximum number of items rated by an user\"\n",
    "    \"Comparison between my activity and the most active user\"\n",
    "    \"Number of users remain almost the same - comparable in the same time\"\n",
    "    user_no_ratings = ut_matrix.shape[1] - (ut_matrix == 0).astype(int).sum(axis=1)[user]\n",
    "    max_ratings_by_an_user = ut_matrix.shape[1] - min((ut_matrix == 0).astype(int).sum(axis=1))\n",
    "    return round(user_ratings/max_ratings_by_an_user, 3)\n"
   ]
  },
  {
   "cell_type": "code",
   "execution_count": 88,
   "metadata": {},
   "outputs": [],
   "source": [
    "M1 = get_metric1(USER, matrix)"
   ]
  },
  {
   "cell_type": "markdown",
   "metadata": {},
   "source": [
    "## M3 - Items activity for this subset"
   ]
  },
  {
   "cell_type": "code",
   "execution_count": 79,
   "metadata": {},
   "outputs": [
    {
     "data": {
      "image/png": "[encoded data removed]",
      "text/plain": [
       "<Figure size 432x288 with 1 Axes>"
      ]
     },
     "metadata": {
      "needs_background": "light"
     },
     "output_type": "display_data"
    }
   ],
   "source": [
    "items = list(matrix.columns)\n",
    "ratings_items = []\n",
    "for item in items:\n",
    "    item_ratings = matrix.shape[0] - (matrix == 0).astype(int).sum(axis=0)[item]\n",
    "    ratings_items.append(item_ratings)\n",
    "    \n",
    "x = range(len(items))\n",
    "y = ratings_items\n",
    "plt.scatter(x, y, alpha=0.5)\n",
    "plt.title('NUMBER OF RATINGS FOR AN ITEM')\n",
    "plt.xlabel('Items index')\n",
    "plt.ylabel('Number ratings')\n",
    "plt.show() \n",
    "    "
   ]
  },
  {
   "cell_type": "code",
   "execution_count": 74,
   "metadata": {},
   "outputs": [
    {
     "name": "stdout",
     "output_type": "stream",
     "text": [
      "DEVIATION = 4.69041575982343 \n",
      "MEDIAN = 4.0 \n",
      "MEAN = 5\n"
     ]
    }
   ],
   "source": [
    "dev_items = statistics.stdev(ratings_items)\n",
    "med_items = statistics.median(ratings_items)\n",
    "mean_items = statistics.mean(ratings_items)\n",
    "print(\"DEVIATION = {} \\nMEDIAN = {} \\nMEAN = {}\".format(dev_items,med_items,mean_items))"
   ]
  },
  {
   "cell_type": "code",
   "execution_count": 81,
   "metadata": {},
   "outputs": [],
   "source": [
    "# max_ratings_for_item = matrix.shape[0] - min((matrix == 0).astype(int).sum(axis=0))"
   ]
  },
  {
   "cell_type": "code",
   "execution_count": 29,
   "metadata": {},
   "outputs": [],
   "source": [
    "def get_metric3(ut_matrix):\n",
    "    \"proportion of items rated by more than 5% users\"\n",
    "    items = list(ut_matrix.columns)\n",
    "    list_ratings_items = []\n",
    "    for item in items:\n",
    "        item_ratings = ut_matrix.shape[0] - (ut_matrix == 0).astype(int).sum(axis=0)[item]\n",
    "        list_ratings_items.append(item_ratings)\n",
    "    number_users = ut_matrix.shape[0]\n",
    "    N = 0.05*number_users\n",
    "    more_than_N = [it for it in list_ratings_items if it >= N]\n",
    "    return round(len(more_than_N)/len(list_ratings_items),3)"
   ]
  },
  {
   "cell_type": "code",
   "execution_count": 86,
   "metadata": {},
   "outputs": [],
   "source": [
    "M3 = get_metric3(matrix)"
   ]
  },
  {
   "cell_type": "code",
   "execution_count": null,
   "metadata": {},
   "outputs": [],
   "source": []
  },
  {
   "cell_type": "markdown",
   "metadata": {},
   "source": [
    "## M4- Items descriptors"
   ]
  },
  {
   "cell_type": "code",
   "execution_count": 62,
   "metadata": {},
   "outputs": [],
   "source": [
    "with open('tfidf.pkl', 'rb') as f:  \n",
    "    tfidf_matrix, tfidf_feature_names, full_item_ids = pickle.load(f)"
   ]
  },
  {
   "cell_type": "code",
   "execution_count": 72,
   "metadata": {},
   "outputs": [],
   "source": [
    "items = list(matrix.columns)\n",
    "topn = 10\n",
    "qualities = []\n",
    "for it in items:\n",
    "    qualities.append(keywords.get_keywords(full_item_ids, tfidf_matrix, tfidf_feature_names, topn, it)[1])"
   ]
  },
  {
   "cell_type": "code",
   "execution_count": 80,
   "metadata": {},
   "outputs": [
    {
     "data": {
      "image/png": "[encoded data removed]",
      "text/plain": [
       "<Figure size 432x288 with 1 Axes>"
      ]
     },
     "metadata": {
      "needs_background": "light"
     },
     "output_type": "display_data"
    }
   ],
   "source": [
    "x = range(len(items))\n",
    "y = qualities\n",
    "plt.scatter(x, y, alpha=0.5)\n",
    "plt.title('M4 - QUALITY OF DESCRIPTION')\n",
    "plt.xlabel('Items index')\n",
    "plt.ylabel('Mean TDIDF value of the keywords')\n",
    "plt.show() "
   ]
  },
  {
   "cell_type": "code",
   "execution_count": 82,
   "metadata": {},
   "outputs": [
    {
     "name": "stdout",
     "output_type": "stream",
     "text": [
      "DEVIATION = 0.02075571976831387 \n",
      "MEDIAN = 0.221 \n",
      "MEAN = 0.22071317829457365\n"
     ]
    }
   ],
   "source": [
    "dev_items2 = statistics.stdev(qualities)\n",
    "med_items2 = statistics.median(qualities)\n",
    "mean_items2 = statistics.mean(qualities)\n",
    "print(\"DEVIATION = {} \\nMEDIAN = {} \\nMEAN = {}\".format(dev_items2,med_items2,mean_items2))"
   ]
  },
  {
   "cell_type": "code",
   "execution_count": 85,
   "metadata": {},
   "outputs": [],
   "source": [
    "M4 = round(mean_items2,3)"
   ]
  },
  {
   "cell_type": "code",
   "execution_count": 89,
   "metadata": {},
   "outputs": [
    {
     "data": {
      "text/plain": [
       "134"
      ]
     },
     "execution_count": 89,
     "metadata": {},
     "output_type": "execute_result"
    }
   ],
   "source": [
    "\n",
    "len(more_than_N)\n",
    "\n",
    "\n",
    "max_ratings_for_an_item = utility_matrix.shape[0] - min((utility_matrix == 0).astype(int).sum(axis=0))\n",
    "print(max_ratings_for_an_item)\n",
    "#np.percentile(np.array(more_than_N), 50)\n",
    "# item = 0\n",
    "# user_test = -9001583565812478106\n",
    "# item_test = -9171475473795142532\n",
    "# user = user_test\n",
    "# m1 = get_metric1(user, utility_matrix)\n",
    "# m2_ = get_item_m2(item_test, utility_matrix)\n",
    "\n",
    "#v2 = get_item_m2(items, utility_matrix)"
   ]
  },
  {
   "cell_type": "code",
   "execution_count": 86,
   "metadata": {},
   "outputs": [
    {
     "data": {
      "text/plain": [
       "231"
      ]
     },
     "execution_count": 86,
     "metadata": {},
     "output_type": "execute_result"
    }
   ],
   "source": [
    "#statistics.variance(ratings_items)\n",
    "\n",
    "\n",
    "len(ratings_items)\n",
    "# var_m2 = statistics.variance(v2)\n",
    "# mean_m2 = statistics.mean(v2) \n",
    "# med_m2 = statistics.median(v2)\n",
    "# med_m2"
   ]
  },
  {
   "cell_type": "code",
   "execution_count": 64,
   "metadata": {},
   "outputs": [
    {
     "data": {
      "text/plain": [
       "0.15887878787878787"
      ]
     },
     "execution_count": 64,
     "metadata": {},
     "output_type": "execute_result"
    }
   ],
   "source": [
    "mean_m2\n",
    "#session_content = interactions_df.groupby(['timestamp', 'sessionId', 'contentId'])['rating'].mean().reset_index()\n",
    "#user_content = interactions_df.groupby(['personId', 'contentId'])['rating'].mean().reset_index()\n",
    "#len(session_content)\n",
    "\n",
    "# interactions_user_content = user_content.set_index('personId')\n",
    "# session_content.head()"
   ]
  },
  {
   "cell_type": "code",
   "execution_count": 65,
   "metadata": {},
   "outputs": [],
   "source": [
    "\n",
    "# def get_items_interacted(person_id, user_interactions_df):\n",
    "#     interacted_items = user_interactions_df.loc[person_id]['contentId']\n",
    "#     return set(interacted_items if type(interacted_items) == pd.Series else [interacted_items])\n",
    "#interactions_df.groupby(['personId', 'sessionId']).size()\n"
   ]
  },
  {
   "cell_type": "code",
   "execution_count": 66,
   "metadata": {},
   "outputs": [],
   "source": [
    "#interactions_df.groupby(['personId', 'sessionId']).size()[-8845298781299428018].to_dict()\n",
    "#interactions_df[interactions_df['sessionId']==-9220390249094144275]\n",
    "\n",
    "\n",
    "# dict_sessions = {}\n",
    "# for user in users_ids:\n",
    "#     sessions = list(interactions_df.groupby(['personId', 'sessionId']).size()[user].to_dict().keys())\n",
    "#     dict_sessions[user] = sessions\n"
   ]
  },
  {
   "cell_type": "code",
   "execution_count": 67,
   "metadata": {},
   "outputs": [],
   "source": [
    "#len(interactions_df.sessionId.unique())\n",
    "#len(interactions_df[interactions_df['personId']==-9223121837663643404].sessionId.unique())\n",
    "\n",
    "#count_by_session = pd.DataFrame(interactions_df.groupby(['sessionId']).size())\n",
    "#interactions_df.groupby(['sessionId', 'contentId']).size() #['eventStrength'].sum().apply(smooth_user_preference).reset_index()\n"
   ]
  },
  {
   "cell_type": "code",
   "execution_count": null,
   "metadata": {},
   "outputs": [],
   "source": []
  },
  {
   "cell_type": "markdown",
   "metadata": {},
   "source": []
  },
  {
   "cell_type": "code",
   "execution_count": null,
   "metadata": {},
   "outputs": [],
   "source": [
    "\n"
   ]
  },
  {
   "cell_type": "code",
   "execution_count": 114,
   "metadata": {},
   "outputs": [
    {
     "data": {
      "text/plain": [
       "1895"
      ]
     },
     "execution_count": 114,
     "metadata": {},
     "output_type": "execute_result"
    }
   ],
   "source": [
    "interactions_df"
   ]
  },
  {
   "cell_type": "code",
   "execution_count": 2,
   "metadata": {},
   "outputs": [],
   "source": [
    "# interactions_df.personId.unique()\n",
    "# by_user = interactions_df.groupby(['personId', 'contentId']).size().groupby('personId').size()\n",
    "# int_user = interactions_df[interactions_df['personId']==-9223121837663643404]\n",
    "# by_user"
   ]
  },
  {
   "cell_type": "markdown",
   "metadata": {},
   "source": [
    "### Simulate timestamp"
   ]
  },
  {
   "cell_type": "code",
   "execution_count": null,
   "metadata": {},
   "outputs": [],
   "source": []
  }
 ],
 "metadata": {
  "kernelspec": {
   "display_name": "Python 3",
   "language": "python",
   "name": "python3"
  },
  "language_info": {
   "codemirror_mode": {
    "name": "ipython",
    "version": 3
   },
   "file_extension": ".py",
   "mimetype": "text/x-python",
   "name": "python",
   "nbconvert_exporter": "python",
   "pygments_lexer": "ipython3",
   "version": "3.7.3"
  }
 },
 "nbformat": 4,
 "nbformat_minor": 2
}
